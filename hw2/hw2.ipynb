{
 "cells": [
  {
   "cell_type": "markdown",
   "metadata": {
    "id": "RVPIBjwjx6pO"
   },
   "source": [
    "# Word Count, Phrase Analysis, Cross-Corpus Analysis\n",
    "\n",
    "In learning English, there are phrases and words that are overly used and seldom used - it depends on what corpus is being used. Here, we will do word count, phrase analysis and cross-corpus analysis to determine the phrases that are overly used by learners.\n",
    "<br><br>\n",
    "One dataset is taken from [`British National Corpus`](http://www.natcorp.ox.ac.uk/), which is from 100 million word collection of samples of written and spoken language from a wide range of sources, designed to represent a wide cross-section of British English, both spoken and written, from the late twentieth century. Another one is called [`NAIST Lang-8`](https://sites.google.com/site/naistlang8corpora/),a language exchange social networking website geared towards language learners. The website is run by Lang-8 Inc., which is based in Tokyo, Japan.\n",
    "\n",
    "\n",
    "https://drive.google.com/drive/folders/1vtCjRptZL6T4mffzbnqwi5i4WrqVnZHr?usp=sharing\n"
   ]
  },
  {
   "cell_type": "markdown",
   "metadata": {
    "id": "xotpb7p5x6pd"
   },
   "source": [
    "## N-gram counting\n",
    "We will do tokenization and calculation of frequency. The rules of tokenization in this Lab are:\n",
    " 1. Ignore case (e.g., \"The\" is the same as \"the\")\n",
    " 2. Split by white spaces <s>and punctuations</s>\n",
    " 3. Ignore all punctuation\n",
    "<br><br>"
   ]
  },
  {
   "cell_type": "code",
   "execution_count": 1,
   "metadata": {
    "id": "GC_wab2p2Pam"
   },
   "outputs": [],
   "source": [
    "import os\n",
    "import re\n",
    "import string"
   ]
  },
  {
   "cell_type": "code",
   "execution_count": 2,
   "metadata": {},
   "outputs": [
    {
     "name": "stdout",
     "output_type": "stream",
     "text": [
      "['this', 'is', 'an', 'example']\n"
     ]
    }
   ],
   "source": [
    "def tokenize(text):\n",
    "  return re.findall(r\"\\w+\", text.lower())\n",
    "\n",
    "print(tokenize(\"This is an  example.\"))"
   ]
  },
  {
   "cell_type": "code",
   "execution_count": 3,
   "metadata": {},
   "outputs": [
    {
     "name": "stdout",
     "output_type": "stream",
     "text": [
      "Counter({'this': 2, 'is': 2, 'an': 1, 'example': 1, 'great': 1})\n"
     ]
    }
   ],
   "source": [
    "from collections import Counter\n",
    "\n",
    "def calculate_frequency(tokens_ptr):\n",
    "  return Counter(tokens_ptr)\n",
    "\n",
    "print(calculate_frequency(tokenize(\"This is an example. This is great!\")))"
   ]
  },
  {
   "cell_type": "code",
   "execution_count": 4,
   "metadata": {},
   "outputs": [
    {
     "name": "stdout",
     "output_type": "stream",
     "text": [
      "['this is', 'is an', 'an example']\n"
     ]
    }
   ],
   "source": [
    "def get_ngram(tokens_ptr, n=2):\n",
    "  result_ptr = []\n",
    "  for start_idx in range(len(tokens_ptr) - n + 1):\n",
    "    ngram = \"\"\n",
    "    for i in range(start_idx, start_idx + n):\n",
    "      if i != start_idx:\n",
    "        ngram += \" \"\n",
    "      ngram += tokens_ptr[i]\n",
    "    result_ptr.append(ngram)\n",
    "  return result_ptr\n",
    "\n",
    "print(get_ngram(tokenize(\"This is an example.\"), n=2))"
   ]
  },
  {
   "cell_type": "code",
   "execution_count": 5,
   "metadata": {},
   "outputs": [],
   "source": [
    "file_path = os.path.join(\"data\", \"bnc.txt\")\n",
    "BNC_unigram = get_ngram(tokenize(open(file_path).read()), n=1)\n",
    "BNC_unigram_counter = calculate_frequency(BNC_unigram)"
   ]
  },
  {
   "cell_type": "code",
   "execution_count": 6,
   "metadata": {},
   "outputs": [
    {
     "data": {
      "text/plain": [
       "[('the', 4548607),\n",
       " ('of', 2203780),\n",
       " ('to', 1984550),\n",
       " ('and', 1937691),\n",
       " ('a', 1690228),\n",
       " ('in', 1366406),\n",
       " ('it', 858491),\n",
       " ('is', 791690),\n",
       " ('i', 743478),\n",
       " ('that', 725841)]"
      ]
     },
     "execution_count": 6,
     "metadata": {},
     "output_type": "execute_result"
    }
   ],
   "source": [
    "BNC_unigram_counter.most_common(10)"
   ]
  },
  {
   "cell_type": "code",
   "execution_count": 7,
   "metadata": {},
   "outputs": [],
   "source": [
    "file_path = os.path.join(\"data\", \"lang8.txt\")\n",
    "lang_unigram = get_ngram(tokenize(open(file_path).read()), n=1)\n",
    "lang_unigram_counter = calculate_frequency(lang_unigram)"
   ]
  },
  {
   "cell_type": "code",
   "execution_count": 8,
   "metadata": {
    "id": "eZlkiCuQx6pt"
   },
   "outputs": [
    {
     "data": {
      "text/plain": [
       "[('the', 434745),\n",
       " ('of', 231926),\n",
       " ('to', 172112),\n",
       " ('and', 171908),\n",
       " ('in', 131396),\n",
       " ('a', 121043),\n",
       " ('is', 100121),\n",
       " ('that', 71961),\n",
       " ('as', 61207),\n",
       " ('be', 53284)]"
      ]
     },
     "execution_count": 8,
     "metadata": {},
     "output_type": "execute_result"
    }
   ],
   "source": [
    "lang_unigram_counter.most_common(10)"
   ]
  },
  {
   "cell_type": "markdown",
   "metadata": {
    "id": "lPBceKOax6pt"
   },
   "source": [
    "## Rank\n",
    "Rank unigrms by their frequencies. The higher the frequency, the higher the rank. (The most frequent unigram ranks 1.)<br>\n",
    "<span style=\"color: red\">[ TODO ]</span> <u>Rank unigrams for Lang-8 and BNC.</u>."
   ]
  },
  {
   "cell_type": "code",
   "execution_count": 9,
   "metadata": {
    "id": "SH9xlXpBx6pu"
   },
   "outputs": [
    {
     "data": {
      "text/plain": [
       "[('the', 434745),\n",
       " ('of', 231926),\n",
       " ('to', 172112),\n",
       " ('and', 171908),\n",
       " ('in', 131396)]"
      ]
     },
     "execution_count": 9,
     "metadata": {},
     "output_type": "execute_result"
    }
   ],
   "source": [
    "lang_unigram_sorted = lang_unigram_counter.most_common()\n",
    "lang_unigram_sorted[0:5]"
   ]
  },
  {
   "cell_type": "code",
   "execution_count": 10,
   "metadata": {},
   "outputs": [
    {
     "name": "stdout",
     "output_type": "stream",
     "text": [
      "1\n",
      "5\n",
      "41160\n"
     ]
    }
   ],
   "source": [
    "lang_unigram_Rank = {}\n",
    "for idx in range(len(lang_unigram_sorted)):\n",
    "  lang_unigram_Rank[lang_unigram_sorted[idx][0]] = idx + 1\n",
    "print(lang_unigram_Rank[\"the\"]) # rank 1\n",
    "print(lang_unigram_Rank[\"in\"]) # rank 5\n",
    "print(lang_unigram_Rank[\"dont\"])"
   ]
  },
  {
   "cell_type": "code",
   "execution_count": 11,
   "metadata": {},
   "outputs": [
    {
     "data": {
      "text/plain": [
       "[('the', 4548607),\n",
       " ('of', 2203780),\n",
       " ('to', 1984550),\n",
       " ('and', 1937691),\n",
       " ('a', 1690228)]"
      ]
     },
     "execution_count": 11,
     "metadata": {},
     "output_type": "execute_result"
    }
   ],
   "source": [
    "BNC_unigram_sorted = BNC_unigram_counter.most_common()\n",
    "BNC_unigram_sorted[0:5]"
   ]
  },
  {
   "cell_type": "code",
   "execution_count": 12,
   "metadata": {
    "id": "rN3MQTebx6pv"
   },
   "outputs": [
    {
     "name": "stdout",
     "output_type": "stream",
     "text": [
      "1\n",
      "5\n",
      "167461\n"
     ]
    }
   ],
   "source": [
    "BNC_unigram_Rank = {}\n",
    "for idx in range(len(BNC_unigram_sorted)):\n",
    "  BNC_unigram_Rank[BNC_unigram_sorted[idx][0]] = idx + 1\n",
    "print(BNC_unigram_Rank[\"the\"]) # rank 1\n",
    "print(BNC_unigram_Rank[\"a\"]) # rank 5\n",
    "print(BNC_unigram_Rank[\"dont\"])"
   ]
  },
  {
   "cell_type": "markdown",
   "metadata": {
    "id": "pm26VfkDx6pv"
   },
   "source": [
    "## Calculate Rank Ratio\n",
    "In this step, you need to map the same unigram in two dataset, and calculate the Rank Ratio of unigrams.  <br>Please follow the formula for calculating Rank Ratio:<br> \n",
    "<br>\n",
    "\n",
    "$Rank Ratio = \\frac{Rank of BNC }{Rank of Lang8}$\n",
    "<br><br>\n",
    "If the unigram doesn't appear in BNC, the rank of it is treated as 1.\n",
    "\n",
    "<span style=\"color: red\">[ TODO ]</span> Please calculate all rank ratios of unigrams in Lang-8."
   ]
  },
  {
   "cell_type": "code",
   "execution_count": 13,
   "metadata": {
    "id": "kNSj6gbU2Paq"
   },
   "outputs": [
    {
     "data": {
      "text/plain": [
       "[('the', 1.0), ('of', 1.0), ('to', 1.0), ('and', 1.0), ('in', 1.2)]"
      ]
     },
     "execution_count": 13,
     "metadata": {},
     "output_type": "execute_result"
    }
   ],
   "source": [
    "def get_ratios():\n",
    "  ratios_ptr = []\n",
    "  for unigram in lang_unigram_Rank:\n",
    "    bnc_rank = 1\n",
    "    if unigram in BNC_unigram_Rank:\n",
    "      bnc_rank = BNC_unigram_Rank[unigram]\n",
    "    ratios_ptr.append((unigram, bnc_rank / lang_unigram_Rank[unigram]))\n",
    "  return ratios_ptr\n",
    "\n",
    "get_ratios()[0:5]"
   ]
  },
  {
   "cell_type": "markdown",
   "metadata": {
    "id": "7U08oh2Ex6pw"
   },
   "source": [
    "## sort the result\n",
    "<span style=\"color: red\">[ TODO ]</span> Please show top 30 unigrams in Rank Ratio and the value of their Rank Ratio in this format: \n",
    "<br>\n",
    "<img src=\"https://scontent-hkt1-2.xx.fbcdn.net/v/t39.30808-6/307940624_756082125461769_4218487831464443689_n.jpg?_nc_cat=100&ccb=1-7&_nc_sid=730e14&_nc_ohc=M0u8b1s2wakAX_Mgt7E&_nc_ht=scontent-hkt1-2.xx&oh=00_AT_peeQy_D2UyQYlMWbCIZjQTU7F38SJyE2A09J_SnZ-aA&oe=632E03C0\" width=50%>"
   ]
  },
  {
   "cell_type": "code",
   "execution_count": 14,
   "metadata": {
    "id": "MhyGW1jC2Paq",
    "outputId": "f3c349ba-6859-4d68-dff8-4e02d3846c77"
   },
   "outputs": [
    {
     "name": "stdout",
     "output_type": "stream",
     "text": [
      "            unigram  rank ratio\n",
      "276          cannot  377.768953\n",
      "190            2004  320.958115\n",
      "242            2002  200.909465\n",
      "193            2003  179.288660\n",
      "218            2005  113.461187\n",
      "226            2001   94.259912\n",
      "647            2006   86.322531\n",
      "293            1999   78.598639\n",
      "788        internet   63.556401\n",
      "388            1998   60.552699\n",
      "773              eu   52.403101\n",
      "5792           nisa   48.075091\n",
      "5549       radstone   44.609009\n",
      "269            ibid   42.948148\n",
      "4424            uht   42.482938\n",
      "2216          doesn   39.024808\n",
      "5868   anthocyanins   38.943772\n",
      "6803       germline   38.628895\n",
      "1690  globalisation   34.561798\n",
      "6747          creon   33.843806\n",
      "8913         bryman   31.679829\n",
      "5154    pneumophila   31.535984\n",
      "6853       manydown   30.976364\n",
      "3481            wto   30.785181\n",
      "7527   microneedles   30.298751\n",
      "9172           rtas   29.878012\n",
      "453            1997   28.162996\n",
      "8792          punic   27.966223\n",
      "9029           livy   27.242636\n",
      "9307            teg   26.589708\n"
     ]
    }
   ],
   "source": [
    "import pandas as pd\n",
    "\n",
    "frame_ptr = pd.DataFrame(get_ratios(), columns=[\"unigram\", \"rank ratio\"])\n",
    "frame_ptr.sort_values(by=[\"rank ratio\"], ascending=False, inplace=True)\n",
    "print(frame_ptr.head(30))"
   ]
  },
  {
   "cell_type": "markdown",
   "metadata": {
    "id": "nOllPQ9-x6px"
   },
   "source": [
    "## for Bigrams\n",
    "<span style=\"color: red\">[ TODO ]</span> Do the Same Thing for Bigrams  \n",
    "Hint:  \n",
    "1. generate all bigrams for BNC / lang8  \n",
    "2. calculate frequency for each bigrams  \n",
    "3. rank bigrams by frequency  \n",
    "4. calculate the rank ratio of each bigram\n",
    "5. print out the top 30 highest rank ratio bigrams  "
   ]
  },
  {
   "cell_type": "code",
   "execution_count": null,
   "metadata": {
    "id": "zNR5m63D8Zf2"
   },
   "outputs": [],
   "source": []
  },
  {
   "cell_type": "code",
   "execution_count": 15,
   "metadata": {
    "id": "xjBx-rcU2Par",
    "outputId": "d9da3005-d9bf-4af1-b045-def8bfde6194"
   },
   "outputs": [],
   "source": [
    "#### [ TODO ] "
   ]
  },
  {
   "cell_type": "markdown",
   "metadata": {
    "id": "ef-_B3bnx6py"
   },
   "source": [
    "## TA's Notes\n",
    "\n",
    "If you complete the Assignment, please use [this link](https://docs.google.com/spreadsheets/d/1OKbXhcv6E3FEQDPnbHEHEeHvpxv01jxugMP7WwnKqKw/edit#gid=0) to reserve demo time.  \n",
    "The score is only given after TAs review your implementation, so <u>**make sure you make a appointment with a TA before you miss the deadline**</u> .  <br>After demo, please upload your assignment to e-learn website. You just need to hand in this ipynb file and rename it as XXXXXXXXX(Your student ID).ipynb.\n",
    "<br>Note that **late submission will not be allowed**.  "
   ]
  }
 ],
 "metadata": {
  "colab": {
   "collapsed_sections": [],
   "provenance": []
  },
  "kernelspec": {
   "display_name": "Python 3 (ipykernel)",
   "language": "python",
   "name": "python3"
  },
  "language_info": {
   "codemirror_mode": {
    "name": "ipython",
    "version": 3
   },
   "file_extension": ".py",
   "mimetype": "text/x-python",
   "name": "python",
   "nbconvert_exporter": "python",
   "pygments_lexer": "ipython3",
   "version": "3.8.13"
  }
 },
 "nbformat": 4,
 "nbformat_minor": 1
}
