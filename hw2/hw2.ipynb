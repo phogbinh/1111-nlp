{
 "cells": [
  {
   "cell_type": "markdown",
   "metadata": {
    "id": "RVPIBjwjx6pO"
   },
   "source": [
    "# Word Count, Phrase Analysis, Cross-Corpus Analysis\n",
    "\n",
    "In learning English, there are phrases and words that are overly used and seldom used - it depends on what corpus is being used. Here, we will do word count, phrase analysis and cross-corpus analysis to determine the phrases that are overly used by learners.\n",
    "<br><br>\n",
    "One dataset is taken from [`British National Corpus`](http://www.natcorp.ox.ac.uk/), which is from 100 million word collection of samples of written and spoken language from a wide range of sources, designed to represent a wide cross-section of British English, both spoken and written, from the late twentieth century. Another one is called [`NAIST Lang-8`](https://sites.google.com/site/naistlang8corpora/),a language exchange social networking website geared towards language learners. The website is run by Lang-8 Inc., which is based in Tokyo, Japan.\n",
    "\n",
    "\n",
    "https://drive.google.com/drive/folders/1vtCjRptZL6T4mffzbnqwi5i4WrqVnZHr?usp=sharing\n"
   ]
  },
  {
   "cell_type": "markdown",
   "metadata": {
    "id": "xotpb7p5x6pd"
   },
   "source": [
    "## N-gram counting\n",
    "We will do tokenization and calculation of frequency. The rules of tokenization in this Lab are:\n",
    " 1. Ignore case (e.g., \"The\" is the same as \"the\")\n",
    " 2. Split by white spaces <s>and punctuations</s>\n",
    " 3. Ignore all punctuation\n",
    "<br><br>"
   ]
  },
  {
   "cell_type": "code",
   "execution_count": 1,
   "metadata": {
    "id": "GC_wab2p2Pam"
   },
   "outputs": [],
   "source": [
    "import os\n",
    "import re"
   ]
  },
  {
   "cell_type": "code",
   "execution_count": 2,
   "metadata": {},
   "outputs": [
    {
     "name": "stdout",
     "output_type": "stream",
     "text": [
      "['this', 'is', 'an', 'example', 'don', 't', 'it']\n"
     ]
    }
   ],
   "source": [
    "def tokenize(text):\n",
    "  return re.findall(r\"[a-z]+\", text.lower())\n",
    "\n",
    "print(tokenize(\"This is an  example. Don't 123 it!\"))"
   ]
  },
  {
   "cell_type": "code",
   "execution_count": 3,
   "metadata": {},
   "outputs": [
    {
     "name": "stdout",
     "output_type": "stream",
     "text": [
      "Counter({'this': 2, 'is': 2, 'an': 1, 'example': 1, 'great': 1})\n"
     ]
    }
   ],
   "source": [
    "from collections import Counter\n",
    "\n",
    "def calculate_frequency(tokens_ptr):\n",
    "  return Counter(tokens_ptr)\n",
    "\n",
    "print(calculate_frequency(tokenize(\"This is an example. This is great!\")))"
   ]
  },
  {
   "cell_type": "code",
   "execution_count": 4,
   "metadata": {},
   "outputs": [
    {
     "name": "stdout",
     "output_type": "stream",
     "text": [
      "['this is', 'is an', 'an example']\n"
     ]
    }
   ],
   "source": [
    "def get_ngram(tokens_ptr, n=2):\n",
    "  result_ptr = []\n",
    "  for start_idx in range(len(tokens_ptr) - n + 1):\n",
    "    ngram = \"\"\n",
    "    for i in range(start_idx, start_idx + n):\n",
    "      if i != start_idx:\n",
    "        ngram += \" \"\n",
    "      ngram += tokens_ptr[i]\n",
    "    result_ptr.append(ngram)\n",
    "  return result_ptr\n",
    "\n",
    "print(get_ngram(tokenize(\"This is an example.\"), n=2))"
   ]
  },
  {
   "cell_type": "code",
   "execution_count": 5,
   "metadata": {},
   "outputs": [],
   "source": [
    "file_path = os.path.join(\"data\", \"bnc.txt\")\n",
    "BNC_unigram = get_ngram(tokenize(open(file_path).read()), n=1)\n",
    "BNC_unigram_counter = calculate_frequency(BNC_unigram)"
   ]
  },
  {
   "cell_type": "code",
   "execution_count": 6,
   "metadata": {},
   "outputs": [
    {
     "data": {
      "text/plain": [
       "[('the', 4548618),\n",
       " ('of', 2203787),\n",
       " ('to', 1984568),\n",
       " ('and', 1937703),\n",
       " ('a', 1694756),\n",
       " ('in', 1367697),\n",
       " ('it', 858498),\n",
       " ('is', 791768),\n",
       " ('i', 743919),\n",
       " ('that', 725841)]"
      ]
     },
     "execution_count": 6,
     "metadata": {},
     "output_type": "execute_result"
    }
   ],
   "source": [
    "BNC_unigram_counter.most_common(10)"
   ]
  },
  {
   "cell_type": "code",
   "execution_count": 7,
   "metadata": {},
   "outputs": [],
   "source": [
    "file_path = os.path.join(\"data\", \"lang8.txt\")\n",
    "lang_unigram = get_ngram(tokenize(open(file_path).read()), n=1)\n",
    "lang_unigram_counter = calculate_frequency(lang_unigram)"
   ]
  },
  {
   "cell_type": "code",
   "execution_count": 8,
   "metadata": {
    "id": "eZlkiCuQx6pt"
   },
   "outputs": [
    {
     "data": {
      "text/plain": [
       "[('the', 434759),\n",
       " ('of', 231932),\n",
       " ('to', 172145),\n",
       " ('and', 171913),\n",
       " ('in', 131414),\n",
       " ('a', 121824),\n",
       " ('is', 100122),\n",
       " ('that', 71961),\n",
       " ('as', 61219),\n",
       " ('be', 53291)]"
      ]
     },
     "execution_count": 8,
     "metadata": {},
     "output_type": "execute_result"
    }
   ],
   "source": [
    "lang_unigram_counter.most_common(10)"
   ]
  },
  {
   "cell_type": "markdown",
   "metadata": {
    "id": "lPBceKOax6pt"
   },
   "source": [
    "## Rank\n",
    "Rank unigrms by their frequencies. The higher the frequency, the higher the rank. (The most frequent unigram ranks 1.)<br>\n",
    "<span style=\"color: red\">[ TODO ]</span> <u>Rank unigrams for Lang-8 and BNC.</u>."
   ]
  },
  {
   "cell_type": "code",
   "execution_count": 9,
   "metadata": {
    "id": "SH9xlXpBx6pu"
   },
   "outputs": [
    {
     "data": {
      "text/plain": [
       "[('the', 434759),\n",
       " ('of', 231932),\n",
       " ('to', 172145),\n",
       " ('and', 171913),\n",
       " ('in', 131414)]"
      ]
     },
     "execution_count": 9,
     "metadata": {},
     "output_type": "execute_result"
    }
   ],
   "source": [
    "lang_unigram_sorted = lang_unigram_counter.most_common()\n",
    "lang_unigram_sorted[0:5]"
   ]
  },
  {
   "cell_type": "code",
   "execution_count": 10,
   "metadata": {},
   "outputs": [
    {
     "name": "stdout",
     "output_type": "stream",
     "text": [
      "1\n",
      "5\n",
      "38685\n"
     ]
    }
   ],
   "source": [
    "lang_unigram_Rank = {}\n",
    "for idx in range(len(lang_unigram_sorted)):\n",
    "  lang_unigram_Rank[lang_unigram_sorted[idx][0]] = idx + 1\n",
    "print(lang_unigram_Rank[\"the\"]) # rank 1\n",
    "print(lang_unigram_Rank[\"in\"]) # rank 5\n",
    "print(lang_unigram_Rank[\"dont\"])"
   ]
  },
  {
   "cell_type": "code",
   "execution_count": 11,
   "metadata": {},
   "outputs": [
    {
     "data": {
      "text/plain": [
       "[('the', 4548618),\n",
       " ('of', 2203787),\n",
       " ('to', 1984568),\n",
       " ('and', 1937703),\n",
       " ('a', 1694756)]"
      ]
     },
     "execution_count": 11,
     "metadata": {},
     "output_type": "execute_result"
    }
   ],
   "source": [
    "BNC_unigram_sorted = BNC_unigram_counter.most_common()\n",
    "BNC_unigram_sorted[0:5]"
   ]
  },
  {
   "cell_type": "code",
   "execution_count": 12,
   "metadata": {
    "id": "rN3MQTebx6pv"
   },
   "outputs": [
    {
     "name": "stdout",
     "output_type": "stream",
     "text": [
      "1\n",
      "5\n",
      "154212\n"
     ]
    }
   ],
   "source": [
    "BNC_unigram_Rank = {}\n",
    "for idx in range(len(BNC_unigram_sorted)):\n",
    "  BNC_unigram_Rank[BNC_unigram_sorted[idx][0]] = idx + 1\n",
    "print(BNC_unigram_Rank[\"the\"]) # rank 1\n",
    "print(BNC_unigram_Rank[\"a\"]) # rank 5\n",
    "print(BNC_unigram_Rank[\"dont\"])"
   ]
  },
  {
   "cell_type": "markdown",
   "metadata": {
    "id": "pm26VfkDx6pv"
   },
   "source": [
    "## Calculate Rank Ratio\n",
    "In this step, you need to map the same unigram in two dataset, and calculate the Rank Ratio of unigrams.  <br>Please follow the formula for calculating Rank Ratio:<br> \n",
    "<br>\n",
    "\n",
    "$Rank Ratio = \\frac{Rank of BNC }{Rank of Lang8}$\n",
    "<br><br>\n",
    "If the unigram doesn't appear in BNC, the rank of it is treated as 1.\n",
    "\n",
    "<span style=\"color: red\">[ TODO ]</span> Please calculate all rank ratios of unigrams in Lang-8."
   ]
  },
  {
   "cell_type": "code",
   "execution_count": 13,
   "metadata": {
    "id": "kNSj6gbU2Paq"
   },
   "outputs": [
    {
     "data": {
      "text/plain": [
       "[('the', 1.0), ('of', 1.0), ('to', 1.0), ('and', 1.0), ('in', 1.2)]"
      ]
     },
     "execution_count": 13,
     "metadata": {},
     "output_type": "execute_result"
    }
   ],
   "source": [
    "def get_ratios(lang_ngram_Rank, BNC_ngram_Rank):\n",
    "  ratios_ptr = []\n",
    "  for unigram in lang_ngram_Rank:\n",
    "    bnc_rank = 1\n",
    "    if unigram in BNC_ngram_Rank:\n",
    "      bnc_rank = BNC_ngram_Rank[unigram]\n",
    "    ratios_ptr.append((unigram, bnc_rank / lang_ngram_Rank[unigram]))\n",
    "  return ratios_ptr\n",
    "\n",
    "get_ratios(lang_unigram_Rank, BNC_unigram_Rank)[0:5]"
   ]
  },
  {
   "cell_type": "markdown",
   "metadata": {
    "id": "7U08oh2Ex6pw"
   },
   "source": [
    "## sort the result\n",
    "<span style=\"color: red\">[ TODO ]</span> Please show top 30 unigrams in Rank Ratio and the value of their Rank Ratio in this format: \n",
    "<br>\n",
    "<img src=\"https://scontent-hkt1-2.xx.fbcdn.net/v/t39.30808-6/307940624_756082125461769_4218487831464443689_n.jpg?_nc_cat=100&ccb=1-7&_nc_sid=730e14&_nc_ohc=M0u8b1s2wakAX_Mgt7E&_nc_ht=scontent-hkt1-2.xx&oh=00_AT_peeQy_D2UyQYlMWbCIZjQTU7F38SJyE2A09J_SnZ-aA&oe=632E03C0\" width=50%>"
   ]
  },
  {
   "cell_type": "code",
   "execution_count": 14,
   "metadata": {
    "id": "MhyGW1jC2Paq",
    "outputId": "f3c349ba-6859-4d68-dff8-4e02d3846c77"
   },
   "outputs": [
    {
     "name": "stdout",
     "output_type": "stream",
     "text": [
      "            unigram  rank ratio\n",
      "264          cannot  372.022642\n",
      "760        internet   63.140604\n",
      "743              eu   48.044355\n",
      "5626           nisa   44.252532\n",
      "257            ibid   43.945736\n",
      "5391       radstone   41.311758\n",
      "4307            uht   39.821031\n",
      "2156          doesn   38.055169\n",
      "5701   anthocyanins   36.028937\n",
      "6616       germline   35.516397\n",
      "1643  globalisation   33.952555\n",
      "5579            mpa   31.855197\n",
      "6564          creon   31.266108\n",
      "5006    pneumophila   30.003395\n",
      "3390            wto   29.777942\n",
      "8636         bryman   29.211184\n",
      "6664       manydown   28.852813\n",
      "7318   microneedles   28.007925\n",
      "8888           rtas   27.561368\n",
      "8520          punic   25.952940\n",
      "4454          iliad   25.399776\n",
      "8757           livy   25.261018\n",
      "9018            teg   24.688990\n",
      "6421            psk   24.615852\n",
      "6450         qualia   24.407534\n",
      "6712      ductility   24.401013\n",
      "9164            wep   24.318058\n",
      "7744           perl   23.835765\n",
      "6205          drude   23.759587\n",
      "9577         hashmi   23.583316\n"
     ]
    }
   ],
   "source": [
    "import pandas as pd\n",
    "\n",
    "frame_ptr = pd.DataFrame(get_ratios(lang_unigram_Rank, BNC_unigram_Rank), columns=[\"unigram\", \"rank ratio\"])\n",
    "frame_ptr.sort_values(by=[\"rank ratio\"], ascending=False, inplace=True)\n",
    "print(frame_ptr.head(30))"
   ]
  },
  {
   "cell_type": "markdown",
   "metadata": {
    "id": "nOllPQ9-x6px"
   },
   "source": [
    "## for Bigrams\n",
    "<span style=\"color: red\">[ TODO ]</span> Do the Same Thing for Bigrams  \n",
    "Hint:  \n",
    "1. generate all bigrams for BNC / lang8  \n",
    "2. calculate frequency for each bigrams  \n",
    "3. rank bigrams by frequency  \n",
    "4. calculate the rank ratio of each bigram\n",
    "5. print out the top 30 highest rank ratio bigrams  "
   ]
  },
  {
   "cell_type": "code",
   "execution_count": 15,
   "metadata": {},
   "outputs": [
    {
     "name": "stdout",
     "output_type": "stream",
     "text": [
      "['this', 'is', 'an', 'example', 'dont', 'ill', 'do', 'it', 'p', 'p']\n"
     ]
    }
   ],
   "source": [
    "import string\n",
    "\n",
    "def tokenize2(text):\n",
    "  return list(filter(lambda x: (x != \"\" and x != \"ibid\"), text.translate(str.maketrans(\"\", \"\", string.punctuation)).translate(str.maketrans(\"\", \"\", string.digits)).lower().split(\" \")))\n",
    "\n",
    "print(tokenize2(\"This is an  example. Don't 123 I'll do it p28 ibid, p300 ibid!\"))"
   ]
  },
  {
   "cell_type": "code",
   "execution_count": 16,
   "metadata": {
    "id": "zNR5m63D8Zf2"
   },
   "outputs": [],
   "source": [
    "file_path = os.path.join(\"data\", \"bnc.txt\")\n",
    "BNC_bigram = get_ngram(tokenize2(open(file_path).read()), n=2)\n",
    "BNC_bigram_counter = calculate_frequency(BNC_bigram)"
   ]
  },
  {
   "cell_type": "code",
   "execution_count": 17,
   "metadata": {
    "id": "xjBx-rcU2Par",
    "outputId": "d9da3005-d9bf-4af1-b045-def8bfde6194"
   },
   "outputs": [
    {
     "data": {
      "text/plain": [
       "[('of the', 535167),\n",
       " ('in the', 353783),\n",
       " ('to the', 210576),\n",
       " ('on the', 154295),\n",
       " ('to be', 141156),\n",
       " ('and the', 135752),\n",
       " ('for the', 118716),\n",
       " ('at the', 106194),\n",
       " ('with the', 90512),\n",
       " ('from the', 90086)]"
      ]
     },
     "execution_count": 17,
     "metadata": {},
     "output_type": "execute_result"
    }
   ],
   "source": [
    "BNC_bigram_counter.most_common(10)"
   ]
  },
  {
   "cell_type": "code",
   "execution_count": 18,
   "metadata": {},
   "outputs": [
    {
     "data": {
      "text/plain": [
       "1"
      ]
     },
     "execution_count": 18,
     "metadata": {},
     "output_type": "execute_result"
    }
   ],
   "source": [
    "BNC_bigram_counter[\"figure figure\"]"
   ]
  },
  {
   "cell_type": "code",
   "execution_count": 19,
   "metadata": {},
   "outputs": [],
   "source": [
    "file_path = os.path.join(\"data\", \"lang8.txt\")\n",
    "lang_bigram = get_ngram(tokenize2(open(file_path).read()), n=2)\n",
    "lang_bigram_counter = calculate_frequency(lang_bigram)"
   ]
  },
  {
   "cell_type": "code",
   "execution_count": 20,
   "metadata": {},
   "outputs": [
    {
     "data": {
      "text/plain": [
       "[('of the', 58205),\n",
       " ('in the', 34158),\n",
       " ('to the', 21928),\n",
       " ('it is', 15516),\n",
       " ('and the', 14529),\n",
       " ('to be', 13829),\n",
       " ('on the', 12695),\n",
       " ('that the', 12531),\n",
       " ('for the', 10683),\n",
       " ('can be', 9779)]"
      ]
     },
     "execution_count": 20,
     "metadata": {},
     "output_type": "execute_result"
    }
   ],
   "source": [
    "lang_bigram_counter.most_common(10)"
   ]
  },
  {
   "cell_type": "code",
   "execution_count": 21,
   "metadata": {},
   "outputs": [
    {
     "data": {
      "text/plain": [
       "334"
      ]
     },
     "execution_count": 21,
     "metadata": {},
     "output_type": "execute_result"
    }
   ],
   "source": [
    "lang_bigram_counter[\"figure figure\"]"
   ]
  },
  {
   "cell_type": "code",
   "execution_count": 22,
   "metadata": {},
   "outputs": [
    {
     "data": {
      "text/plain": [
       "[('of the', 58205),\n",
       " ('in the', 34158),\n",
       " ('to the', 21928),\n",
       " ('it is', 15516),\n",
       " ('and the', 14529)]"
      ]
     },
     "execution_count": 22,
     "metadata": {},
     "output_type": "execute_result"
    }
   ],
   "source": [
    "lang_bigram_sorted = lang_bigram_counter.most_common()\n",
    "lang_bigram_sorted[0:5]"
   ]
  },
  {
   "cell_type": "code",
   "execution_count": 23,
   "metadata": {},
   "outputs": [
    {
     "name": "stdout",
     "output_type": "stream",
     "text": [
      "1\n",
      "5\n"
     ]
    }
   ],
   "source": [
    "lang_bigram_Rank = {}\n",
    "for idx in range(len(lang_bigram_sorted)):\n",
    "  lang_bigram_Rank[lang_bigram_sorted[idx][0]] = idx + 1\n",
    "print(lang_bigram_Rank[\"of the\"]) # rank 1\n",
    "print(lang_bigram_Rank[\"and the\"]) # rank 5"
   ]
  },
  {
   "cell_type": "code",
   "execution_count": 24,
   "metadata": {},
   "outputs": [
    {
     "data": {
      "text/plain": [
       "[('of the', 535167),\n",
       " ('in the', 353783),\n",
       " ('to the', 210576),\n",
       " ('on the', 154295),\n",
       " ('to be', 141156)]"
      ]
     },
     "execution_count": 24,
     "metadata": {},
     "output_type": "execute_result"
    }
   ],
   "source": [
    "BNC_bigram_sorted = BNC_bigram_counter.most_common()\n",
    "BNC_bigram_sorted[0:5]"
   ]
  },
  {
   "cell_type": "code",
   "execution_count": 25,
   "metadata": {},
   "outputs": [
    {
     "name": "stdout",
     "output_type": "stream",
     "text": [
      "1\n",
      "5\n"
     ]
    }
   ],
   "source": [
    "BNC_bigram_Rank = {}\n",
    "for idx in range(len(BNC_bigram_sorted)):\n",
    "  BNC_bigram_Rank[BNC_bigram_sorted[idx][0]] = idx + 1\n",
    "print(BNC_bigram_Rank[\"of the\"]) # rank 1\n",
    "print(BNC_bigram_Rank[\"to be\"]) # rank 5"
   ]
  },
  {
   "cell_type": "code",
   "execution_count": 26,
   "metadata": {},
   "outputs": [
    {
     "name": "stdout",
     "output_type": "stream",
     "text": [
      "                       bigram   rank ratio\n",
      "1152            figure figure  5414.542931\n",
      "779              the internet  1889.560256\n",
      "5286           heat exchanger  1811.344430\n",
      "1981             the companys  1655.886478\n",
      "6744         exam performance  1655.501853\n",
      "7261           youngs modulus  1335.816579\n",
      "7002                   i dont  1256.730258\n",
      "8549           child soldiers  1056.077427\n",
      "7412        birthweight ratio  1051.199379\n",
      "10110  manufacturing strategy   934.913658\n",
      "10991          ottoman empire   900.575055\n",
      "10526         induction motor   894.852665\n",
      "10784          appendix shows   851.602225\n",
      "11791        history relevant   822.035448\n",
      "11761           rate constant   813.736524\n",
      "10755            fresh breath   812.470342\n",
      "12314                tort law   802.426553\n",
      "13150    genetically modified   762.975667\n",
      "8905             internet and   752.021109\n",
      "12928           torrington et   733.173641\n",
      "10546  phonological processes   730.165450\n",
      "15499        yield management   721.467677\n",
      "10779        emotional labour   719.982096\n",
      "9751               based care   694.092494\n",
      "202                this essay   686.527094\n",
      "4430                of womens   683.937035\n",
      "16017       assurance schemes   674.003746\n",
      "9752                  the wto   664.198195\n",
      "5731              open source   662.261165\n",
      "14452                   eu is   658.477963\n"
     ]
    }
   ],
   "source": [
    "frame_ptr = pd.DataFrame(get_ratios(lang_bigram_Rank, BNC_bigram_Rank), columns=[\"bigram\", \"rank ratio\"])\n",
    "frame_ptr.sort_values(by=[\"rank ratio\"], ascending=False, inplace=True)\n",
    "print(frame_ptr.head(30))"
   ]
  },
  {
   "cell_type": "markdown",
   "metadata": {
    "id": "ef-_B3bnx6py"
   },
   "source": [
    "## TA's Notes\n",
    "\n",
    "If you complete the Assignment, please use [this link](https://docs.google.com/spreadsheets/d/1OKbXhcv6E3FEQDPnbHEHEeHvpxv01jxugMP7WwnKqKw/edit#gid=0) to reserve demo time.  \n",
    "The score is only given after TAs review your implementation, so <u>**make sure you make a appointment with a TA before you miss the deadline**</u> .  <br>After demo, please upload your assignment to e-learn website. You just need to hand in this ipynb file and rename it as XXXXXXXXX(Your student ID).ipynb.\n",
    "<br>Note that **late submission will not be allowed**.  "
   ]
  }
 ],
 "metadata": {
  "colab": {
   "collapsed_sections": [],
   "provenance": []
  },
  "kernelspec": {
   "display_name": "Python 3 (ipykernel)",
   "language": "python",
   "name": "python3"
  },
  "language_info": {
   "codemirror_mode": {
    "name": "ipython",
    "version": 3
   },
   "file_extension": ".py",
   "mimetype": "text/x-python",
   "name": "python",
   "nbconvert_exporter": "python",
   "pygments_lexer": "ipython3",
   "version": "3.8.13"
  }
 },
 "nbformat": 4,
 "nbformat_minor": 1
}
