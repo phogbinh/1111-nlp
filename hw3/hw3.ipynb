{
 "cells": [
  {
   "cell_type": "markdown",
   "id": "ab330f94",
   "metadata": {},
   "source": [
    "# Bigram Counter\n",
    "BNC and Lang-8 bigrams are fetched in this section."
   ]
  },
  {
   "cell_type": "code",
   "execution_count": 1,
   "id": "46c7460e",
   "metadata": {},
   "outputs": [
    {
     "name": "stdout",
     "output_type": "stream",
     "text": [
      "A -\tZZ0 -\ta -\t1\r\n",
      "A -RNA\tZZ0 AJ0\ta -rna\t19\r\n",
      "A A\tAT0 AT0\ta a\t54\r\n",
      "A A\tNP0 NP0\ta a\t12\r\n",
      "A A\tZZ0 ZZ0\ta a\t53\r\n",
      "A AND\tZZ0 CJC\ta and\t2\r\n",
      "A Aaby\tNP0 NP0-NN1\ta aaby\t1\r\n",
      "A Ability\tZZ0 NN1\ta ability\t1\r\n",
      "A Ackroyd\tZZ0 NP0\ta ackroyd\t1\r\n",
      "A Acky\tUNC NP0\ta acky\t1\r\n"
     ]
    }
   ],
   "source": [
    "! egrep \"^([A-Za-z\\-]+) ([A-Za-z\\-]+)\\t\" BNC.2w.c.txt > bnc.txt\n",
    "! head bnc.txt"
   ]
  },
  {
   "cell_type": "code",
   "execution_count": 2,
   "id": "b912b056",
   "metadata": {},
   "outputs": [
    {
     "name": "stdout",
     "output_type": "stream",
     "text": [
      "Counter({'british accident': 1, 'appalling accident': 1})\n"
     ]
    }
   ],
   "source": [
    "from collections import Counter\n",
    "\n",
    "def get_counter(text):\n",
    "  counter_ptr = Counter()\n",
    "  for line in text.split(\"\\n\")[:-1]:\n",
    "    tokens_ptr = line.split(\"\\t\")\n",
    "    bigram = tokens_ptr[2]\n",
    "    frequency = int(tokens_ptr[3])\n",
    "    counter_ptr[bigram] = frequency\n",
    "  return counter_ptr\n",
    "\n",
    "print(get_counter(\"British accident\\tAJ0 NN1\\tbritish accident\\t1\\nappalling accident\\tAJ0 NN1\\tappalling accident\\t1\\n\"))"
   ]
  },
  {
   "cell_type": "code",
   "execution_count": 3,
   "id": "3493e749",
   "metadata": {},
   "outputs": [
    {
     "data": {
      "text/plain": [
       "15394941"
      ]
     },
     "execution_count": 3,
     "metadata": {},
     "output_type": "execute_result"
    }
   ],
   "source": [
    "BNC_bigram_counter = get_counter(open(\"bnc.txt\").read())\n",
    "sum(BNC_bigram_counter.values())"
   ]
  },
  {
   "cell_type": "code",
   "execution_count": 4,
   "id": "02d4f10e",
   "metadata": {},
   "outputs": [
    {
     "data": {
      "text/plain": [
       "[('at the', 12086),\n",
       " ('on the', 12064),\n",
       " ('they be', 8449),\n",
       " ('there be', 7227),\n",
       " ('in this', 6618),\n",
       " ('possible to', 6499),\n",
       " ('and then', 5915),\n",
       " ('it would', 5507),\n",
       " ('some of', 4306),\n",
       " ('during the', 3929)]"
      ]
     },
     "execution_count": 4,
     "metadata": {},
     "output_type": "execute_result"
    }
   ],
   "source": [
    "BNC_bigram_counter.most_common(10)"
   ]
  },
  {
   "cell_type": "code",
   "execution_count": 5,
   "id": "e9aead28",
   "metadata": {},
   "outputs": [
    {
     "data": {
      "text/plain": [
       "1"
      ]
     },
     "execution_count": 5,
     "metadata": {},
     "output_type": "execute_result"
    }
   ],
   "source": [
    "BNC_bigram_counter[\"big accident\"]"
   ]
  },
  {
   "cell_type": "code",
   "execution_count": 6,
   "id": "e58030b5",
   "metadata": {},
   "outputs": [
    {
     "name": "stdout",
     "output_type": "stream",
     "text": [
      "['this', 'is', 'an', 'example', 'dont', '123', 'ill', 'do', 'it', 'p28', 'ibid', 'p300', 'ibid']\n"
     ]
    }
   ],
   "source": [
    "import string\n",
    "\n",
    "def tokenize(text):\n",
    "  return list(filter(None, text.translate(str.maketrans(\"\", \"\", string.punctuation)).lower().split(\" \")))\n",
    "\n",
    "print(tokenize(\"This is an  example. Don't 123 I'll do it p28 ibid, p300 ibid!\"))"
   ]
  },
  {
   "cell_type": "code",
   "execution_count": 7,
   "id": "66892f59",
   "metadata": {},
   "outputs": [
    {
     "name": "stdout",
     "output_type": "stream",
     "text": [
      "['this is', 'is an', 'an example']\n"
     ]
    }
   ],
   "source": [
    "def get_ngram(tokens_ptr, n=2):\n",
    "  result_ptr = []\n",
    "  for start_idx in range(len(tokens_ptr) - n + 1):\n",
    "    ngram = \"\"\n",
    "    for i in range(start_idx, start_idx + n):\n",
    "      if i != start_idx:\n",
    "        ngram += \" \"\n",
    "      ngram += tokens_ptr[i]\n",
    "    result_ptr.append(ngram)\n",
    "  return result_ptr\n",
    "\n",
    "print(get_ngram(tokenize(\"This is an example.\"), n=2))"
   ]
  },
  {
   "cell_type": "code",
   "execution_count": 8,
   "id": "040f3685",
   "metadata": {},
   "outputs": [
    {
     "name": "stdout",
     "output_type": "stream",
     "text": [
      "Counter({'this': 2, 'is': 2, 'an': 1, 'example': 1, 'great': 1})\n"
     ]
    }
   ],
   "source": [
    "def calculate_frequency(tokens_ptr):\n",
    "  return Counter(tokens_ptr)\n",
    "\n",
    "print(calculate_frequency(tokenize(\"This is an example. This is great!\")))"
   ]
  },
  {
   "cell_type": "code",
   "execution_count": 9,
   "id": "27cd6ffc",
   "metadata": {},
   "outputs": [
    {
     "data": {
      "text/plain": [
       "24159206"
      ]
     },
     "execution_count": 9,
     "metadata": {},
     "output_type": "execute_result"
    }
   ],
   "source": [
    "lang_bigram = get_ngram(tokenize(open(\"clang8.txt\").read()), n=2)\n",
    "lang_bigram_counter = calculate_frequency(lang_bigram)\n",
    "sum(lang_bigram_counter.values())"
   ]
  },
  {
   "cell_type": "code",
   "execution_count": 10,
   "id": "b695a5de",
   "metadata": {},
   "outputs": [
    {
     "data": {
      "text/plain": [
       "[('in the', 69569),\n",
       " ('want to', 61005),\n",
       " ('of the', 59215),\n",
       " ('do nt', 54006),\n",
       " ('i have', 46139),\n",
       " ('\\ni m', 43318),\n",
       " ('to the', 41491),\n",
       " ('i was', 39953),\n",
       " ('i m', 39225),\n",
       " ('and i', 38296)]"
      ]
     },
     "execution_count": 10,
     "metadata": {},
     "output_type": "execute_result"
    }
   ],
   "source": [
    "lang_bigram_counter.most_common(10)"
   ]
  },
  {
   "cell_type": "code",
   "execution_count": 11,
   "id": "14e561f2",
   "metadata": {},
   "outputs": [
    {
     "data": {
      "text/plain": [
       "21"
      ]
     },
     "execution_count": 11,
     "metadata": {},
     "output_type": "execute_result"
    }
   ],
   "source": [
    "lang_bigram_counter[\"big accident\"]"
   ]
  },
  {
   "cell_type": "markdown",
   "id": "b792f386",
   "metadata": {},
   "source": [
    "# Ranking\n",
    "Get the table out bae."
   ]
  },
  {
   "cell_type": "code",
   "execution_count": 12,
   "id": "4faf59f6",
   "metadata": {},
   "outputs": [
    {
     "name": "stdout",
     "output_type": "stream",
     "text": [
      "British accident\tAJ0 NN1\tbritish accident\t1\r\n",
      "Chernobyl-type accident\tAJ0 NN1\tchernobyl-type accident\t1\r\n",
      "Chernobyl-type accident\tAJ0-NN1 NN1\tchernobyl-type accident\t1\r\n",
      "FATAL accident\tAJ0 NN1\tfatal accident\t1\r\n",
      "Ford-approved accident\tAJ0-NN1 NN1\tford-approved accident\t1\r\n",
      "French accident\tAJ0-NN1 NN1\tfrench accident\t1\r\n",
      "Nasty accident\tAJ0 NN1\tnasty accident\t2\r\n",
      "Palazzese accident\tAJ0 NN1\tpalazzese accident\t1\r\n",
      "Personal accident\tAJ0 NN1\tpersonal accident\t1\r\n",
      "TMI accident\tAJ0-NN1 NN1\ttmi accident\t6\r\n"
     ]
    }
   ],
   "source": [
    "! egrep \"^(.*?) accident\\t(AJ0|aj0)\" bnc.txt > bnc_accident.txt\n",
    "! head bnc_accident.txt"
   ]
  },
  {
   "cell_type": "code",
   "execution_count": 13,
   "id": "d7082e77",
   "metadata": {},
   "outputs": [],
   "source": [
    "BNC_accident_bigram_counter = get_counter(open(\"bnc_accident.txt\").read())"
   ]
  },
  {
   "cell_type": "code",
   "execution_count": 14,
   "id": "6b9743f7",
   "metadata": {},
   "outputs": [
    {
     "data": {
      "text/plain": [
       "[('serious accident', 61),\n",
       " ('tragic accident', 32),\n",
       " ('terrible accident', 26),\n",
       " ('major accident', 23),\n",
       " ('industrial accident', 18),\n",
       " ('bad accident', 16),\n",
       " ('unfortunate accident', 16),\n",
       " ('nasty accident', 15),\n",
       " ('little accident', 15),\n",
       " ('horrific accident', 12)]"
      ]
     },
     "execution_count": 14,
     "metadata": {},
     "output_type": "execute_result"
    }
   ],
   "source": [
    "BNC_accident_bigram_counter.most_common(10)"
   ]
  },
  {
   "cell_type": "code",
   "execution_count": 15,
   "id": "cc56ba07",
   "metadata": {},
   "outputs": [
    {
     "data": {
      "text/plain": [
       "[('serious accident', 61),\n",
       " ('tragic accident', 32),\n",
       " ('terrible accident', 26),\n",
       " ('major accident', 23),\n",
       " ('industrial accident', 18)]"
      ]
     },
     "execution_count": 15,
     "metadata": {},
     "output_type": "execute_result"
    }
   ],
   "source": [
    "BNC_accident_bigram_sorted = BNC_accident_bigram_counter.most_common()\n",
    "BNC_accident_bigram_sorted[0:5]"
   ]
  },
  {
   "cell_type": "code",
   "execution_count": 16,
   "id": "cdca851b",
   "metadata": {},
   "outputs": [
    {
     "data": {
      "text/plain": [
       "[('serious accident', 13),\n",
       " ('tragic accident', 4),\n",
       " ('terrible accident', 19),\n",
       " ('major accident', 1),\n",
       " ('industrial accident', 1)]"
      ]
     },
     "execution_count": 16,
     "metadata": {},
     "output_type": "execute_result"
    }
   ],
   "source": [
    "lang_accident_bigram = []\n",
    "for tuple_ptr in BNC_accident_bigram_sorted:\n",
    "  lang_accident_bigram.append((tuple_ptr[0], lang_bigram_counter[tuple_ptr[0]]))\n",
    "lang_accident_bigram[0:5]"
   ]
  },
  {
   "cell_type": "code",
   "execution_count": 17,
   "id": "39582b3f",
   "metadata": {},
   "outputs": [
    {
     "data": {
      "text/plain": [
       "[('nuclear accident', 46),\n",
       " ('big accident', 21),\n",
       " ('terrible accident', 19),\n",
       " ('bad accident', 17),\n",
       " ('serious accident', 13)]"
      ]
     },
     "execution_count": 17,
     "metadata": {},
     "output_type": "execute_result"
    }
   ],
   "source": [
    "lang_accident_bigram_sorted = sorted(lang_accident_bigram, key=lambda x: x[1], reverse=True)\n",
    "lang_accident_bigram_sorted[0:5]"
   ]
  },
  {
   "cell_type": "code",
   "execution_count": 18,
   "id": "05400b24",
   "metadata": {},
   "outputs": [],
   "source": [
    "def get_bigram_Rank(bigram_sorted):\n",
    "  bigram_Rank = {}\n",
    "  for idx in range(len(bigram_sorted)):\n",
    "    bigram_Rank[bigram_sorted[idx][0]] = idx + 1\n",
    "  return bigram_Rank"
   ]
  },
  {
   "cell_type": "code",
   "execution_count": 19,
   "id": "62f6d099",
   "metadata": {},
   "outputs": [
    {
     "name": "stdout",
     "output_type": "stream",
     "text": [
      "1\n",
      "143\n"
     ]
    }
   ],
   "source": [
    "BNC_accident_bigram_Rank = get_bigram_Rank(BNC_accident_bigram_sorted)\n",
    "print(BNC_accident_bigram_Rank[\"serious accident\"]) # rank 1\n",
    "print(BNC_accident_bigram_Rank[\"historical accident\"]) # rank 5"
   ]
  },
  {
   "cell_type": "code",
   "execution_count": 20,
   "id": "e3cf772e",
   "metadata": {},
   "outputs": [
    {
     "name": "stdout",
     "output_type": "stream",
     "text": [
      "1\n",
      "5\n"
     ]
    }
   ],
   "source": [
    "lang_accident_bigram_Rank = get_bigram_Rank(lang_accident_bigram_sorted)\n",
    "print(lang_accident_bigram_Rank[\"nuclear accident\"]) # rank 1\n",
    "print(lang_accident_bigram_Rank[\"serious accident\"]) # rank 5"
   ]
  },
  {
   "cell_type": "code",
   "execution_count": 21,
   "id": "ba312041",
   "metadata": {},
   "outputs": [
    {
     "data": {
      "text/plain": [
       "[('serious accident', 0.2, 1, 0.12991280707084232, 5, 0.20696044398147853),\n",
       " ('tragic accident', 0.2, 2, 0.06495640353542116, 10, 0.41392088796295706),\n",
       " ('terrible accident', 1.0, 3, 0.06495640353542116, 3, 0.12417626638888712),\n",
       " ('major accident',\n",
       "  0.16666666666666666,\n",
       "  4,\n",
       "  1.1042588601021597,\n",
       "  24,\n",
       "  0.993410131111097),\n",
       " ('industrial accident', 0.2, 5, 1.2341716671730019, 25, 1.0348022199073927)]"
      ]
     },
     "execution_count": 21,
     "metadata": {},
     "output_type": "execute_result"
    }
   ],
   "source": [
    "def get_accident_ranks():\n",
    "  ranks_ptr = []\n",
    "  for accident_bigram in BNC_accident_bigram_Rank:\n",
    "    ranks_ptr.append((accident_bigram,\n",
    "                      BNC_accident_bigram_Rank[accident_bigram] / lang_accident_bigram_Rank[accident_bigram],\n",
    "                      BNC_accident_bigram_Rank[accident_bigram],\n",
    "                      BNC_bigram_counter[accident_bigram] / sum(BNC_bigram_counter.values()) * 1e6,\n",
    "                      lang_accident_bigram_Rank[accident_bigram],\n",
    "                      lang_accident_bigram_Rank[accident_bigram] / sum(lang_bigram_counter.values()) * 1e6))\n",
    "  return ranks_ptr\n",
    "\n",
    "get_accident_ranks()[0:5]"
   ]
  },
  {
   "cell_type": "code",
   "execution_count": 22,
   "id": "28ea920a",
   "metadata": {},
   "outputs": [
    {
     "data": {
      "text/html": [
       "<div>\n",
       "<style scoped>\n",
       "    .dataframe tbody tr th:only-of-type {\n",
       "        vertical-align: middle;\n",
       "    }\n",
       "\n",
       "    .dataframe tbody tr th {\n",
       "        vertical-align: top;\n",
       "    }\n",
       "\n",
       "    .dataframe thead th {\n",
       "        text-align: right;\n",
       "    }\n",
       "</style>\n",
       "<table border=\"1\" class=\"dataframe\">\n",
       "  <thead>\n",
       "    <tr style=\"text-align: right;\">\n",
       "      <th></th>\n",
       "      <th>adj. accident</th>\n",
       "      <th>Overuse rank/rank</th>\n",
       "      <th>BNC rank</th>\n",
       "      <th>BNC ratio (*1m)</th>\n",
       "      <th>Lang-8 rank</th>\n",
       "      <th>Lang-8 ratio (*1m)</th>\n",
       "    </tr>\n",
       "  </thead>\n",
       "  <tbody>\n",
       "    <tr>\n",
       "      <th>0</th>\n",
       "      <td>serious accident</td>\n",
       "      <td>0.200000</td>\n",
       "      <td>1</td>\n",
       "      <td>0.129913</td>\n",
       "      <td>5</td>\n",
       "      <td>0.206960</td>\n",
       "    </tr>\n",
       "    <tr>\n",
       "      <th>1</th>\n",
       "      <td>tragic accident</td>\n",
       "      <td>0.200000</td>\n",
       "      <td>2</td>\n",
       "      <td>0.064956</td>\n",
       "      <td>10</td>\n",
       "      <td>0.413921</td>\n",
       "    </tr>\n",
       "    <tr>\n",
       "      <th>2</th>\n",
       "      <td>terrible accident</td>\n",
       "      <td>1.000000</td>\n",
       "      <td>3</td>\n",
       "      <td>0.064956</td>\n",
       "      <td>3</td>\n",
       "      <td>0.124176</td>\n",
       "    </tr>\n",
       "    <tr>\n",
       "      <th>3</th>\n",
       "      <td>major accident</td>\n",
       "      <td>0.166667</td>\n",
       "      <td>4</td>\n",
       "      <td>1.104259</td>\n",
       "      <td>24</td>\n",
       "      <td>0.993410</td>\n",
       "    </tr>\n",
       "    <tr>\n",
       "      <th>4</th>\n",
       "      <td>industrial accident</td>\n",
       "      <td>0.200000</td>\n",
       "      <td>5</td>\n",
       "      <td>1.234172</td>\n",
       "      <td>25</td>\n",
       "      <td>1.034802</td>\n",
       "    </tr>\n",
       "    <tr>\n",
       "      <th>5</th>\n",
       "      <td>bad accident</td>\n",
       "      <td>1.500000</td>\n",
       "      <td>6</td>\n",
       "      <td>0.064956</td>\n",
       "      <td>4</td>\n",
       "      <td>0.165568</td>\n",
       "    </tr>\n",
       "    <tr>\n",
       "      <th>6</th>\n",
       "      <td>unfortunate accident</td>\n",
       "      <td>0.269231</td>\n",
       "      <td>7</td>\n",
       "      <td>0.064956</td>\n",
       "      <td>26</td>\n",
       "      <td>1.076194</td>\n",
       "    </tr>\n",
       "    <tr>\n",
       "      <th>7</th>\n",
       "      <td>nasty accident</td>\n",
       "      <td>0.186047</td>\n",
       "      <td>8</td>\n",
       "      <td>0.259826</td>\n",
       "      <td>43</td>\n",
       "      <td>1.779860</td>\n",
       "    </tr>\n",
       "    <tr>\n",
       "      <th>8</th>\n",
       "      <td>little accident</td>\n",
       "      <td>0.818182</td>\n",
       "      <td>9</td>\n",
       "      <td>0.064956</td>\n",
       "      <td>11</td>\n",
       "      <td>0.455313</td>\n",
       "    </tr>\n",
       "    <tr>\n",
       "      <th>9</th>\n",
       "      <td>horrific accident</td>\n",
       "      <td>0.227273</td>\n",
       "      <td>10</td>\n",
       "      <td>0.259826</td>\n",
       "      <td>44</td>\n",
       "      <td>1.821252</td>\n",
       "    </tr>\n",
       "    <tr>\n",
       "      <th>10</th>\n",
       "      <td>actual accident</td>\n",
       "      <td>0.244444</td>\n",
       "      <td>11</td>\n",
       "      <td>0.129913</td>\n",
       "      <td>45</td>\n",
       "      <td>1.862644</td>\n",
       "    </tr>\n",
       "    <tr>\n",
       "      <th>11</th>\n",
       "      <td>happy accident</td>\n",
       "      <td>1.000000</td>\n",
       "      <td>12</td>\n",
       "      <td>0.129913</td>\n",
       "      <td>12</td>\n",
       "      <td>0.496705</td>\n",
       "    </tr>\n",
       "    <tr>\n",
       "      <th>12</th>\n",
       "      <td>mean accident</td>\n",
       "      <td>0.282609</td>\n",
       "      <td>13</td>\n",
       "      <td>0.649564</td>\n",
       "      <td>46</td>\n",
       "      <td>1.904036</td>\n",
       "    </tr>\n",
       "    <tr>\n",
       "      <th>13</th>\n",
       "      <td>minor accident</td>\n",
       "      <td>0.875000</td>\n",
       "      <td>14</td>\n",
       "      <td>0.844433</td>\n",
       "      <td>16</td>\n",
       "      <td>0.662273</td>\n",
       "    </tr>\n",
       "    <tr>\n",
       "      <th>14</th>\n",
       "      <td>recent accident</td>\n",
       "      <td>0.555556</td>\n",
       "      <td>15</td>\n",
       "      <td>0.324782</td>\n",
       "      <td>27</td>\n",
       "      <td>1.117586</td>\n",
       "    </tr>\n",
       "    <tr>\n",
       "      <th>15</th>\n",
       "      <td>particular accident</td>\n",
       "      <td>0.340426</td>\n",
       "      <td>16</td>\n",
       "      <td>0.519651</td>\n",
       "      <td>47</td>\n",
       "      <td>1.945428</td>\n",
       "    </tr>\n",
       "    <tr>\n",
       "      <th>16</th>\n",
       "      <td>similar accident</td>\n",
       "      <td>1.000000</td>\n",
       "      <td>17</td>\n",
       "      <td>0.584608</td>\n",
       "      <td>17</td>\n",
       "      <td>0.703666</td>\n",
       "    </tr>\n",
       "    <tr>\n",
       "      <th>17</th>\n",
       "      <td>tmi accident</td>\n",
       "      <td>0.375000</td>\n",
       "      <td>18</td>\n",
       "      <td>0.389738</td>\n",
       "      <td>48</td>\n",
       "      <td>1.986820</td>\n",
       "    </tr>\n",
       "    <tr>\n",
       "      <th>18</th>\n",
       "      <td>high accident</td>\n",
       "      <td>0.387755</td>\n",
       "      <td>19</td>\n",
       "      <td>0.064956</td>\n",
       "      <td>49</td>\n",
       "      <td>2.028212</td>\n",
       "    </tr>\n",
       "    <tr>\n",
       "      <th>19</th>\n",
       "      <td>inevitable accident</td>\n",
       "      <td>0.400000</td>\n",
       "      <td>20</td>\n",
       "      <td>0.389738</td>\n",
       "      <td>50</td>\n",
       "      <td>2.069604</td>\n",
       "    </tr>\n",
       "    <tr>\n",
       "      <th>20</th>\n",
       "      <td>marine accident</td>\n",
       "      <td>0.411765</td>\n",
       "      <td>21</td>\n",
       "      <td>0.389738</td>\n",
       "      <td>51</td>\n",
       "      <td>2.110997</td>\n",
       "    </tr>\n",
       "    <tr>\n",
       "      <th>21</th>\n",
       "      <td>appalling accident</td>\n",
       "      <td>0.423077</td>\n",
       "      <td>22</td>\n",
       "      <td>0.064956</td>\n",
       "      <td>52</td>\n",
       "      <td>2.152389</td>\n",
       "    </tr>\n",
       "    <tr>\n",
       "      <th>22</th>\n",
       "      <td>cerebrovascular accident</td>\n",
       "      <td>1.277778</td>\n",
       "      <td>23</td>\n",
       "      <td>0.064956</td>\n",
       "      <td>18</td>\n",
       "      <td>0.745058</td>\n",
       "    </tr>\n",
       "    <tr>\n",
       "      <th>23</th>\n",
       "      <td>lucky accident</td>\n",
       "      <td>1.846154</td>\n",
       "      <td>24</td>\n",
       "      <td>0.064956</td>\n",
       "      <td>13</td>\n",
       "      <td>0.538097</td>\n",
       "    </tr>\n",
       "    <tr>\n",
       "      <th>24</th>\n",
       "      <td>medical accident</td>\n",
       "      <td>0.471698</td>\n",
       "      <td>25</td>\n",
       "      <td>0.259826</td>\n",
       "      <td>53</td>\n",
       "      <td>2.193781</td>\n",
       "    </tr>\n",
       "    <tr>\n",
       "      <th>25</th>\n",
       "      <td>mere accident</td>\n",
       "      <td>0.928571</td>\n",
       "      <td>26</td>\n",
       "      <td>0.064956</td>\n",
       "      <td>28</td>\n",
       "      <td>1.158978</td>\n",
       "    </tr>\n",
       "    <tr>\n",
       "      <th>26</th>\n",
       "      <td>personal accident</td>\n",
       "      <td>0.500000</td>\n",
       "      <td>27</td>\n",
       "      <td>0.194869</td>\n",
       "      <td>54</td>\n",
       "      <td>2.235173</td>\n",
       "    </tr>\n",
       "    <tr>\n",
       "      <th>27</th>\n",
       "      <td>disabling accident</td>\n",
       "      <td>0.509091</td>\n",
       "      <td>28</td>\n",
       "      <td>0.259826</td>\n",
       "      <td>55</td>\n",
       "      <td>2.276565</td>\n",
       "    </tr>\n",
       "    <tr>\n",
       "      <th>28</th>\n",
       "      <td>dreadful accident</td>\n",
       "      <td>0.517857</td>\n",
       "      <td>29</td>\n",
       "      <td>0.064956</td>\n",
       "      <td>56</td>\n",
       "      <td>2.317957</td>\n",
       "    </tr>\n",
       "    <tr>\n",
       "      <th>29</th>\n",
       "      <td>drowning accident</td>\n",
       "      <td>0.526316</td>\n",
       "      <td>30</td>\n",
       "      <td>0.259826</td>\n",
       "      <td>57</td>\n",
       "      <td>2.359349</td>\n",
       "    </tr>\n",
       "  </tbody>\n",
       "</table>\n",
       "</div>"
      ],
      "text/plain": [
       "               adj. accident  Overuse rank/rank  BNC rank  BNC ratio (*1m)  \\\n",
       "0           serious accident           0.200000         1         0.129913   \n",
       "1            tragic accident           0.200000         2         0.064956   \n",
       "2          terrible accident           1.000000         3         0.064956   \n",
       "3             major accident           0.166667         4         1.104259   \n",
       "4        industrial accident           0.200000         5         1.234172   \n",
       "5               bad accident           1.500000         6         0.064956   \n",
       "6       unfortunate accident           0.269231         7         0.064956   \n",
       "7             nasty accident           0.186047         8         0.259826   \n",
       "8            little accident           0.818182         9         0.064956   \n",
       "9          horrific accident           0.227273        10         0.259826   \n",
       "10           actual accident           0.244444        11         0.129913   \n",
       "11            happy accident           1.000000        12         0.129913   \n",
       "12             mean accident           0.282609        13         0.649564   \n",
       "13            minor accident           0.875000        14         0.844433   \n",
       "14           recent accident           0.555556        15         0.324782   \n",
       "15       particular accident           0.340426        16         0.519651   \n",
       "16          similar accident           1.000000        17         0.584608   \n",
       "17              tmi accident           0.375000        18         0.389738   \n",
       "18             high accident           0.387755        19         0.064956   \n",
       "19       inevitable accident           0.400000        20         0.389738   \n",
       "20           marine accident           0.411765        21         0.389738   \n",
       "21        appalling accident           0.423077        22         0.064956   \n",
       "22  cerebrovascular accident           1.277778        23         0.064956   \n",
       "23            lucky accident           1.846154        24         0.064956   \n",
       "24          medical accident           0.471698        25         0.259826   \n",
       "25             mere accident           0.928571        26         0.064956   \n",
       "26         personal accident           0.500000        27         0.194869   \n",
       "27        disabling accident           0.509091        28         0.259826   \n",
       "28         dreadful accident           0.517857        29         0.064956   \n",
       "29         drowning accident           0.526316        30         0.259826   \n",
       "\n",
       "    Lang-8 rank  Lang-8 ratio (*1m)  \n",
       "0             5            0.206960  \n",
       "1            10            0.413921  \n",
       "2             3            0.124176  \n",
       "3            24            0.993410  \n",
       "4            25            1.034802  \n",
       "5             4            0.165568  \n",
       "6            26            1.076194  \n",
       "7            43            1.779860  \n",
       "8            11            0.455313  \n",
       "9            44            1.821252  \n",
       "10           45            1.862644  \n",
       "11           12            0.496705  \n",
       "12           46            1.904036  \n",
       "13           16            0.662273  \n",
       "14           27            1.117586  \n",
       "15           47            1.945428  \n",
       "16           17            0.703666  \n",
       "17           48            1.986820  \n",
       "18           49            2.028212  \n",
       "19           50            2.069604  \n",
       "20           51            2.110997  \n",
       "21           52            2.152389  \n",
       "22           18            0.745058  \n",
       "23           13            0.538097  \n",
       "24           53            2.193781  \n",
       "25           28            1.158978  \n",
       "26           54            2.235173  \n",
       "27           55            2.276565  \n",
       "28           56            2.317957  \n",
       "29           57            2.359349  "
      ]
     },
     "execution_count": 22,
     "metadata": {},
     "output_type": "execute_result"
    }
   ],
   "source": [
    "import pandas as pd\n",
    "\n",
    "frame_ptr = pd.DataFrame(get_accident_ranks(), columns=[\"adj. accident\", \"Overuse rank/rank\", \"BNC rank\", \"BNC ratio (*1m)\", \"Lang-8 rank\", \"Lang-8 ratio (*1m)\"])\n",
    "frame_ptr.head(30)"
   ]
  },
  {
   "cell_type": "code",
   "execution_count": 23,
   "id": "f6564d9e",
   "metadata": {},
   "outputs": [
    {
     "data": {
      "text/html": [
       "<div>\n",
       "<style scoped>\n",
       "    .dataframe tbody tr th:only-of-type {\n",
       "        vertical-align: middle;\n",
       "    }\n",
       "\n",
       "    .dataframe tbody tr th {\n",
       "        vertical-align: top;\n",
       "    }\n",
       "\n",
       "    .dataframe thead th {\n",
       "        text-align: right;\n",
       "    }\n",
       "</style>\n",
       "<table border=\"1\" class=\"dataframe\">\n",
       "  <thead>\n",
       "    <tr style=\"text-align: right;\">\n",
       "      <th></th>\n",
       "      <th>adj. accident</th>\n",
       "      <th>Overuse rank/rank</th>\n",
       "      <th>BNC rank</th>\n",
       "      <th>BNC ratio (*1m)</th>\n",
       "      <th>Lang-8 rank</th>\n",
       "      <th>Lang-8 ratio (*1m)</th>\n",
       "    </tr>\n",
       "  </thead>\n",
       "  <tbody>\n",
       "    <tr>\n",
       "      <th>0</th>\n",
       "      <td>serious accident</td>\n",
       "      <td>0.20</td>\n",
       "      <td>1</td>\n",
       "      <td>0.13</td>\n",
       "      <td>5</td>\n",
       "      <td>0.21</td>\n",
       "    </tr>\n",
       "    <tr>\n",
       "      <th>1</th>\n",
       "      <td>tragic accident</td>\n",
       "      <td>0.20</td>\n",
       "      <td>2</td>\n",
       "      <td>0.06</td>\n",
       "      <td>10</td>\n",
       "      <td>0.41</td>\n",
       "    </tr>\n",
       "    <tr>\n",
       "      <th>2</th>\n",
       "      <td>terrible accident</td>\n",
       "      <td>1.00</td>\n",
       "      <td>3</td>\n",
       "      <td>0.06</td>\n",
       "      <td>3</td>\n",
       "      <td>0.12</td>\n",
       "    </tr>\n",
       "    <tr>\n",
       "      <th>3</th>\n",
       "      <td>major accident</td>\n",
       "      <td>0.17</td>\n",
       "      <td>4</td>\n",
       "      <td>1.10</td>\n",
       "      <td>24</td>\n",
       "      <td>0.99</td>\n",
       "    </tr>\n",
       "    <tr>\n",
       "      <th>4</th>\n",
       "      <td>industrial accident</td>\n",
       "      <td>0.20</td>\n",
       "      <td>5</td>\n",
       "      <td>1.23</td>\n",
       "      <td>25</td>\n",
       "      <td>1.03</td>\n",
       "    </tr>\n",
       "    <tr>\n",
       "      <th>5</th>\n",
       "      <td>bad accident</td>\n",
       "      <td>1.50</td>\n",
       "      <td>6</td>\n",
       "      <td>0.06</td>\n",
       "      <td>4</td>\n",
       "      <td>0.17</td>\n",
       "    </tr>\n",
       "    <tr>\n",
       "      <th>6</th>\n",
       "      <td>unfortunate accident</td>\n",
       "      <td>0.27</td>\n",
       "      <td>7</td>\n",
       "      <td>0.06</td>\n",
       "      <td>26</td>\n",
       "      <td>1.08</td>\n",
       "    </tr>\n",
       "    <tr>\n",
       "      <th>7</th>\n",
       "      <td>nasty accident</td>\n",
       "      <td>0.19</td>\n",
       "      <td>8</td>\n",
       "      <td>0.26</td>\n",
       "      <td>43</td>\n",
       "      <td>1.78</td>\n",
       "    </tr>\n",
       "    <tr>\n",
       "      <th>8</th>\n",
       "      <td>little accident</td>\n",
       "      <td>0.82</td>\n",
       "      <td>9</td>\n",
       "      <td>0.06</td>\n",
       "      <td>11</td>\n",
       "      <td>0.46</td>\n",
       "    </tr>\n",
       "    <tr>\n",
       "      <th>9</th>\n",
       "      <td>horrific accident</td>\n",
       "      <td>0.23</td>\n",
       "      <td>10</td>\n",
       "      <td>0.26</td>\n",
       "      <td>44</td>\n",
       "      <td>1.82</td>\n",
       "    </tr>\n",
       "    <tr>\n",
       "      <th>10</th>\n",
       "      <td>actual accident</td>\n",
       "      <td>0.24</td>\n",
       "      <td>11</td>\n",
       "      <td>0.13</td>\n",
       "      <td>45</td>\n",
       "      <td>1.86</td>\n",
       "    </tr>\n",
       "    <tr>\n",
       "      <th>11</th>\n",
       "      <td>happy accident</td>\n",
       "      <td>1.00</td>\n",
       "      <td>12</td>\n",
       "      <td>0.13</td>\n",
       "      <td>12</td>\n",
       "      <td>0.50</td>\n",
       "    </tr>\n",
       "    <tr>\n",
       "      <th>12</th>\n",
       "      <td>mean accident</td>\n",
       "      <td>0.28</td>\n",
       "      <td>13</td>\n",
       "      <td>0.65</td>\n",
       "      <td>46</td>\n",
       "      <td>1.90</td>\n",
       "    </tr>\n",
       "    <tr>\n",
       "      <th>13</th>\n",
       "      <td>minor accident</td>\n",
       "      <td>0.88</td>\n",
       "      <td>14</td>\n",
       "      <td>0.84</td>\n",
       "      <td>16</td>\n",
       "      <td>0.66</td>\n",
       "    </tr>\n",
       "    <tr>\n",
       "      <th>14</th>\n",
       "      <td>recent accident</td>\n",
       "      <td>0.56</td>\n",
       "      <td>15</td>\n",
       "      <td>0.32</td>\n",
       "      <td>27</td>\n",
       "      <td>1.12</td>\n",
       "    </tr>\n",
       "    <tr>\n",
       "      <th>15</th>\n",
       "      <td>particular accident</td>\n",
       "      <td>0.34</td>\n",
       "      <td>16</td>\n",
       "      <td>0.52</td>\n",
       "      <td>47</td>\n",
       "      <td>1.95</td>\n",
       "    </tr>\n",
       "    <tr>\n",
       "      <th>16</th>\n",
       "      <td>similar accident</td>\n",
       "      <td>1.00</td>\n",
       "      <td>17</td>\n",
       "      <td>0.58</td>\n",
       "      <td>17</td>\n",
       "      <td>0.70</td>\n",
       "    </tr>\n",
       "    <tr>\n",
       "      <th>17</th>\n",
       "      <td>tmi accident</td>\n",
       "      <td>0.38</td>\n",
       "      <td>18</td>\n",
       "      <td>0.39</td>\n",
       "      <td>48</td>\n",
       "      <td>1.99</td>\n",
       "    </tr>\n",
       "    <tr>\n",
       "      <th>18</th>\n",
       "      <td>high accident</td>\n",
       "      <td>0.39</td>\n",
       "      <td>19</td>\n",
       "      <td>0.06</td>\n",
       "      <td>49</td>\n",
       "      <td>2.03</td>\n",
       "    </tr>\n",
       "    <tr>\n",
       "      <th>19</th>\n",
       "      <td>inevitable accident</td>\n",
       "      <td>0.40</td>\n",
       "      <td>20</td>\n",
       "      <td>0.39</td>\n",
       "      <td>50</td>\n",
       "      <td>2.07</td>\n",
       "    </tr>\n",
       "    <tr>\n",
       "      <th>20</th>\n",
       "      <td>marine accident</td>\n",
       "      <td>0.41</td>\n",
       "      <td>21</td>\n",
       "      <td>0.39</td>\n",
       "      <td>51</td>\n",
       "      <td>2.11</td>\n",
       "    </tr>\n",
       "    <tr>\n",
       "      <th>21</th>\n",
       "      <td>appalling accident</td>\n",
       "      <td>0.42</td>\n",
       "      <td>22</td>\n",
       "      <td>0.06</td>\n",
       "      <td>52</td>\n",
       "      <td>2.15</td>\n",
       "    </tr>\n",
       "    <tr>\n",
       "      <th>22</th>\n",
       "      <td>cerebrovascular accident</td>\n",
       "      <td>1.28</td>\n",
       "      <td>23</td>\n",
       "      <td>0.06</td>\n",
       "      <td>18</td>\n",
       "      <td>0.75</td>\n",
       "    </tr>\n",
       "    <tr>\n",
       "      <th>23</th>\n",
       "      <td>lucky accident</td>\n",
       "      <td>1.85</td>\n",
       "      <td>24</td>\n",
       "      <td>0.06</td>\n",
       "      <td>13</td>\n",
       "      <td>0.54</td>\n",
       "    </tr>\n",
       "    <tr>\n",
       "      <th>24</th>\n",
       "      <td>medical accident</td>\n",
       "      <td>0.47</td>\n",
       "      <td>25</td>\n",
       "      <td>0.26</td>\n",
       "      <td>53</td>\n",
       "      <td>2.19</td>\n",
       "    </tr>\n",
       "    <tr>\n",
       "      <th>25</th>\n",
       "      <td>mere accident</td>\n",
       "      <td>0.93</td>\n",
       "      <td>26</td>\n",
       "      <td>0.06</td>\n",
       "      <td>28</td>\n",
       "      <td>1.16</td>\n",
       "    </tr>\n",
       "    <tr>\n",
       "      <th>26</th>\n",
       "      <td>personal accident</td>\n",
       "      <td>0.50</td>\n",
       "      <td>27</td>\n",
       "      <td>0.19</td>\n",
       "      <td>54</td>\n",
       "      <td>2.24</td>\n",
       "    </tr>\n",
       "    <tr>\n",
       "      <th>27</th>\n",
       "      <td>disabling accident</td>\n",
       "      <td>0.51</td>\n",
       "      <td>28</td>\n",
       "      <td>0.26</td>\n",
       "      <td>55</td>\n",
       "      <td>2.28</td>\n",
       "    </tr>\n",
       "    <tr>\n",
       "      <th>28</th>\n",
       "      <td>dreadful accident</td>\n",
       "      <td>0.52</td>\n",
       "      <td>29</td>\n",
       "      <td>0.06</td>\n",
       "      <td>56</td>\n",
       "      <td>2.32</td>\n",
       "    </tr>\n",
       "    <tr>\n",
       "      <th>29</th>\n",
       "      <td>drowning accident</td>\n",
       "      <td>0.53</td>\n",
       "      <td>30</td>\n",
       "      <td>0.26</td>\n",
       "      <td>57</td>\n",
       "      <td>2.36</td>\n",
       "    </tr>\n",
       "  </tbody>\n",
       "</table>\n",
       "</div>"
      ],
      "text/plain": [
       "               adj. accident  Overuse rank/rank  BNC rank  BNC ratio (*1m)  \\\n",
       "0           serious accident               0.20         1             0.13   \n",
       "1            tragic accident               0.20         2             0.06   \n",
       "2          terrible accident               1.00         3             0.06   \n",
       "3             major accident               0.17         4             1.10   \n",
       "4        industrial accident               0.20         5             1.23   \n",
       "5               bad accident               1.50         6             0.06   \n",
       "6       unfortunate accident               0.27         7             0.06   \n",
       "7             nasty accident               0.19         8             0.26   \n",
       "8            little accident               0.82         9             0.06   \n",
       "9          horrific accident               0.23        10             0.26   \n",
       "10           actual accident               0.24        11             0.13   \n",
       "11            happy accident               1.00        12             0.13   \n",
       "12             mean accident               0.28        13             0.65   \n",
       "13            minor accident               0.88        14             0.84   \n",
       "14           recent accident               0.56        15             0.32   \n",
       "15       particular accident               0.34        16             0.52   \n",
       "16          similar accident               1.00        17             0.58   \n",
       "17              tmi accident               0.38        18             0.39   \n",
       "18             high accident               0.39        19             0.06   \n",
       "19       inevitable accident               0.40        20             0.39   \n",
       "20           marine accident               0.41        21             0.39   \n",
       "21        appalling accident               0.42        22             0.06   \n",
       "22  cerebrovascular accident               1.28        23             0.06   \n",
       "23            lucky accident               1.85        24             0.06   \n",
       "24          medical accident               0.47        25             0.26   \n",
       "25             mere accident               0.93        26             0.06   \n",
       "26         personal accident               0.50        27             0.19   \n",
       "27        disabling accident               0.51        28             0.26   \n",
       "28         dreadful accident               0.52        29             0.06   \n",
       "29         drowning accident               0.53        30             0.26   \n",
       "\n",
       "    Lang-8 rank  Lang-8 ratio (*1m)  \n",
       "0             5                0.21  \n",
       "1            10                0.41  \n",
       "2             3                0.12  \n",
       "3            24                0.99  \n",
       "4            25                1.03  \n",
       "5             4                0.17  \n",
       "6            26                1.08  \n",
       "7            43                1.78  \n",
       "8            11                0.46  \n",
       "9            44                1.82  \n",
       "10           45                1.86  \n",
       "11           12                0.50  \n",
       "12           46                1.90  \n",
       "13           16                0.66  \n",
       "14           27                1.12  \n",
       "15           47                1.95  \n",
       "16           17                0.70  \n",
       "17           48                1.99  \n",
       "18           49                2.03  \n",
       "19           50                2.07  \n",
       "20           51                2.11  \n",
       "21           52                2.15  \n",
       "22           18                0.75  \n",
       "23           13                0.54  \n",
       "24           53                2.19  \n",
       "25           28                1.16  \n",
       "26           54                2.24  \n",
       "27           55                2.28  \n",
       "28           56                2.32  \n",
       "29           57                2.36  "
      ]
     },
     "execution_count": 23,
     "metadata": {},
     "output_type": "execute_result"
    }
   ],
   "source": [
    "frame_ptr.round(2).head(30)"
   ]
  }
 ],
 "metadata": {
  "kernelspec": {
   "display_name": "Python 3 (ipykernel)",
   "language": "python",
   "name": "python3"
  },
  "language_info": {
   "codemirror_mode": {
    "name": "ipython",
    "version": 3
   },
   "file_extension": ".py",
   "mimetype": "text/x-python",
   "name": "python",
   "nbconvert_exporter": "python",
   "pygments_lexer": "ipython3",
   "version": "3.8.13"
  }
 },
 "nbformat": 4,
 "nbformat_minor": 5
}
