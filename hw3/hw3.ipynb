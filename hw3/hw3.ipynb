{
 "cells": [
  {
   "cell_type": "markdown",
   "id": "ab330f94",
   "metadata": {},
   "source": [
    "# Bigram Counter\n",
    "BNC and Lang-8 bigrams are fetched in this section."
   ]
  },
  {
   "cell_type": "code",
   "execution_count": 1,
   "id": "46c7460e",
   "metadata": {},
   "outputs": [
    {
     "name": "stdout",
     "output_type": "stream",
     "text": [
      "A A\tNP0 NP0\ta a\t3\r\n",
      "A A\tZZ0 ZZ0\ta a\t1\r\n",
      "A Adebayo\tZZ0 NP0-NN1\ta adebayo\t2\r\n",
      "A Allan\tZZ0 NP0\ta allan\t1\r\n",
      "A Allcock\tZZ0 NP0\ta allcock\t1\r\n",
      "A Aubin\tZZ0 NN1-NP0\ta aubin\t1\r\n",
      "A BABY\tAT0 NN1\ta baby\t1\r\n",
      "A BABYSITTER\tAT0 NN1\ta babysitter\t1\r\n",
      "A BACHELOR\tAT0 NN1-NP0\ta bachelor\t1\r\n",
      "A BAD\tAT0 AJ0\ta bad\t1\r\n"
     ]
    }
   ],
   "source": [
    "! egrep \"^([A-Za-z\\-]+) ([A-Za-z\\-]+)\\t\" BNC.2w.c.txt > bnc.txt\n",
    "! head bnc.txt"
   ]
  },
  {
   "cell_type": "code",
   "execution_count": 2,
   "id": "b912b056",
   "metadata": {},
   "outputs": [
    {
     "name": "stdout",
     "output_type": "stream",
     "text": [
      "Counter({'british accident': 1, 'appalling accident': 1})\n"
     ]
    }
   ],
   "source": [
    "from collections import Counter\n",
    "\n",
    "def get_counter(text):\n",
    "  counter_ptr = Counter()\n",
    "  for line in text.split(\"\\n\")[:-1]:\n",
    "    tokens_ptr = line.split(\"\\t\")\n",
    "    bigram = tokens_ptr[2]\n",
    "    frequency = int(tokens_ptr[3])\n",
    "    counter_ptr[bigram] = frequency\n",
    "  return counter_ptr\n",
    "\n",
    "print(get_counter(\"British accident\\tAJ0 NN1\\tbritish accident\\t1\\nappalling accident\\tAJ0 NN1\\tappalling accident\\t1\\n\"))"
   ]
  },
  {
   "cell_type": "code",
   "execution_count": 3,
   "id": "3493e749",
   "metadata": {},
   "outputs": [
    {
     "data": {
      "text/plain": [
       "3716195"
      ]
     },
     "execution_count": 3,
     "metadata": {},
     "output_type": "execute_result"
    }
   ],
   "source": [
    "BNC_bigram_counter = get_counter(open(\"bnc.txt\").read())\n",
    "sum(BNC_bigram_counter.values())"
   ]
  },
  {
   "cell_type": "code",
   "execution_count": 4,
   "id": "02d4f10e",
   "metadata": {},
   "outputs": [
    {
     "data": {
      "text/plain": [
       "[('would have', 4191),\n",
       " ('but the', 2268),\n",
       " ('cent of', 2026),\n",
       " ('at the', 2019),\n",
       " ('on the', 1764),\n",
       " ('will have', 1754),\n",
       " ('of you', 1466),\n",
       " ('he to', 1329),\n",
       " ('if the', 1312),\n",
       " ('they be', 1299)]"
      ]
     },
     "execution_count": 4,
     "metadata": {},
     "output_type": "execute_result"
    }
   ],
   "source": [
    "BNC_bigram_counter.most_common(10)"
   ]
  },
  {
   "cell_type": "code",
   "execution_count": 5,
   "id": "e9aead28",
   "metadata": {},
   "outputs": [
    {
     "data": {
      "text/plain": [
       "1"
      ]
     },
     "execution_count": 5,
     "metadata": {},
     "output_type": "execute_result"
    }
   ],
   "source": [
    "BNC_bigram_counter[\"big accident\"]"
   ]
  },
  {
   "cell_type": "code",
   "execution_count": 6,
   "id": "e58030b5",
   "metadata": {},
   "outputs": [
    {
     "name": "stdout",
     "output_type": "stream",
     "text": [
      "['this', 'is', 'an', 'example', 'dont', '123', 'ill', 'do', 'it', 'p28', 'ibid', 'p300', 'ibid']\n"
     ]
    }
   ],
   "source": [
    "import string\n",
    "\n",
    "def tokenize(text):\n",
    "  return list(filter(None, text.translate(str.maketrans(\"\", \"\", string.punctuation)).lower().split(\" \")))\n",
    "\n",
    "print(tokenize(\"This is an  example. Don't 123 I'll do it p28 ibid, p300 ibid!\"))"
   ]
  },
  {
   "cell_type": "code",
   "execution_count": 7,
   "id": "66892f59",
   "metadata": {},
   "outputs": [
    {
     "name": "stdout",
     "output_type": "stream",
     "text": [
      "['this is', 'is an', 'an example']\n"
     ]
    }
   ],
   "source": [
    "def get_ngram(tokens_ptr, n=2):\n",
    "  result_ptr = []\n",
    "  for start_idx in range(len(tokens_ptr) - n + 1):\n",
    "    ngram = \"\"\n",
    "    for i in range(start_idx, start_idx + n):\n",
    "      if i != start_idx:\n",
    "        ngram += \" \"\n",
    "      ngram += tokens_ptr[i]\n",
    "    result_ptr.append(ngram)\n",
    "  return result_ptr\n",
    "\n",
    "print(get_ngram(tokenize(\"This is an example.\"), n=2))"
   ]
  },
  {
   "cell_type": "code",
   "execution_count": 8,
   "id": "040f3685",
   "metadata": {},
   "outputs": [
    {
     "name": "stdout",
     "output_type": "stream",
     "text": [
      "Counter({'this': 2, 'is': 2, 'an': 1, 'example': 1, 'great': 1})\n"
     ]
    }
   ],
   "source": [
    "def calculate_frequency(tokens_ptr):\n",
    "  return Counter(tokens_ptr)\n",
    "\n",
    "print(calculate_frequency(tokenize(\"This is an example. This is great!\")))"
   ]
  },
  {
   "cell_type": "code",
   "execution_count": 9,
   "id": "27cd6ffc",
   "metadata": {},
   "outputs": [
    {
     "data": {
      "text/plain": [
       "24159206"
      ]
     },
     "execution_count": 9,
     "metadata": {},
     "output_type": "execute_result"
    }
   ],
   "source": [
    "lang_bigram = get_ngram(tokenize(open(\"clang8.txt\").read()), n=2)\n",
    "lang_bigram_counter = calculate_frequency(lang_bigram)\n",
    "sum(lang_bigram_counter.values())"
   ]
  },
  {
   "cell_type": "code",
   "execution_count": 10,
   "id": "b695a5de",
   "metadata": {},
   "outputs": [
    {
     "data": {
      "text/plain": [
       "[('in the', 69569),\n",
       " ('want to', 61005),\n",
       " ('of the', 59215),\n",
       " ('do nt', 54006),\n",
       " ('i have', 46139),\n",
       " ('\\ni m', 43318),\n",
       " ('to the', 41491),\n",
       " ('i was', 39953),\n",
       " ('i m', 39225),\n",
       " ('and i', 38296)]"
      ]
     },
     "execution_count": 10,
     "metadata": {},
     "output_type": "execute_result"
    }
   ],
   "source": [
    "lang_bigram_counter.most_common(10)"
   ]
  },
  {
   "cell_type": "code",
   "execution_count": 11,
   "id": "14e561f2",
   "metadata": {},
   "outputs": [
    {
     "data": {
      "text/plain": [
       "21"
      ]
     },
     "execution_count": 11,
     "metadata": {},
     "output_type": "execute_result"
    }
   ],
   "source": [
    "lang_bigram_counter[\"big accident\"]"
   ]
  },
  {
   "cell_type": "markdown",
   "id": "b792f386",
   "metadata": {},
   "source": [
    "# Ranking\n",
    "Get the table out bae."
   ]
  },
  {
   "cell_type": "code",
   "execution_count": 12,
   "id": "4faf59f6",
   "metadata": {},
   "outputs": [
    {
     "name": "stdout",
     "output_type": "stream",
     "text": [
      "British accident\tAJ0 NN1\tbritish accident\t1\r\n",
      "appalling accident\tAJ0 NN1\tappalling accident\t1\r\n",
      "awful accident\tAJ0 NN1\tawful accident\t1\r\n",
      "bad accident\tAJ0 NN1\tbad accident\t1\r\n",
      "big accident\tAJ0 NN1\tbig accident\t1\r\n",
      "catastrophic accident\tAJ0 NN1\tcatastrophic accident\t2\r\n",
      "cerebrovascular accident\tAJ0 NN1\tcerebrovascular accident\t1\r\n",
      "collusive accident\tAJ0 NN1\tcollusive accident\t1\r\n",
      "common accident\tAJ0 NN1\tcommon accident\t1\r\n",
      "complete accident\tAJ0 NN1\tcomplete accident\t1\r\n"
     ]
    }
   ],
   "source": [
    "! egrep \"^(.*?) accident\\t(AJ0|aj0)\" bnc.txt > bnc_accident.txt\n",
    "! head bnc_accident.txt"
   ]
  },
  {
   "cell_type": "code",
   "execution_count": 13,
   "id": "d7082e77",
   "metadata": {},
   "outputs": [],
   "source": [
    "BNC_accident_bigram_counter = get_counter(open(\"bnc_accident.txt\").read())"
   ]
  },
  {
   "cell_type": "code",
   "execution_count": 14,
   "id": "6b9743f7",
   "metadata": {},
   "outputs": [
    {
     "data": {
      "text/plain": [
       "[('serious accident', 20),\n",
       " ('fatal accident', 8),\n",
       " ('nuclear accident', 7),\n",
       " ('personal accident', 7),\n",
       " ('historical accident', 5),\n",
       " ('disabling accident', 3),\n",
       " ('industrial accident', 3),\n",
       " ('lucky accident', 3),\n",
       " ('mere accident', 3),\n",
       " ('catastrophic accident', 2)]"
      ]
     },
     "execution_count": 14,
     "metadata": {},
     "output_type": "execute_result"
    }
   ],
   "source": [
    "BNC_accident_bigram_counter.most_common(10)"
   ]
  },
  {
   "cell_type": "code",
   "execution_count": 15,
   "id": "cc56ba07",
   "metadata": {},
   "outputs": [
    {
     "data": {
      "text/plain": [
       "[('serious accident', 20),\n",
       " ('fatal accident', 8),\n",
       " ('nuclear accident', 7),\n",
       " ('personal accident', 7),\n",
       " ('historical accident', 5)]"
      ]
     },
     "execution_count": 15,
     "metadata": {},
     "output_type": "execute_result"
    }
   ],
   "source": [
    "BNC_accident_bigram_sorted = BNC_accident_bigram_counter.most_common()\n",
    "BNC_accident_bigram_sorted[0:5]"
   ]
  },
  {
   "cell_type": "code",
   "execution_count": 16,
   "id": "cdca851b",
   "metadata": {},
   "outputs": [
    {
     "data": {
      "text/plain": [
       "[('serious accident', 13),\n",
       " ('fatal accident', 6),\n",
       " ('nuclear accident', 46),\n",
       " ('personal accident', 0),\n",
       " ('historical accident', 1)]"
      ]
     },
     "execution_count": 16,
     "metadata": {},
     "output_type": "execute_result"
    }
   ],
   "source": [
    "lang_accident_bigram = []\n",
    "for tuple_ptr in BNC_accident_bigram_sorted:\n",
    "  lang_accident_bigram.append((tuple_ptr[0], lang_bigram_counter[tuple_ptr[0]]))\n",
    "lang_accident_bigram[0:5]"
   ]
  },
  {
   "cell_type": "code",
   "execution_count": 17,
   "id": "39582b3f",
   "metadata": {},
   "outputs": [
    {
     "data": {
      "text/plain": [
       "[('nuclear accident', 46),\n",
       " ('big accident', 21),\n",
       " ('terrible accident', 19),\n",
       " ('bad accident', 17),\n",
       " ('serious accident', 13)]"
      ]
     },
     "execution_count": 17,
     "metadata": {},
     "output_type": "execute_result"
    }
   ],
   "source": [
    "lang_accident_bigram_sorted = sorted(lang_accident_bigram, key=lambda x: x[1], reverse=True)\n",
    "lang_accident_bigram_sorted[0:5]"
   ]
  },
  {
   "cell_type": "code",
   "execution_count": 18,
   "id": "05400b24",
   "metadata": {},
   "outputs": [],
   "source": [
    "def get_bigram_Rank(bigram_sorted):\n",
    "  bigram_Rank = {}\n",
    "  for idx in range(len(bigram_sorted)):\n",
    "    bigram_Rank[bigram_sorted[idx][0]] = idx + 1\n",
    "  return bigram_Rank"
   ]
  },
  {
   "cell_type": "code",
   "execution_count": 19,
   "id": "62f6d099",
   "metadata": {},
   "outputs": [
    {
     "name": "stdout",
     "output_type": "stream",
     "text": [
      "1\n",
      "5\n"
     ]
    }
   ],
   "source": [
    "BNC_accident_bigram_Rank = get_bigram_Rank(BNC_accident_bigram_sorted)\n",
    "print(BNC_accident_bigram_Rank[\"serious accident\"]) # rank 1\n",
    "print(BNC_accident_bigram_Rank[\"historical accident\"]) # rank 5"
   ]
  },
  {
   "cell_type": "code",
   "execution_count": 20,
   "id": "e3cf772e",
   "metadata": {},
   "outputs": [
    {
     "name": "stdout",
     "output_type": "stream",
     "text": [
      "1\n",
      "5\n"
     ]
    }
   ],
   "source": [
    "lang_accident_bigram_Rank = get_bigram_Rank(lang_accident_bigram_sorted)\n",
    "print(lang_accident_bigram_Rank[\"nuclear accident\"]) # rank 1\n",
    "print(lang_accident_bigram_Rank[\"serious accident\"]) # rank 5"
   ]
  },
  {
   "cell_type": "code",
   "execution_count": 21,
   "id": "ba312041",
   "metadata": {},
   "outputs": [
    {
     "data": {
      "text/plain": [
       "[('serious accident', 0.2, 1, 3.229109344369711, 5, 0.20696044398147853),\n",
       " ('fatal accident',\n",
       "  0.3333333333333333,\n",
       "  2,\n",
       "  0.2690924453641426,\n",
       "  6,\n",
       "  0.24835253277777425),\n",
       " ('nuclear accident', 3.0, 3, 0.8072773360924278, 1, 0.041392088796295703),\n",
       " ('personal accident',\n",
       "  0.14814814814814814,\n",
       "  4,\n",
       "  0.2690924453641426,\n",
       "  27,\n",
       "  1.117586397499984),\n",
       " ('historical accident',\n",
       "  0.2777777777777778,\n",
       "  5,\n",
       "  0.8072773360924278,\n",
       "  18,\n",
       "  0.7450575983333227)]"
      ]
     },
     "execution_count": 21,
     "metadata": {},
     "output_type": "execute_result"
    }
   ],
   "source": [
    "def get_accident_ranks():\n",
    "  ranks_ptr = []\n",
    "  for accident_bigram in BNC_accident_bigram_Rank:\n",
    "    ranks_ptr.append((accident_bigram,\n",
    "                      BNC_accident_bigram_Rank[accident_bigram] / lang_accident_bigram_Rank[accident_bigram],\n",
    "                      BNC_accident_bigram_Rank[accident_bigram],\n",
    "                      BNC_bigram_counter[accident_bigram] / sum(BNC_bigram_counter.values()) * 1e6,\n",
    "                      lang_accident_bigram_Rank[accident_bigram],\n",
    "                      lang_accident_bigram_Rank[accident_bigram] / sum(lang_bigram_counter.values()) * 1e6))\n",
    "  return ranks_ptr\n",
    "\n",
    "get_accident_ranks()[0:5]"
   ]
  },
  {
   "cell_type": "code",
   "execution_count": 22,
   "id": "28ea920a",
   "metadata": {},
   "outputs": [
    {
     "data": {
      "text/html": [
       "<div>\n",
       "<style scoped>\n",
       "    .dataframe tbody tr th:only-of-type {\n",
       "        vertical-align: middle;\n",
       "    }\n",
       "\n",
       "    .dataframe tbody tr th {\n",
       "        vertical-align: top;\n",
       "    }\n",
       "\n",
       "    .dataframe thead th {\n",
       "        text-align: right;\n",
       "    }\n",
       "</style>\n",
       "<table border=\"1\" class=\"dataframe\">\n",
       "  <thead>\n",
       "    <tr style=\"text-align: right;\">\n",
       "      <th></th>\n",
       "      <th>adj. accident</th>\n",
       "      <th>Overuse rank/rank</th>\n",
       "      <th>BNC rank</th>\n",
       "      <th>BNC ratio (*1m)</th>\n",
       "      <th>Lang-8 rank</th>\n",
       "      <th>Lang-8 ratio (*1m)</th>\n",
       "    </tr>\n",
       "  </thead>\n",
       "  <tbody>\n",
       "    <tr>\n",
       "      <th>0</th>\n",
       "      <td>serious accident</td>\n",
       "      <td>0.200000</td>\n",
       "      <td>1</td>\n",
       "      <td>3.229109</td>\n",
       "      <td>5</td>\n",
       "      <td>0.206960</td>\n",
       "    </tr>\n",
       "    <tr>\n",
       "      <th>1</th>\n",
       "      <td>fatal accident</td>\n",
       "      <td>0.333333</td>\n",
       "      <td>2</td>\n",
       "      <td>0.269092</td>\n",
       "      <td>6</td>\n",
       "      <td>0.248353</td>\n",
       "    </tr>\n",
       "    <tr>\n",
       "      <th>2</th>\n",
       "      <td>nuclear accident</td>\n",
       "      <td>3.000000</td>\n",
       "      <td>3</td>\n",
       "      <td>0.807277</td>\n",
       "      <td>1</td>\n",
       "      <td>0.041392</td>\n",
       "    </tr>\n",
       "    <tr>\n",
       "      <th>3</th>\n",
       "      <td>personal accident</td>\n",
       "      <td>0.148148</td>\n",
       "      <td>4</td>\n",
       "      <td>0.269092</td>\n",
       "      <td>27</td>\n",
       "      <td>1.117586</td>\n",
       "    </tr>\n",
       "    <tr>\n",
       "      <th>4</th>\n",
       "      <td>historical accident</td>\n",
       "      <td>0.277778</td>\n",
       "      <td>5</td>\n",
       "      <td>0.807277</td>\n",
       "      <td>18</td>\n",
       "      <td>0.745058</td>\n",
       "    </tr>\n",
       "    <tr>\n",
       "      <th>5</th>\n",
       "      <td>disabling accident</td>\n",
       "      <td>0.214286</td>\n",
       "      <td>6</td>\n",
       "      <td>0.807277</td>\n",
       "      <td>28</td>\n",
       "      <td>1.158978</td>\n",
       "    </tr>\n",
       "    <tr>\n",
       "      <th>6</th>\n",
       "      <td>industrial accident</td>\n",
       "      <td>0.368421</td>\n",
       "      <td>7</td>\n",
       "      <td>1.076370</td>\n",
       "      <td>19</td>\n",
       "      <td>0.786450</td>\n",
       "    </tr>\n",
       "    <tr>\n",
       "      <th>7</th>\n",
       "      <td>lucky accident</td>\n",
       "      <td>0.800000</td>\n",
       "      <td>8</td>\n",
       "      <td>0.269092</td>\n",
       "      <td>10</td>\n",
       "      <td>0.413921</td>\n",
       "    </tr>\n",
       "    <tr>\n",
       "      <th>8</th>\n",
       "      <td>mere accident</td>\n",
       "      <td>0.450000</td>\n",
       "      <td>9</td>\n",
       "      <td>0.807277</td>\n",
       "      <td>20</td>\n",
       "      <td>0.827842</td>\n",
       "    </tr>\n",
       "    <tr>\n",
       "      <th>9</th>\n",
       "      <td>catastrophic accident</td>\n",
       "      <td>0.476190</td>\n",
       "      <td>10</td>\n",
       "      <td>0.269092</td>\n",
       "      <td>21</td>\n",
       "      <td>0.869234</td>\n",
       "    </tr>\n",
       "    <tr>\n",
       "      <th>10</th>\n",
       "      <td>dreadful accident</td>\n",
       "      <td>0.379310</td>\n",
       "      <td>11</td>\n",
       "      <td>0.538185</td>\n",
       "      <td>29</td>\n",
       "      <td>1.200371</td>\n",
       "    </tr>\n",
       "    <tr>\n",
       "      <th>11</th>\n",
       "      <td>major accident</td>\n",
       "      <td>0.545455</td>\n",
       "      <td>12</td>\n",
       "      <td>0.538185</td>\n",
       "      <td>22</td>\n",
       "      <td>0.910626</td>\n",
       "    </tr>\n",
       "    <tr>\n",
       "      <th>12</th>\n",
       "      <td>minor accident</td>\n",
       "      <td>1.083333</td>\n",
       "      <td>13</td>\n",
       "      <td>0.538185</td>\n",
       "      <td>12</td>\n",
       "      <td>0.496705</td>\n",
       "    </tr>\n",
       "    <tr>\n",
       "      <th>13</th>\n",
       "      <td>sad accident</td>\n",
       "      <td>1.076923</td>\n",
       "      <td>14</td>\n",
       "      <td>0.538185</td>\n",
       "      <td>13</td>\n",
       "      <td>0.538097</td>\n",
       "    </tr>\n",
       "    <tr>\n",
       "      <th>14</th>\n",
       "      <td>similar accident</td>\n",
       "      <td>1.071429</td>\n",
       "      <td>15</td>\n",
       "      <td>0.538185</td>\n",
       "      <td>14</td>\n",
       "      <td>0.579489</td>\n",
       "    </tr>\n",
       "    <tr>\n",
       "      <th>15</th>\n",
       "      <td>terrible accident</td>\n",
       "      <td>5.333333</td>\n",
       "      <td>16</td>\n",
       "      <td>0.538185</td>\n",
       "      <td>3</td>\n",
       "      <td>0.124176</td>\n",
       "    </tr>\n",
       "    <tr>\n",
       "      <th>16</th>\n",
       "      <td>tragic accident</td>\n",
       "      <td>2.125000</td>\n",
       "      <td>17</td>\n",
       "      <td>0.538185</td>\n",
       "      <td>8</td>\n",
       "      <td>0.331137</td>\n",
       "    </tr>\n",
       "    <tr>\n",
       "      <th>17</th>\n",
       "      <td>british accident</td>\n",
       "      <td>0.600000</td>\n",
       "      <td>18</td>\n",
       "      <td>0.269092</td>\n",
       "      <td>30</td>\n",
       "      <td>1.241763</td>\n",
       "    </tr>\n",
       "    <tr>\n",
       "      <th>18</th>\n",
       "      <td>appalling accident</td>\n",
       "      <td>0.612903</td>\n",
       "      <td>19</td>\n",
       "      <td>0.269092</td>\n",
       "      <td>31</td>\n",
       "      <td>1.283155</td>\n",
       "    </tr>\n",
       "    <tr>\n",
       "      <th>19</th>\n",
       "      <td>awful accident</td>\n",
       "      <td>1.333333</td>\n",
       "      <td>20</td>\n",
       "      <td>0.269092</td>\n",
       "      <td>15</td>\n",
       "      <td>0.620881</td>\n",
       "    </tr>\n",
       "    <tr>\n",
       "      <th>20</th>\n",
       "      <td>bad accident</td>\n",
       "      <td>5.250000</td>\n",
       "      <td>21</td>\n",
       "      <td>0.269092</td>\n",
       "      <td>4</td>\n",
       "      <td>0.165568</td>\n",
       "    </tr>\n",
       "    <tr>\n",
       "      <th>21</th>\n",
       "      <td>big accident</td>\n",
       "      <td>11.000000</td>\n",
       "      <td>22</td>\n",
       "      <td>0.269092</td>\n",
       "      <td>2</td>\n",
       "      <td>0.082784</td>\n",
       "    </tr>\n",
       "    <tr>\n",
       "      <th>22</th>\n",
       "      <td>cerebrovascular accident</td>\n",
       "      <td>1.437500</td>\n",
       "      <td>23</td>\n",
       "      <td>0.269092</td>\n",
       "      <td>16</td>\n",
       "      <td>0.662273</td>\n",
       "    </tr>\n",
       "    <tr>\n",
       "      <th>23</th>\n",
       "      <td>collusive accident</td>\n",
       "      <td>0.750000</td>\n",
       "      <td>24</td>\n",
       "      <td>0.269092</td>\n",
       "      <td>32</td>\n",
       "      <td>1.324547</td>\n",
       "    </tr>\n",
       "    <tr>\n",
       "      <th>24</th>\n",
       "      <td>common accident</td>\n",
       "      <td>0.757576</td>\n",
       "      <td>25</td>\n",
       "      <td>0.269092</td>\n",
       "      <td>33</td>\n",
       "      <td>1.365939</td>\n",
       "    </tr>\n",
       "    <tr>\n",
       "      <th>25</th>\n",
       "      <td>complete accident</td>\n",
       "      <td>0.764706</td>\n",
       "      <td>26</td>\n",
       "      <td>0.269092</td>\n",
       "      <td>34</td>\n",
       "      <td>1.407331</td>\n",
       "    </tr>\n",
       "    <tr>\n",
       "      <th>26</th>\n",
       "      <td>conceivable accident</td>\n",
       "      <td>0.771429</td>\n",
       "      <td>27</td>\n",
       "      <td>0.269092</td>\n",
       "      <td>35</td>\n",
       "      <td>1.448723</td>\n",
       "    </tr>\n",
       "    <tr>\n",
       "      <th>27</th>\n",
       "      <td>diving accident</td>\n",
       "      <td>0.777778</td>\n",
       "      <td>28</td>\n",
       "      <td>0.269092</td>\n",
       "      <td>36</td>\n",
       "      <td>1.490115</td>\n",
       "    </tr>\n",
       "    <tr>\n",
       "      <th>28</th>\n",
       "      <td>entertaining accident</td>\n",
       "      <td>0.783784</td>\n",
       "      <td>29</td>\n",
       "      <td>0.269092</td>\n",
       "      <td>37</td>\n",
       "      <td>1.531507</td>\n",
       "    </tr>\n",
       "    <tr>\n",
       "      <th>29</th>\n",
       "      <td>exceptional accident</td>\n",
       "      <td>0.789474</td>\n",
       "      <td>30</td>\n",
       "      <td>0.269092</td>\n",
       "      <td>38</td>\n",
       "      <td>1.572899</td>\n",
       "    </tr>\n",
       "  </tbody>\n",
       "</table>\n",
       "</div>"
      ],
      "text/plain": [
       "               adj. accident  Overuse rank/rank  BNC rank  BNC ratio (*1m)  \\\n",
       "0           serious accident           0.200000         1         3.229109   \n",
       "1             fatal accident           0.333333         2         0.269092   \n",
       "2           nuclear accident           3.000000         3         0.807277   \n",
       "3          personal accident           0.148148         4         0.269092   \n",
       "4        historical accident           0.277778         5         0.807277   \n",
       "5         disabling accident           0.214286         6         0.807277   \n",
       "6        industrial accident           0.368421         7         1.076370   \n",
       "7             lucky accident           0.800000         8         0.269092   \n",
       "8              mere accident           0.450000         9         0.807277   \n",
       "9      catastrophic accident           0.476190        10         0.269092   \n",
       "10         dreadful accident           0.379310        11         0.538185   \n",
       "11            major accident           0.545455        12         0.538185   \n",
       "12            minor accident           1.083333        13         0.538185   \n",
       "13              sad accident           1.076923        14         0.538185   \n",
       "14          similar accident           1.071429        15         0.538185   \n",
       "15         terrible accident           5.333333        16         0.538185   \n",
       "16           tragic accident           2.125000        17         0.538185   \n",
       "17          british accident           0.600000        18         0.269092   \n",
       "18        appalling accident           0.612903        19         0.269092   \n",
       "19            awful accident           1.333333        20         0.269092   \n",
       "20              bad accident           5.250000        21         0.269092   \n",
       "21              big accident          11.000000        22         0.269092   \n",
       "22  cerebrovascular accident           1.437500        23         0.269092   \n",
       "23        collusive accident           0.750000        24         0.269092   \n",
       "24           common accident           0.757576        25         0.269092   \n",
       "25         complete accident           0.764706        26         0.269092   \n",
       "26      conceivable accident           0.771429        27         0.269092   \n",
       "27           diving accident           0.777778        28         0.269092   \n",
       "28     entertaining accident           0.783784        29         0.269092   \n",
       "29      exceptional accident           0.789474        30         0.269092   \n",
       "\n",
       "    Lang-8 rank  Lang-8 ratio (*1m)  \n",
       "0             5            0.206960  \n",
       "1             6            0.248353  \n",
       "2             1            0.041392  \n",
       "3            27            1.117586  \n",
       "4            18            0.745058  \n",
       "5            28            1.158978  \n",
       "6            19            0.786450  \n",
       "7            10            0.413921  \n",
       "8            20            0.827842  \n",
       "9            21            0.869234  \n",
       "10           29            1.200371  \n",
       "11           22            0.910626  \n",
       "12           12            0.496705  \n",
       "13           13            0.538097  \n",
       "14           14            0.579489  \n",
       "15            3            0.124176  \n",
       "16            8            0.331137  \n",
       "17           30            1.241763  \n",
       "18           31            1.283155  \n",
       "19           15            0.620881  \n",
       "20            4            0.165568  \n",
       "21            2            0.082784  \n",
       "22           16            0.662273  \n",
       "23           32            1.324547  \n",
       "24           33            1.365939  \n",
       "25           34            1.407331  \n",
       "26           35            1.448723  \n",
       "27           36            1.490115  \n",
       "28           37            1.531507  \n",
       "29           38            1.572899  "
      ]
     },
     "execution_count": 22,
     "metadata": {},
     "output_type": "execute_result"
    }
   ],
   "source": [
    "import pandas as pd\n",
    "\n",
    "frame_ptr = pd.DataFrame(get_accident_ranks(), columns=[\"adj. accident\", \"Overuse rank/rank\", \"BNC rank\", \"BNC ratio (*1m)\", \"Lang-8 rank\", \"Lang-8 ratio (*1m)\"])\n",
    "frame_ptr.head(30)"
   ]
  },
  {
   "cell_type": "code",
   "execution_count": 23,
   "id": "f6564d9e",
   "metadata": {},
   "outputs": [
    {
     "data": {
      "text/html": [
       "<div>\n",
       "<style scoped>\n",
       "    .dataframe tbody tr th:only-of-type {\n",
       "        vertical-align: middle;\n",
       "    }\n",
       "\n",
       "    .dataframe tbody tr th {\n",
       "        vertical-align: top;\n",
       "    }\n",
       "\n",
       "    .dataframe thead th {\n",
       "        text-align: right;\n",
       "    }\n",
       "</style>\n",
       "<table border=\"1\" class=\"dataframe\">\n",
       "  <thead>\n",
       "    <tr style=\"text-align: right;\">\n",
       "      <th></th>\n",
       "      <th>adj. accident</th>\n",
       "      <th>Overuse rank/rank</th>\n",
       "      <th>BNC rank</th>\n",
       "      <th>BNC ratio (*1m)</th>\n",
       "      <th>Lang-8 rank</th>\n",
       "      <th>Lang-8 ratio (*1m)</th>\n",
       "    </tr>\n",
       "  </thead>\n",
       "  <tbody>\n",
       "    <tr>\n",
       "      <th>0</th>\n",
       "      <td>serious accident</td>\n",
       "      <td>0.20</td>\n",
       "      <td>1</td>\n",
       "      <td>3.23</td>\n",
       "      <td>5</td>\n",
       "      <td>0.21</td>\n",
       "    </tr>\n",
       "    <tr>\n",
       "      <th>1</th>\n",
       "      <td>fatal accident</td>\n",
       "      <td>0.33</td>\n",
       "      <td>2</td>\n",
       "      <td>0.27</td>\n",
       "      <td>6</td>\n",
       "      <td>0.25</td>\n",
       "    </tr>\n",
       "    <tr>\n",
       "      <th>2</th>\n",
       "      <td>nuclear accident</td>\n",
       "      <td>3.00</td>\n",
       "      <td>3</td>\n",
       "      <td>0.81</td>\n",
       "      <td>1</td>\n",
       "      <td>0.04</td>\n",
       "    </tr>\n",
       "    <tr>\n",
       "      <th>3</th>\n",
       "      <td>personal accident</td>\n",
       "      <td>0.15</td>\n",
       "      <td>4</td>\n",
       "      <td>0.27</td>\n",
       "      <td>27</td>\n",
       "      <td>1.12</td>\n",
       "    </tr>\n",
       "    <tr>\n",
       "      <th>4</th>\n",
       "      <td>historical accident</td>\n",
       "      <td>0.28</td>\n",
       "      <td>5</td>\n",
       "      <td>0.81</td>\n",
       "      <td>18</td>\n",
       "      <td>0.75</td>\n",
       "    </tr>\n",
       "    <tr>\n",
       "      <th>5</th>\n",
       "      <td>disabling accident</td>\n",
       "      <td>0.21</td>\n",
       "      <td>6</td>\n",
       "      <td>0.81</td>\n",
       "      <td>28</td>\n",
       "      <td>1.16</td>\n",
       "    </tr>\n",
       "    <tr>\n",
       "      <th>6</th>\n",
       "      <td>industrial accident</td>\n",
       "      <td>0.37</td>\n",
       "      <td>7</td>\n",
       "      <td>1.08</td>\n",
       "      <td>19</td>\n",
       "      <td>0.79</td>\n",
       "    </tr>\n",
       "    <tr>\n",
       "      <th>7</th>\n",
       "      <td>lucky accident</td>\n",
       "      <td>0.80</td>\n",
       "      <td>8</td>\n",
       "      <td>0.27</td>\n",
       "      <td>10</td>\n",
       "      <td>0.41</td>\n",
       "    </tr>\n",
       "    <tr>\n",
       "      <th>8</th>\n",
       "      <td>mere accident</td>\n",
       "      <td>0.45</td>\n",
       "      <td>9</td>\n",
       "      <td>0.81</td>\n",
       "      <td>20</td>\n",
       "      <td>0.83</td>\n",
       "    </tr>\n",
       "    <tr>\n",
       "      <th>9</th>\n",
       "      <td>catastrophic accident</td>\n",
       "      <td>0.48</td>\n",
       "      <td>10</td>\n",
       "      <td>0.27</td>\n",
       "      <td>21</td>\n",
       "      <td>0.87</td>\n",
       "    </tr>\n",
       "    <tr>\n",
       "      <th>10</th>\n",
       "      <td>dreadful accident</td>\n",
       "      <td>0.38</td>\n",
       "      <td>11</td>\n",
       "      <td>0.54</td>\n",
       "      <td>29</td>\n",
       "      <td>1.20</td>\n",
       "    </tr>\n",
       "    <tr>\n",
       "      <th>11</th>\n",
       "      <td>major accident</td>\n",
       "      <td>0.55</td>\n",
       "      <td>12</td>\n",
       "      <td>0.54</td>\n",
       "      <td>22</td>\n",
       "      <td>0.91</td>\n",
       "    </tr>\n",
       "    <tr>\n",
       "      <th>12</th>\n",
       "      <td>minor accident</td>\n",
       "      <td>1.08</td>\n",
       "      <td>13</td>\n",
       "      <td>0.54</td>\n",
       "      <td>12</td>\n",
       "      <td>0.50</td>\n",
       "    </tr>\n",
       "    <tr>\n",
       "      <th>13</th>\n",
       "      <td>sad accident</td>\n",
       "      <td>1.08</td>\n",
       "      <td>14</td>\n",
       "      <td>0.54</td>\n",
       "      <td>13</td>\n",
       "      <td>0.54</td>\n",
       "    </tr>\n",
       "    <tr>\n",
       "      <th>14</th>\n",
       "      <td>similar accident</td>\n",
       "      <td>1.07</td>\n",
       "      <td>15</td>\n",
       "      <td>0.54</td>\n",
       "      <td>14</td>\n",
       "      <td>0.58</td>\n",
       "    </tr>\n",
       "    <tr>\n",
       "      <th>15</th>\n",
       "      <td>terrible accident</td>\n",
       "      <td>5.33</td>\n",
       "      <td>16</td>\n",
       "      <td>0.54</td>\n",
       "      <td>3</td>\n",
       "      <td>0.12</td>\n",
       "    </tr>\n",
       "    <tr>\n",
       "      <th>16</th>\n",
       "      <td>tragic accident</td>\n",
       "      <td>2.12</td>\n",
       "      <td>17</td>\n",
       "      <td>0.54</td>\n",
       "      <td>8</td>\n",
       "      <td>0.33</td>\n",
       "    </tr>\n",
       "    <tr>\n",
       "      <th>17</th>\n",
       "      <td>british accident</td>\n",
       "      <td>0.60</td>\n",
       "      <td>18</td>\n",
       "      <td>0.27</td>\n",
       "      <td>30</td>\n",
       "      <td>1.24</td>\n",
       "    </tr>\n",
       "    <tr>\n",
       "      <th>18</th>\n",
       "      <td>appalling accident</td>\n",
       "      <td>0.61</td>\n",
       "      <td>19</td>\n",
       "      <td>0.27</td>\n",
       "      <td>31</td>\n",
       "      <td>1.28</td>\n",
       "    </tr>\n",
       "    <tr>\n",
       "      <th>19</th>\n",
       "      <td>awful accident</td>\n",
       "      <td>1.33</td>\n",
       "      <td>20</td>\n",
       "      <td>0.27</td>\n",
       "      <td>15</td>\n",
       "      <td>0.62</td>\n",
       "    </tr>\n",
       "    <tr>\n",
       "      <th>20</th>\n",
       "      <td>bad accident</td>\n",
       "      <td>5.25</td>\n",
       "      <td>21</td>\n",
       "      <td>0.27</td>\n",
       "      <td>4</td>\n",
       "      <td>0.17</td>\n",
       "    </tr>\n",
       "    <tr>\n",
       "      <th>21</th>\n",
       "      <td>big accident</td>\n",
       "      <td>11.00</td>\n",
       "      <td>22</td>\n",
       "      <td>0.27</td>\n",
       "      <td>2</td>\n",
       "      <td>0.08</td>\n",
       "    </tr>\n",
       "    <tr>\n",
       "      <th>22</th>\n",
       "      <td>cerebrovascular accident</td>\n",
       "      <td>1.44</td>\n",
       "      <td>23</td>\n",
       "      <td>0.27</td>\n",
       "      <td>16</td>\n",
       "      <td>0.66</td>\n",
       "    </tr>\n",
       "    <tr>\n",
       "      <th>23</th>\n",
       "      <td>collusive accident</td>\n",
       "      <td>0.75</td>\n",
       "      <td>24</td>\n",
       "      <td>0.27</td>\n",
       "      <td>32</td>\n",
       "      <td>1.32</td>\n",
       "    </tr>\n",
       "    <tr>\n",
       "      <th>24</th>\n",
       "      <td>common accident</td>\n",
       "      <td>0.76</td>\n",
       "      <td>25</td>\n",
       "      <td>0.27</td>\n",
       "      <td>33</td>\n",
       "      <td>1.37</td>\n",
       "    </tr>\n",
       "    <tr>\n",
       "      <th>25</th>\n",
       "      <td>complete accident</td>\n",
       "      <td>0.76</td>\n",
       "      <td>26</td>\n",
       "      <td>0.27</td>\n",
       "      <td>34</td>\n",
       "      <td>1.41</td>\n",
       "    </tr>\n",
       "    <tr>\n",
       "      <th>26</th>\n",
       "      <td>conceivable accident</td>\n",
       "      <td>0.77</td>\n",
       "      <td>27</td>\n",
       "      <td>0.27</td>\n",
       "      <td>35</td>\n",
       "      <td>1.45</td>\n",
       "    </tr>\n",
       "    <tr>\n",
       "      <th>27</th>\n",
       "      <td>diving accident</td>\n",
       "      <td>0.78</td>\n",
       "      <td>28</td>\n",
       "      <td>0.27</td>\n",
       "      <td>36</td>\n",
       "      <td>1.49</td>\n",
       "    </tr>\n",
       "    <tr>\n",
       "      <th>28</th>\n",
       "      <td>entertaining accident</td>\n",
       "      <td>0.78</td>\n",
       "      <td>29</td>\n",
       "      <td>0.27</td>\n",
       "      <td>37</td>\n",
       "      <td>1.53</td>\n",
       "    </tr>\n",
       "    <tr>\n",
       "      <th>29</th>\n",
       "      <td>exceptional accident</td>\n",
       "      <td>0.79</td>\n",
       "      <td>30</td>\n",
       "      <td>0.27</td>\n",
       "      <td>38</td>\n",
       "      <td>1.57</td>\n",
       "    </tr>\n",
       "  </tbody>\n",
       "</table>\n",
       "</div>"
      ],
      "text/plain": [
       "               adj. accident  Overuse rank/rank  BNC rank  BNC ratio (*1m)  \\\n",
       "0           serious accident               0.20         1             3.23   \n",
       "1             fatal accident               0.33         2             0.27   \n",
       "2           nuclear accident               3.00         3             0.81   \n",
       "3          personal accident               0.15         4             0.27   \n",
       "4        historical accident               0.28         5             0.81   \n",
       "5         disabling accident               0.21         6             0.81   \n",
       "6        industrial accident               0.37         7             1.08   \n",
       "7             lucky accident               0.80         8             0.27   \n",
       "8              mere accident               0.45         9             0.81   \n",
       "9      catastrophic accident               0.48        10             0.27   \n",
       "10         dreadful accident               0.38        11             0.54   \n",
       "11            major accident               0.55        12             0.54   \n",
       "12            minor accident               1.08        13             0.54   \n",
       "13              sad accident               1.08        14             0.54   \n",
       "14          similar accident               1.07        15             0.54   \n",
       "15         terrible accident               5.33        16             0.54   \n",
       "16           tragic accident               2.12        17             0.54   \n",
       "17          british accident               0.60        18             0.27   \n",
       "18        appalling accident               0.61        19             0.27   \n",
       "19            awful accident               1.33        20             0.27   \n",
       "20              bad accident               5.25        21             0.27   \n",
       "21              big accident              11.00        22             0.27   \n",
       "22  cerebrovascular accident               1.44        23             0.27   \n",
       "23        collusive accident               0.75        24             0.27   \n",
       "24           common accident               0.76        25             0.27   \n",
       "25         complete accident               0.76        26             0.27   \n",
       "26      conceivable accident               0.77        27             0.27   \n",
       "27           diving accident               0.78        28             0.27   \n",
       "28     entertaining accident               0.78        29             0.27   \n",
       "29      exceptional accident               0.79        30             0.27   \n",
       "\n",
       "    Lang-8 rank  Lang-8 ratio (*1m)  \n",
       "0             5                0.21  \n",
       "1             6                0.25  \n",
       "2             1                0.04  \n",
       "3            27                1.12  \n",
       "4            18                0.75  \n",
       "5            28                1.16  \n",
       "6            19                0.79  \n",
       "7            10                0.41  \n",
       "8            20                0.83  \n",
       "9            21                0.87  \n",
       "10           29                1.20  \n",
       "11           22                0.91  \n",
       "12           12                0.50  \n",
       "13           13                0.54  \n",
       "14           14                0.58  \n",
       "15            3                0.12  \n",
       "16            8                0.33  \n",
       "17           30                1.24  \n",
       "18           31                1.28  \n",
       "19           15                0.62  \n",
       "20            4                0.17  \n",
       "21            2                0.08  \n",
       "22           16                0.66  \n",
       "23           32                1.32  \n",
       "24           33                1.37  \n",
       "25           34                1.41  \n",
       "26           35                1.45  \n",
       "27           36                1.49  \n",
       "28           37                1.53  \n",
       "29           38                1.57  "
      ]
     },
     "execution_count": 23,
     "metadata": {},
     "output_type": "execute_result"
    }
   ],
   "source": [
    "frame_ptr.round(2).head(30)"
   ]
  }
 ],
 "metadata": {
  "kernelspec": {
   "display_name": "Python 3 (ipykernel)",
   "language": "python",
   "name": "python3"
  },
  "language_info": {
   "codemirror_mode": {
    "name": "ipython",
    "version": 3
   },
   "file_extension": ".py",
   "mimetype": "text/x-python",
   "name": "python",
   "nbconvert_exporter": "python",
   "pygments_lexer": "ipython3",
   "version": "3.8.13"
  }
 },
 "nbformat": 4,
 "nbformat_minor": 5
}
