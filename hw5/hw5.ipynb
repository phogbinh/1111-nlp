{
 "cells": [
  {
   "cell_type": "code",
   "execution_count": 1,
   "id": "8ccf0641-0617-4ee1-b016-8c1bae67cc92",
   "metadata": {},
   "outputs": [],
   "source": [
    "from bs4 import BeautifulSoup as bs\n",
    "import json\n",
    "import jsonlines\n",
    "from tqdm import tqdm"
   ]
  },
  {
   "cell_type": "code",
   "execution_count": 2,
   "id": "49f64c37-5ef9-4717-aa2e-ee95037f4fa4",
   "metadata": {},
   "outputs": [
    {
     "name": "stderr",
     "output_type": "stream",
     "text": [
      "100%|█| 44309/44309 [00:32<00:00, 1375.2"
     ]
    },
    {
     "name": "stdout",
     "output_type": "stream",
     "text": [
      "44309\n"
     ]
    },
    {
     "name": "stderr",
     "output_type": "stream",
     "text": [
      "\n"
     ]
    }
   ],
   "source": [
    "file = open(\"med.cd.az.xml\", \"r\", encoding = \"utf-8\")\n",
    "content = file.readlines()\n",
    "bs_contents = []\n",
    "for line in tqdm(content):\n",
    "  bs_contents.append(bs(line, \"xml\"))\n",
    "print(len(bs_contents))"
   ]
  },
  {
   "cell_type": "code",
   "execution_count": 3,
   "id": "e5dbfa41",
   "metadata": {},
   "outputs": [
    {
     "data": {
      "text/plain": [
       "<?xml version=\"1.0\" encoding=\"utf-8\"?>\n",
       "<HOMOGRAPH ID=\"399281\"><HEAD><BASE-FORM><ENTRY0>AT&amp;T</ENTRY0><PRONS><PRON ID=\"0\">e ti n ti</PRON></PRONS></BASE-FORM></HEAD><SENSE><DEFINITION>American Telephone and Telegraph Company: a large US telephone company</DEFINITION><trans lang=\"zh_HK\">美國電話電報公司</trans></SENSE></HOMOGRAPH>"
      ]
     },
     "execution_count": 3,
     "metadata": {},
     "output_type": "execute_result"
    }
   ],
   "source": [
    "bs_contents[2000]"
   ]
  },
  {
   "cell_type": "code",
   "execution_count": 4,
   "id": "f4c44e26",
   "metadata": {},
   "outputs": [
    {
     "name": "stderr",
     "output_type": "stream",
     "text": [
      "  5%| | 2000/44309 [00:00<00:00, 972817."
     ]
    },
    {
     "name": "stdout",
     "output_type": "stream",
     "text": [
      "data:\n",
      "<?xml version=\"1.0\" encoding=\"utf-8\"?>\n",
      "<HOMOGRAPH ID=\"399281\"><HEAD><BASE-FORM><ENTRY0>AT&amp;T</ENTRY0><PRONS><PRON ID=\"0\">e ti n ti</PRON></PRONS></BASE-FORM></HEAD><SENSE><DEFINITION>American Telephone and Telegraph Company: a large US telephone company</DEFINITION><trans lang=\"zh_HK\">美國電話電報公司</trans></SENSE></HOMOGRAPH>\n",
      "type:\n",
      "<class 'bs4.BeautifulSoup'>\n"
     ]
    },
    {
     "name": "stderr",
     "output_type": "stream",
     "text": [
      "\n"
     ]
    }
   ],
   "source": [
    "def print_data_and_type(idx):\n",
    "  i = 0\n",
    "  for bs_content in tqdm(bs_contents):\n",
    "    if i == idx:\n",
    "      print(\"data:\")\n",
    "      print(bs_content)\n",
    "      print(\"type:\")\n",
    "      print(type(bs_content))\n",
    "      return\n",
    "    i = i + 1\n",
    "\n",
    "print_data_and_type(2000)"
   ]
  },
  {
   "cell_type": "markdown",
   "id": "0838cf5d",
   "metadata": {},
   "source": [
    "# tqdm\n",
    "20221013 this package is only to display current iteration progress, it does not modify the data."
   ]
  },
  {
   "cell_type": "code",
   "execution_count": 5,
   "id": "59ec090d",
   "metadata": {},
   "outputs": [
    {
     "name": "stdout",
     "output_type": "stream",
     "text": [
      "1\n"
     ]
    }
   ],
   "source": [
    "entries = bs_contents[39].find_all(\"HOMOGRAPH\")\n",
    "print(len(entries))"
   ]
  },
  {
   "cell_type": "code",
   "execution_count": 6,
   "id": "fd8578dd",
   "metadata": {},
   "outputs": [
    {
     "name": "stdout",
     "output_type": "stream",
     "text": [
      "<class 'bs4.element.Tag'>\n"
     ]
    }
   ],
   "source": [
    "entry = entries[0]\n",
    "print(type(entry))"
   ]
  },
  {
   "cell_type": "code",
   "execution_count": 7,
   "id": "fdcff4b4",
   "metadata": {},
   "outputs": [
    {
     "data": {
      "text/plain": [
       "'398191'"
      ]
     },
     "execution_count": 7,
     "metadata": {},
     "output_type": "execute_result"
    }
   ],
   "source": [
    "entry[\"ID\"]"
   ]
  },
  {
   "cell_type": "code",
   "execution_count": 8,
   "id": "d84183b7",
   "metadata": {},
   "outputs": [
    {
     "data": {
      "text/plain": [
       "'1922 Committee, the'"
      ]
     },
     "execution_count": 8,
     "metadata": {},
     "output_type": "execute_result"
    }
   ],
   "source": [
    "str(entry.find_all([\"ENTRY0\", \"ENTRY13\"])[0].text)"
   ]
  },
  {
   "cell_type": "code",
   "execution_count": 9,
   "id": "291a23ed",
   "metadata": {},
   "outputs": [
    {
     "name": "stdout",
     "output_type": "stream",
     "text": [
      "True\n"
     ]
    }
   ],
   "source": [
    "print('<?xml version=\"1.0\" encoding=\"utf-8\"?>' + '\\n' + str(entry) == str(bs_contents[39]))"
   ]
  },
  {
   "cell_type": "code",
   "execution_count": 10,
   "id": "dc800bed",
   "metadata": {},
   "outputs": [
    {
     "name": "stdout",
     "output_type": "stream",
     "text": [
      "None\n"
     ]
    }
   ],
   "source": [
    "print(entry.find(\"PART-OF-SPEECH\"))"
   ]
  },
  {
   "cell_type": "code",
   "execution_count": 11,
   "id": "e94ff270",
   "metadata": {},
   "outputs": [
    {
     "name": "stdout",
     "output_type": "stream",
     "text": [
      "data:\n",
      "<DEFINITION>the Conservative members of the British parliament who are <NDV>backbenchers</NDV> <GL>not ministers</GL></DEFINITION>\n",
      "type:\n",
      "<class 'bs4.element.Tag'>\n"
     ]
    }
   ],
   "source": [
    "data = entry.find(\"DEFINITION\")\n",
    "print(\"data:\")\n",
    "print(data)\n",
    "print(\"type:\")\n",
    "print(type(data))"
   ]
  },
  {
   "cell_type": "code",
   "execution_count": 12,
   "id": "95150b39",
   "metadata": {},
   "outputs": [
    {
     "name": "stdout",
     "output_type": "stream",
     "text": [
      "the Conservative members of the British parliament who are DEFINITIONbackbenchersDEFINITION DEFINITIONnot ministers\n"
     ]
    }
   ],
   "source": [
    "print(data.get_text(\"DEFINITION\"))"
   ]
  },
  {
   "cell_type": "code",
   "execution_count": 13,
   "id": "3734bb9b",
   "metadata": {},
   "outputs": [
    {
     "name": "stdout",
     "output_type": "stream",
     "text": [
      "the Conservative members of the British parliament who are backbenchers not ministers\n"
     ]
    }
   ],
   "source": [
    "print(data.text)"
   ]
  },
  {
   "cell_type": "code",
   "execution_count": 14,
   "id": "b9759103",
   "metadata": {},
   "outputs": [],
   "source": [
    "def get_example(example):\n",
    "  result = {}\n",
    "  fields = [\"EXAMPLE\", \"trans\"]\n",
    "  for field in fields:\n",
    "    if example.find(field) != None:\n",
    "      result[field] = example.find(field).text\n",
    "  return result"
   ]
  },
  {
   "cell_type": "code",
   "execution_count": 15,
   "id": "67fa03c8",
   "metadata": {},
   "outputs": [],
   "source": [
    "def get_phrase(phrase):\n",
    "  result = {}\n",
    "  fields = [\"DEFINITION\", \"MULTIWORD\", \"trans\"]\n",
    "  for field in fields:\n",
    "    if phrase.find(field) != None:\n",
    "      result[field] = phrase.find(field).text\n",
    "  if phrase.find(\"EXAMPLES\") != None:\n",
    "    result[\"EXAMPLES\"] = []\n",
    "    for example in phrase.find_all(\"EXAMPLES\"):\n",
    "      result[\"EXAMPLES\"].append(get_example(example))\n",
    "  return result"
   ]
  },
  {
   "cell_type": "code",
   "execution_count": 16,
   "id": "5d015d23",
   "metadata": {},
   "outputs": [],
   "source": [
    "def get_subsense(subsense):\n",
    "  result = {}\n",
    "  if subsense.find(\"SUB-SENSE-NUM\") != None:\n",
    "    result[\"SUB-SENSE-NUM\"] = subsense.find(\"SUB-SENSE-NUM\").text\n",
    "  result.update(get_sense(subsense))\n",
    "  return result"
   ]
  },
  {
   "cell_type": "code",
   "execution_count": 17,
   "id": "5c48bda2",
   "metadata": {},
   "outputs": [],
   "source": [
    "def get_sense(sense):\n",
    "  result = {}\n",
    "  fields = [\"SENSE-NUM\", \"DEFINITION\", \"trans\"]\n",
    "  for field in fields:\n",
    "    if sense.find(field) != None:\n",
    "      result[field] = sense.find(field).text\n",
    "  if sense.find(\"EXAMPLES\") != None:\n",
    "    result[\"EXAMPLES\"] = []\n",
    "    for example in sense.find_all(\"EXAMPLES\"):\n",
    "      result[\"EXAMPLES\"].append(get_example(example))\n",
    "  if sense.find(\"SUB-SENSE\") != None:\n",
    "    result[\"SUB-SENSE\"] = []\n",
    "    for subsense in sense.find_all(\"SUB-SENSE\"):\n",
    "      result[\"SUB-SENSE\"].append(get_subsense(subsense))\n",
    "  return result"
   ]
  },
  {
   "cell_type": "code",
   "execution_count": 18,
   "id": "0db64bac",
   "metadata": {},
   "outputs": [
    {
     "name": "stderr",
     "output_type": "stream",
     "text": [
      "100%|█| 44309/44309 [00:28<00:00, 1577.0\n"
     ]
    }
   ],
   "source": [
    "def get_dict():\n",
    "  result = {}\n",
    "  records_num = 0\n",
    "  for bs_content in tqdm(bs_contents):\n",
    "    entry = bs_content.find(\"HOMOGRAPH\") # there is <= 1 homograph per bs_content\n",
    "    if entry == None:\n",
    "      continue\n",
    "    records_num = records_num + 1\n",
    "    word_dict = {}\n",
    "    word_dict[\"ID\"] = entry[\"ID\"]\n",
    "    if entry.find(\"PART-OF-SPEECH\") != None:\n",
    "      word_dict[\"PART-OF-SPEECH\"] = entry.find(\"PART-OF-SPEECH\").text\n",
    "    if entry.find(\"PHRASE\") != None:\n",
    "      word_dict[\"PHRASE\"] = []\n",
    "      for phrase in entry.find_all(\"PHRASE\"):\n",
    "        word_dict[\"PHRASE\"].append(get_phrase(phrase))\n",
    "    if entry.find(\"SENSE\") != None or entry.find(\"SENSE45\") != None:\n",
    "      word_dict[\"SENSE\"] = []\n",
    "      if entry.find(\"SENSE\") != None:\n",
    "        for sense in entry.find_all(\"SENSE\"):\n",
    "          word_dict[\"SENSE\"].append(get_sense(sense))\n",
    "      if entry.find(\"SENSE45\") != None:\n",
    "        for sense in entry.find_all(\"SENSE45\"):\n",
    "          word_dict[\"SENSE\"].append(get_sense(sense))\n",
    "    result[str(entry.find_all([\"ENTRY0\", \"ENTRY13\"])[0].text)] = word_dict\n",
    "  return result\n",
    "\n",
    "my_dict = get_dict()"
   ]
  },
  {
   "cell_type": "code",
   "execution_count": 19,
   "id": "ecaae347",
   "metadata": {},
   "outputs": [
    {
     "name": "stdout",
     "output_type": "stream",
     "text": [
      "44197\n"
     ]
    }
   ],
   "source": [
    "print(len(my_dict))"
   ]
  },
  {
   "cell_type": "code",
   "execution_count": 20,
   "id": "6d5f331e",
   "metadata": {},
   "outputs": [],
   "source": [
    "def print_word(key):\n",
    "  print(json.dumps(my_dict[key], indent=2, ensure_ascii=False))"
   ]
  },
  {
   "cell_type": "code",
   "execution_count": 21,
   "id": "395040fa",
   "metadata": {},
   "outputs": [
    {
     "name": "stdout",
     "output_type": "stream",
     "text": [
      "{\n",
      "  \"ID\": \"291251\",\n",
      "  \"PART-OF-SPEECH\": \"verb\",\n",
      "  \"PHRASE\": [\n",
      "    {\n",
      "      \"DEFINITION\": \"to say whether someone is guilty or not guilty of a crime in a court of law\",\n",
      "      \"MULTIWORD\": \"return a verdict (of sth)\",\n",
      "      \"trans\": \"宣佈判決\",\n",
      "      \"EXAMPLES\": [\n",
      "        {\n",
      "          \"EXAMPLE\": \"After several hours the jury returned a verdict of not guilty.\",\n",
      "          \"trans\": \"幾小時後陪審團宣佈無罪的判決。\"\n",
      "        }\n",
      "      ]\n",
      "    }\n",
      "  ],\n",
      "  \"SENSE\": [\n",
      "    {\n",
      "      \"SENSE-NUM\": \"1\",\n",
      "      \"DEFINITION\": \"to go back to a place where you were earlier, or to come back from a place where you have just been\",\n",
      "      \"trans\": \"返回，回來\",\n",
      "      \"EXAMPLES\": [\n",
      "        {\n",
      "          \"EXAMPLE\": \"One day she just walked out and never returned.\",\n",
      "          \"trans\": \"有一天她出去後就再也沒回來。\"\n",
      "        },\n",
      "        {\n",
      "          \"EXAMPLE\": \"Be careful. We want you to return to base in one piece.\",\n",
      "          \"trans\": \"小心點。我們希望你安然無恙地返回基地。\"\n",
      "        },\n",
      "        {\n",
      "          \"EXAMPLE\": \"And when do you return from Paris?\",\n",
      "          \"trans\": \"你何時從巴黎回來？\"\n",
      "        },\n",
      "        {\n",
      "          \"EXAMPLE\": \"He returned home around midnight.\",\n",
      "          \"trans\": \"他半夜左右才回到家。\"\n",
      "        },\n",
      "        {\n",
      "          \"EXAMPLE\": \"I see that the good weather has returned.\",\n",
      "          \"trans\": \"我注意到天氣又好起來了。\"\n",
      "        },\n",
      "        {\n",
      "          \"EXAMPLE\": \"If the nausea returns, take one of these pills.\",\n",
      "          \"trans\": \"如果再反胃，就吃一片這種藥。\"\n",
      "        },\n",
      "        {\n",
      "          \"EXAMPLE\": \"Once the holidays were over, our lives returned to normal.\",\n",
      "          \"trans\": \"假期一結束，我們的生活就恢復正常了。\"\n",
      "        },\n",
      "        {\n",
      "          \"EXAMPLE\": \"All my fears returned when I realized hed gone to see her again.\",\n",
      "          \"trans\": \"當我知道他又去見她時，我所有的恐懼又重新出現。\"\n",
      "        },\n",
      "        {\n",
      "          \"EXAMPLE\": \"Id like to return to what David was saying earlier.\",\n",
      "          \"trans\": \"我想回到大衛剛才講的內容上。\"\n",
      "        },\n",
      "        {\n",
      "          \"EXAMPLE\": \"She looked up momentarily but then returned to her reading.\",\n",
      "          \"trans\": \"她抬起頭來看了一下，但之後又繼續看書。\"\n",
      "        },\n",
      "        {\n",
      "          \"EXAMPLE\": \"He wont be able to return to work for at least two weeks.\",\n",
      "          \"trans\": \"他至少兩個星期後才能重返工作崗位。\"\n",
      "        }\n",
      "      ],\n",
      "      \"SUB-SENSE\": [\n",
      "        {\n",
      "          \"SUB-SENSE-NUM\": \"1a\",\n",
      "          \"DEFINITION\": \"if a feeling or situation returns, it starts to happen again\",\n",
      "          \"trans\": \"恢復；再度發生\",\n",
      "          \"EXAMPLES\": [\n",
      "            {\n",
      "              \"EXAMPLE\": \"I see that the good weather has returned.\",\n",
      "              \"trans\": \"我注意到天氣又好起來了。\"\n",
      "            },\n",
      "            {\n",
      "              \"EXAMPLE\": \"If the nausea returns, take one of these pills.\",\n",
      "              \"trans\": \"如果再反胃，就吃一片這種藥。\"\n",
      "            },\n",
      "            {\n",
      "              \"EXAMPLE\": \"Once the holidays were over, our lives returned to normal.\",\n",
      "              \"trans\": \"假期一結束，我們的生活就恢復正常了。\"\n",
      "            },\n",
      "            {\n",
      "              \"EXAMPLE\": \"All my fears returned when I realized hed gone to see her again.\",\n",
      "              \"trans\": \"當我知道他又去見她時，我所有的恐懼又重新出現。\"\n",
      "            }\n",
      "          ]\n",
      "        },\n",
      "        {\n",
      "          \"SUB-SENSE-NUM\": \"1b\",\n",
      "          \"DEFINITION\": \"to go back to a subject that has already been mentioned\",\n",
      "          \"trans\": \"回到（剛才的話題）\",\n",
      "          \"EXAMPLES\": [\n",
      "            {\n",
      "              \"EXAMPLE\": \"Id like to return to what David was saying earlier.\",\n",
      "              \"trans\": \"我想回到大衛剛才講的內容上。\"\n",
      "            }\n",
      "          ]\n",
      "        },\n",
      "        {\n",
      "          \"SUB-SENSE-NUM\": \"1c\",\n",
      "          \"DEFINITION\": \"to go back to an activity after an interruption\",\n",
      "          \"trans\": \"繼續\",\n",
      "          \"EXAMPLES\": [\n",
      "            {\n",
      "              \"EXAMPLE\": \"She looked up momentarily but then returned to her reading.\",\n",
      "              \"trans\": \"她抬起頭來看了一下，但之後又繼續看書。\"\n",
      "            },\n",
      "            {\n",
      "              \"EXAMPLE\": \"He wont be able to return to work for at least two weeks.\",\n",
      "              \"trans\": \"他至少兩個星期後才能重返工作崗位。\"\n",
      "            }\n",
      "          ]\n",
      "        }\n",
      "      ]\n",
      "    },\n",
      "    {\n",
      "      \"SENSE-NUM\": \"2\",\n",
      "      \"DEFINITION\": \"to put, send, or take something back to the place where it came from\",\n",
      "      \"trans\": \"歸還；送回；退回\",\n",
      "      \"EXAMPLES\": [\n",
      "        {\n",
      "          \"EXAMPLE\": \"She had to return the dress because it didnt fit.\",\n",
      "          \"trans\": \"衣服不合適，她得把它退回。\"\n",
      "        },\n",
      "        {\n",
      "          \"EXAMPLE\": \"Please complete the questionnaire and return it to the personnel department.\",\n",
      "          \"trans\": \"請把問卷填好，然後送回人事部。\"\n",
      "        }\n",
      "      ]\n",
      "    },\n",
      "    {\n",
      "      \"SENSE-NUM\": \"3\",\n",
      "      \"DEFINITION\": \"to do or say something to someone that is similar to something that they have done or said to you\",\n",
      "      \"trans\": \"回報;回應;回覆\",\n",
      "      \"EXAMPLES\": [\n",
      "        {\n",
      "          \"EXAMPLE\": \"I waved and called to her, and she returned my greeting.\",\n",
      "          \"trans\": \"我向她揮手打招呼，她也回禮。\"\n",
      "        },\n",
      "        {\n",
      "          \"EXAMPLE\": \"Im sorry I wasnt able to return your phone call earlier.\",\n",
      "          \"trans\": \"對不起，我未能及早回覆你的電話。\"\n",
      "        },\n",
      "        {\n",
      "          \"EXAMPLE\": \"Thanks for helping me. Ill try to return the favour some day.\",\n",
      "          \"trans\": \"回報；報答\"\n",
      "        },\n",
      "        {\n",
      "          \"EXAMPLE\": \"She told me I looked well and I returned the compliment, telling her she looked terrific.\",\n",
      "          \"trans\": \"報以恭維\"\n",
      "        },\n",
      "        {\n",
      "          \"EXAMPLE\": \"As soon as we started shooting, the enemy returned our fire.\",\n",
      "          \"trans\": \"還擊某人\"\n",
      "        }\n",
      "      ]\n",
      "    },\n",
      "    {\n",
      "      \"SENSE-NUM\": \"4\",\n",
      "      \"DEFINITION\": \"to produce a particular amount of profit on money that has been invested\",\n",
      "      \"trans\": \"帶來（收益）\",\n",
      "      \"EXAMPLES\": [\n",
      "        {\n",
      "          \"EXAMPLE\": \"The £10,000 she invested returned a handsome profit.\",\n",
      "          \"trans\": \"她投資的1萬英鎊收益可觀。\"\n",
      "        }\n",
      "      ]\n",
      "    },\n",
      "    {\n",
      "      \"SENSE-NUM\": \"5\",\n",
      "      \"DEFINITION\": \"to hit a ball back to your opponent in a game such as tennis\",\n",
      "      \"trans\": \"回擊（球）\",\n",
      "      \"EXAMPLES\": [\n",
      "        {\n",
      "          \"EXAMPLE\": \"Agassi usually returns serve very well.\",\n",
      "          \"trans\": \"阿格西通常回擊發球非常出色。\"\n",
      "        }\n",
      "      ]\n",
      "    },\n",
      "    {\n",
      "      \"SENSE-NUM\": \"6\",\n",
      "      \"DEFINITION\": \"to elect someone to a position, especially in parliament\",\n",
      "      \"trans\": \"選舉，選出（尤指議員）\",\n",
      "      \"EXAMPLES\": [\n",
      "        {\n",
      "          \"EXAMPLE\": \"The voters returned her to parliament last year.\",\n",
      "          \"trans\": \"去年選民把她選入議會。\"\n",
      "        },\n",
      "        {\n",
      "          \"EXAMPLE\": \"It seems unlikely that the President will be returned to office.\",\n",
      "          \"trans\": \"總統好像不太可能連任。\"\n",
      "        }\n",
      "      ]\n",
      "    }\n",
      "  ]\n",
      "}\n"
     ]
    }
   ],
   "source": [
    "print_word(\"return1\")"
   ]
  },
  {
   "cell_type": "code",
   "execution_count": 22,
   "id": "9ed7027f",
   "metadata": {},
   "outputs": [
    {
     "name": "stdout",
     "output_type": "stream",
     "text": [
      "{\n",
      "  \"ID\": \"284722\",\n",
      "  \"PART-OF-SPEECH\": \"verb\",\n",
      "  \"SENSE\": [\n",
      "    {\n",
      "      \"SENSE-NUM\": \"1\",\n",
      "      \"DEFINITION\": \"to make a record of something that has happened, usually by writing it down\",\n",
      "      \"trans\": \"記錄\",\n",
      "      \"EXAMPLES\": [\n",
      "        {\n",
      "          \"EXAMPLE\": \"They were asked to record the time at which the attack happened.\",\n",
      "          \"trans\": \"他們被要求記錄下襲擊發生的時間。\"\n",
      "        },\n",
      "        {\n",
      "          \"EXAMPLE\": \"The coroner recorded a verdict of suicide.\",\n",
      "          \"trans\": \"法醫記錄下自殺的判定。\"\n",
      "        },\n",
      "        {\n",
      "          \"EXAMPLE\": \"His diaries record the lives of ordinary country people.\",\n",
      "          \"trans\": \"他的日記記載了普通鄉下人的生活。\"\n",
      "        },\n",
      "        {\n",
      "          \"EXAMPLE\": \"Temperatures as low as –70 degrees Celsius have been recorded.\",\n",
      "          \"trans\": \"儀器顯示溫度曾低至攝氏70度。\"\n",
      "        }\n",
      "      ],\n",
      "      \"SUB-SENSE\": [\n",
      "        {\n",
      "          \"SUB-SENSE-NUM\": \"1a\",\n",
      "          \"DEFINITION\": \"to officially decide something and write it down\",\n",
      "          \"trans\": \"（正式地）記錄\",\n",
      "          \"EXAMPLES\": [\n",
      "            {\n",
      "              \"EXAMPLE\": \"The coroner recorded a verdict of suicide.\",\n",
      "              \"trans\": \"法醫記錄下自殺的判定。\"\n",
      "            }\n",
      "          ]\n",
      "        },\n",
      "        {\n",
      "          \"SUB-SENSE-NUM\": \"1b\",\n",
      "          \"DEFINITION\": \"to be a record of something that has happened\",\n",
      "          \"trans\": \"記載\",\n",
      "          \"EXAMPLES\": [\n",
      "            {\n",
      "              \"EXAMPLE\": \"His diaries record the lives of ordinary country people.\",\n",
      "              \"trans\": \"他的日記記載了普通鄉下人的生活。\"\n",
      "            }\n",
      "          ]\n",
      "        },\n",
      "        {\n",
      "          \"SUB-SENSE-NUM\": \"1c\",\n",
      "          \"DEFINITION\": \"if a piece of equipment records an amount, it measures it and shows it\",\n",
      "          \"trans\": \"（儀器）顯示\",\n",
      "          \"EXAMPLES\": [\n",
      "            {\n",
      "              \"EXAMPLE\": \"Temperatures as low as –70 degrees Celsius have been recorded.\",\n",
      "              \"trans\": \"儀器顯示溫度曾低至攝氏70度。\"\n",
      "            }\n",
      "          ]\n",
      "        }\n",
      "      ]\n",
      "    },\n",
      "    {\n",
      "      \"SENSE-NUM\": \"2\",\n",
      "      \"DEFINITION\": \"to put sounds or images onto a cassette, CD, or video\",\n",
      "      \"trans\": \"錄（音）；錄（影）\",\n",
      "      \"EXAMPLES\": [\n",
      "        {\n",
      "          \"EXAMPLE\": \"Can you record the football for me at 10 oclock?\",\n",
      "          \"trans\": \"你能幫我把10點鐘的足球賽錄下來嗎？\"\n",
      "        },\n",
      "        {\n",
      "          \"EXAMPLE\": \"Are you sure the tape is recording?\",\n",
      "          \"trans\": \"你肯定磁帶在錄嗎？\"\n",
      "        },\n",
      "        {\n",
      "          \"EXAMPLE\": \"Their new album has taken two years to record.\",\n",
      "          \"trans\": \"他們的新專輯花了兩年才錄製完成。\"\n",
      "        },\n",
      "        {\n",
      "          \"EXAMPLE\": \"The performance was recorded live at the Hollywood Bowl.\",\n",
      "          \"trans\": \"這次表演在好萊塢露天音樂劇場實況錄製。\"\n",
      "        }\n",
      "      ],\n",
      "      \"SUB-SENSE\": [\n",
      "        {\n",
      "          \"SUB-SENSE-NUM\": \"2a\",\n",
      "          \"DEFINITION\": \"to do a performance, especially of music, so that it can be put onto a cassette, CD, or video\",\n",
      "          \"trans\": \"錄製（音樂等）\",\n",
      "          \"EXAMPLES\": [\n",
      "            {\n",
      "              \"EXAMPLE\": \"Their new album has taken two years to record.\",\n",
      "              \"trans\": \"他們的新專輯花了兩年才錄製完成。\"\n",
      "            },\n",
      "            {\n",
      "              \"EXAMPLE\": \"The performance was recorded live at the Hollywood Bowl.\",\n",
      "              \"trans\": \"這次表演在好萊塢露天音樂劇場實況錄製。\"\n",
      "            }\n",
      "          ]\n",
      "        }\n",
      "      ]\n",
      "    },\n",
      "    {\n",
      "      \"SENSE-NUM\": \"3\",\n",
      "      \"DEFINITION\": \"to achieve something impressive, especially in sport\",\n",
      "      \"trans\": \"（尤指體育競賽上）獲得（好成績）\",\n",
      "      \"EXAMPLES\": [\n",
      "        {\n",
      "          \"EXAMPLE\": \"Liverpool recorded their biggest away win of the season.\",\n",
      "          \"trans\": \"利物浦隊創下了本賽季最好的客場成績。\"\n",
      "        }\n",
      "      ]\n",
      "    }\n",
      "  ]\n",
      "}\n"
     ]
    }
   ],
   "source": [
    "print_word(\"record2\")"
   ]
  },
  {
   "cell_type": "code",
   "execution_count": 23,
   "id": "b66b45f7",
   "metadata": {},
   "outputs": [
    {
     "name": "stdout",
     "output_type": "stream",
     "text": [
      "{\n",
      "  \"ID\": \"284821\",\n",
      "  \"PART-OF-SPEECH\": \"verb\",\n",
      "  \"SENSE\": [\n",
      "    {\n",
      "      \"SENSE-NUM\": \"1\",\n",
      "      \"DEFINITION\": \"to become fit and healthy again after an illness or injury\",\n",
      "      \"trans\": \"痊癒；康復\",\n",
      "      \"EXAMPLES\": [\n",
      "        {\n",
      "          \"EXAMPLE\": \"I havent fully recovered from that flu I had.\",\n",
      "          \"trans\": \"我所患的流感還沒痊癒。\"\n",
      "        },\n",
      "        {\n",
      "          \"EXAMPLE\": \"He was fired last month and hes still recovering from the shock.\",\n",
      "          \"trans\": \"他上個月被僱了，至今尚未從這次打擊中恢復過來。\"\n",
      "        },\n",
      "        {\n",
      "          \"EXAMPLE\": \"The housing market appears to be recovering from the recession.\",\n",
      "          \"trans\": \"房地産市場好像正從不景氣中復甦。\"\n",
      "        }\n",
      "      ],\n",
      "      \"SUB-SENSE\": [\n",
      "        {\n",
      "          \"SUB-SENSE-NUM\": \"1a\",\n",
      "          \"DEFINITION\": \"to stop being affected by an unpleasant experience\",\n",
      "          \"trans\": \"（從不愉快的經歷中）恢復\",\n",
      "          \"EXAMPLES\": [\n",
      "            {\n",
      "              \"EXAMPLE\": \"He was fired last month and hes still recovering from the shock.\",\n",
      "              \"trans\": \"他上個月被僱了，至今尚未從這次打擊中恢復過來。\"\n",
      "            }\n",
      "          ]\n",
      "        },\n",
      "        {\n",
      "          \"SUB-SENSE-NUM\": \"1b\",\n",
      "          \"DEFINITION\": \"if a country, economy etc recovers after a difficult period, it begins to get stronger and return to its earlier state\",\n",
      "          \"trans\": \"（國家、經濟）回復常態；復甦\",\n",
      "          \"EXAMPLES\": [\n",
      "            {\n",
      "              \"EXAMPLE\": \"The housing market appears to be recovering from the recession.\",\n",
      "              \"trans\": \"房地産市場好像正從不景氣中復甦。\"\n",
      "            }\n",
      "          ]\n",
      "        }\n",
      "      ]\n",
      "    },\n",
      "    {\n",
      "      \"SENSE-NUM\": \"2\",\n",
      "      \"DEFINITION\": \"to get back something that you lost or that someone stole from you\",\n",
      "      \"trans\": \"找回；重新獲得\",\n",
      "      \"EXAMPLES\": [\n",
      "        {\n",
      "          \"EXAMPLE\": \"The thieves were caught, but many of the items were never recovered.\",\n",
      "          \"trans\": \"小偷抓到，但是許多贜物都沒有找回。\"\n",
      "        },\n",
      "        {\n",
      "          \"EXAMPLE\": \"They need to sell a million copies to recover their costs.\",\n",
      "          \"trans\": \"他們需要賣出100萬冊才能收回成本。\"\n",
      "        },\n",
      "        {\n",
      "          \"EXAMPLE\": \"Simon never recovered the use of his arm after the crash.\",\n",
      "          \"trans\": \"提姆的手臂自從那次撞車事故後就一直沒有恢復功能。\"\n",
      "        },\n",
      "        {\n",
      "          \"EXAMPLE\": \"Darren was rushed to hospital, but he never recovered consciousness.\",\n",
      "          \"trans\": \"達倫很快被送到醫院，但再也沒有恢復知覺。\"\n",
      "        },\n",
      "        {\n",
      "          \"EXAMPLE\": \"Marian managed to recover her composure and thank everyone for coming.\",\n",
      "          \"trans\": \"恢復平靜\"\n",
      "        }\n",
      "      ],\n",
      "      \"SUB-SENSE\": [\n",
      "        {\n",
      "          \"SUB-SENSE-NUM\": \"2a\",\n",
      "          \"DEFINITION\": \"to get back money that you have invested or lost\",\n",
      "          \"trans\": \"收回（投資的成本）\",\n",
      "          \"EXAMPLES\": [\n",
      "            {\n",
      "              \"EXAMPLE\": \"They need to sell a million copies to recover their costs.\",\n",
      "              \"trans\": \"他們需要賣出100萬冊才能收回成本。\"\n",
      "            }\n",
      "          ]\n",
      "        },\n",
      "        {\n",
      "          \"SUB-SENSE-NUM\": \"2b\",\n",
      "          \"DEFINITION\": \"to get back the ability to do or feel something, especially to control your movements or emotions\",\n",
      "          \"trans\": \"恢復（功能）\",\n",
      "          \"EXAMPLES\": [\n",
      "            {\n",
      "              \"EXAMPLE\": \"Simon never recovered the use of his arm after the crash.\",\n",
      "              \"trans\": \"提姆的手臂自從那次撞車事故後就一直沒有恢復功能。\"\n",
      "            },\n",
      "            {\n",
      "              \"EXAMPLE\": \"Darren was rushed to hospital, but he never recovered consciousness.\",\n",
      "              \"trans\": \"達倫很快被送到醫院，但再也沒有恢復知覺。\"\n",
      "            },\n",
      "            {\n",
      "              \"EXAMPLE\": \"Marian managed to recover her composure and thank everyone for coming.\",\n",
      "              \"trans\": \"恢復平靜\"\n",
      "            }\n",
      "          ]\n",
      "        }\n",
      "      ]\n",
      "    }\n",
      "  ]\n",
      "}\n"
     ]
    }
   ],
   "source": [
    "print_word(\"recover1\")"
   ]
  },
  {
   "cell_type": "markdown",
   "id": "0823768e-a9e4-4dc3-a135-9745a1a6f29f",
   "metadata": {},
   "source": [
    "### Output example\n",
    "`my_dict['record1']`\n",
    "```json\n",
    "{\n",
    "    'ID': '284721',\n",
    "    'PART-OF-SPEECH': 'noun',\n",
    "    'PHRASE': [\n",
    "               {'DEFINITION': '...',\n",
    "                'EXAMPLES': ...,\n",
    "                'MULTIWORD': '...',\n",
    "                'TRANSLATION': '...'},\n",
    "                ...\n",
    "               ],\n",
    "            \n",
    "     'SENSE': [\n",
    "               {'DEFINITION': '...',\n",
    "                'EXAMPLES': ...,\n",
    "                'SUB-SENSE': [{'DEFINITION': '...',\n",
    "                               'EXAMPLES': ...,\n",
    "                               'TRANSLATION': '...'}],\n",
    "                'TRANSLATION': '...'},\n",
    "                ...\n",
    "               ]\n",
    "}\n",
    "```"
   ]
  }
 ],
 "metadata": {
  "kernelspec": {
   "display_name": "Python 3 (ipykernel)",
   "language": "python",
   "name": "python3"
  },
  "language_info": {
   "codemirror_mode": {
    "name": "ipython",
    "version": 3
   },
   "file_extension": ".py",
   "mimetype": "text/x-python",
   "name": "python",
   "nbconvert_exporter": "python",
   "pygments_lexer": "ipython3",
   "version": "3.8.13"
  }
 },
 "nbformat": 4,
 "nbformat_minor": 5
}
