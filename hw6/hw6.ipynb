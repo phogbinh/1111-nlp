{
 "cells": [
  {
   "cell_type": "markdown",
   "id": "03db8fca",
   "metadata": {
    "id": "03db8fca"
   },
   "source": [
    "# Week 06: Dependency Parser and spacy\n",
    "The assignment this week is to identify the grammar pattern VERB-PREP-NOUN using two different methods. You will practice the various functionalities of spacy in the process. \n",
    "\n",
    "Data used in this assignment:  \n",
    "https://drive.google.com/file/d/1OIZPsDezgLaBjw3OX30YFyeFkzegtwP8/view?usp=sharing\n",
    "\n",
    "* sentences.s2orc.txt\n",
    "\n",
    "spacy tutorials:  \n",
    "https://www.machinelearningplus.com/spacy-tutorial-nlp/#phrasematcher  \n",
    "https://spacy.io/usage/linguistic-features#entity-linking\n",
    "\n",
    "## Requirements\n",
    "* pandas\n",
    "* spacy\n",
    "\n"
   ]
  },
  {
   "cell_type": "markdown",
   "id": "8da24123",
   "metadata": {
    "id": "8da24123"
   },
   "source": [
    "### Installation of spacy"
   ]
  },
  {
   "cell_type": "code",
   "execution_count": 1,
   "id": "4f503a42",
   "metadata": {
    "id": "4f503a42"
   },
   "outputs": [
    {
     "name": "stdout",
     "output_type": "stream",
     "text": [
      "Requirement already satisfied: spacy in /opt/miniconda3/envs/hw6env/lib/python3.8/site-packages (3.4.1)\n",
      "Requirement already satisfied: catalogue<2.1.0,>=2.0.6 in /opt/miniconda3/envs/hw6env/lib/python3.8/site-packages (from spacy) (2.0.8)\n",
      "Requirement already satisfied: requests<3.0.0,>=2.13.0 in /opt/miniconda3/envs/hw6env/lib/python3.8/site-packages (from spacy) (2.28.1)\n",
      "Requirement already satisfied: packaging>=20.0 in /opt/miniconda3/envs/hw6env/lib/python3.8/site-packages (from spacy) (21.3)\n",
      "Requirement already satisfied: tqdm<5.0.0,>=4.38.0 in /opt/miniconda3/envs/hw6env/lib/python3.8/site-packages (from spacy) (4.64.1)\n",
      "Requirement already satisfied: numpy>=1.15.0 in /opt/miniconda3/envs/hw6env/lib/python3.8/site-packages (from spacy) (1.23.4)\n",
      "Requirement already satisfied: setuptools in /opt/miniconda3/envs/hw6env/lib/python3.8/site-packages (from spacy) (63.4.1)\n",
      "Requirement already satisfied: preshed<3.1.0,>=3.0.2 in /opt/miniconda3/envs/hw6env/lib/python3.8/site-packages (from spacy) (3.0.8)\n",
      "Requirement already satisfied: srsly<3.0.0,>=2.4.3 in /opt/miniconda3/envs/hw6env/lib/python3.8/site-packages (from spacy) (2.4.5)\n",
      "Requirement already satisfied: spacy-legacy<3.1.0,>=3.0.9 in /opt/miniconda3/envs/hw6env/lib/python3.8/site-packages (from spacy) (3.0.10)\n",
      "Requirement already satisfied: pathy>=0.3.5 in /opt/miniconda3/envs/hw6env/lib/python3.8/site-packages (from spacy) (0.6.2)\n",
      "Requirement already satisfied: thinc<8.2.0,>=8.1.0 in /opt/miniconda3/envs/hw6env/lib/python3.8/site-packages (from spacy) (8.1.5)\n",
      "Requirement already satisfied: cymem<2.1.0,>=2.0.2 in /opt/miniconda3/envs/hw6env/lib/python3.8/site-packages (from spacy) (2.0.7)\n",
      "Requirement already satisfied: murmurhash<1.1.0,>=0.28.0 in /opt/miniconda3/envs/hw6env/lib/python3.8/site-packages (from spacy) (1.0.9)\n",
      "Requirement already satisfied: pydantic!=1.8,!=1.8.1,<1.10.0,>=1.7.4 in /opt/miniconda3/envs/hw6env/lib/python3.8/site-packages (from spacy) (1.9.2)\n",
      "Requirement already satisfied: spacy-loggers<2.0.0,>=1.0.0 in /opt/miniconda3/envs/hw6env/lib/python3.8/site-packages (from spacy) (1.0.3)\n",
      "Requirement already satisfied: jinja2 in /opt/miniconda3/envs/hw6env/lib/python3.8/site-packages (from spacy) (3.1.2)\n",
      "Requirement already satisfied: typer<0.5.0,>=0.3.0 in /opt/miniconda3/envs/hw6env/lib/python3.8/site-packages (from spacy) (0.4.2)\n",
      "Requirement already satisfied: langcodes<4.0.0,>=3.2.0 in /opt/miniconda3/envs/hw6env/lib/python3.8/site-packages (from spacy) (3.3.0)\n",
      "Requirement already satisfied: wasabi<1.1.0,>=0.9.1 in /opt/miniconda3/envs/hw6env/lib/python3.8/site-packages (from spacy) (0.10.1)\n",
      "Requirement already satisfied: pyparsing!=3.0.5,>=2.0.2 in /opt/miniconda3/envs/hw6env/lib/python3.8/site-packages (from packaging>=20.0->spacy) (3.0.9)\n",
      "Requirement already satisfied: smart-open<6.0.0,>=5.2.1 in /opt/miniconda3/envs/hw6env/lib/python3.8/site-packages (from pathy>=0.3.5->spacy) (5.2.1)\n",
      "Requirement already satisfied: typing-extensions>=3.7.4.3 in /opt/miniconda3/envs/hw6env/lib/python3.8/site-packages (from pydantic!=1.8,!=1.8.1,<1.10.0,>=1.7.4->spacy) (4.4.0)\n",
      "Requirement already satisfied: urllib3<1.27,>=1.21.1 in /opt/miniconda3/envs/hw6env/lib/python3.8/site-packages (from requests<3.0.0,>=2.13.0->spacy) (1.26.12)\n",
      "Requirement already satisfied: idna<4,>=2.5 in /opt/miniconda3/envs/hw6env/lib/python3.8/site-packages (from requests<3.0.0,>=2.13.0->spacy) (3.4)\n",
      "Requirement already satisfied: certifi>=2017.4.17 in /opt/miniconda3/envs/hw6env/lib/python3.8/site-packages (from requests<3.0.0,>=2.13.0->spacy) (2022.9.24)\n",
      "Requirement already satisfied: charset-normalizer<3,>=2 in /opt/miniconda3/envs/hw6env/lib/python3.8/site-packages (from requests<3.0.0,>=2.13.0->spacy) (2.1.1)\n",
      "Requirement already satisfied: blis<0.8.0,>=0.7.8 in /opt/miniconda3/envs/hw6env/lib/python3.8/site-packages (from thinc<8.2.0,>=8.1.0->spacy) (0.7.9)\n",
      "Requirement already satisfied: confection<1.0.0,>=0.0.1 in /opt/miniconda3/envs/hw6env/lib/python3.8/site-packages (from thinc<8.2.0,>=8.1.0->spacy) (0.0.3)\n",
      "Requirement already satisfied: click<9.0.0,>=7.1.1 in /opt/miniconda3/envs/hw6env/lib/python3.8/site-packages (from typer<0.5.0,>=0.3.0->spacy) (8.1.3)\n",
      "Requirement already satisfied: MarkupSafe>=2.0 in /opt/miniconda3/envs/hw6env/lib/python3.8/site-packages (from jinja2->spacy) (2.1.1)\n",
      "Collecting en-core-web-sm==3.4.1\n",
      "  Downloading https://github.com/explosion/spacy-models/releases/download/en_core_web_sm-3.4.1/en_core_web_sm-3.4.1-py3-none-any.whl (12.8 MB)\n",
      "\u001b[2K     \u001b[90m━━━━━━━━━━━━━━━━━━━━━━━━━━━━━━━━━━━━━━━━\u001b[0m \u001b[32m12.8/12.8 MB\u001b[0m \u001b[31m4.0 MB/s\u001b[0m eta \u001b[36m0:00:00\u001b[0m00:01\u001b[0m00:01\u001b[0m\n",
      "\u001b[?25hRequirement already satisfied: spacy<3.5.0,>=3.4.0 in /opt/miniconda3/envs/hw6env/lib/python3.8/site-packages (from en-core-web-sm==3.4.1) (3.4.1)\n",
      "Requirement already satisfied: numpy>=1.15.0 in /opt/miniconda3/envs/hw6env/lib/python3.8/site-packages (from spacy<3.5.0,>=3.4.0->en-core-web-sm==3.4.1) (1.23.4)\n",
      "Requirement already satisfied: packaging>=20.0 in /opt/miniconda3/envs/hw6env/lib/python3.8/site-packages (from spacy<3.5.0,>=3.4.0->en-core-web-sm==3.4.1) (21.3)\n",
      "Requirement already satisfied: thinc<8.2.0,>=8.1.0 in /opt/miniconda3/envs/hw6env/lib/python3.8/site-packages (from spacy<3.5.0,>=3.4.0->en-core-web-sm==3.4.1) (8.1.5)\n",
      "Requirement already satisfied: preshed<3.1.0,>=3.0.2 in /opt/miniconda3/envs/hw6env/lib/python3.8/site-packages (from spacy<3.5.0,>=3.4.0->en-core-web-sm==3.4.1) (3.0.8)\n",
      "Requirement already satisfied: catalogue<2.1.0,>=2.0.6 in /opt/miniconda3/envs/hw6env/lib/python3.8/site-packages (from spacy<3.5.0,>=3.4.0->en-core-web-sm==3.4.1) (2.0.8)\n",
      "Requirement already satisfied: wasabi<1.1.0,>=0.9.1 in /opt/miniconda3/envs/hw6env/lib/python3.8/site-packages (from spacy<3.5.0,>=3.4.0->en-core-web-sm==3.4.1) (0.10.1)\n",
      "Requirement already satisfied: typer<0.5.0,>=0.3.0 in /opt/miniconda3/envs/hw6env/lib/python3.8/site-packages (from spacy<3.5.0,>=3.4.0->en-core-web-sm==3.4.1) (0.4.2)\n",
      "Requirement already satisfied: tqdm<5.0.0,>=4.38.0 in /opt/miniconda3/envs/hw6env/lib/python3.8/site-packages (from spacy<3.5.0,>=3.4.0->en-core-web-sm==3.4.1) (4.64.1)\n",
      "Requirement already satisfied: srsly<3.0.0,>=2.4.3 in /opt/miniconda3/envs/hw6env/lib/python3.8/site-packages (from spacy<3.5.0,>=3.4.0->en-core-web-sm==3.4.1) (2.4.5)\n",
      "Requirement already satisfied: langcodes<4.0.0,>=3.2.0 in /opt/miniconda3/envs/hw6env/lib/python3.8/site-packages (from spacy<3.5.0,>=3.4.0->en-core-web-sm==3.4.1) (3.3.0)\n",
      "Requirement already satisfied: murmurhash<1.1.0,>=0.28.0 in /opt/miniconda3/envs/hw6env/lib/python3.8/site-packages (from spacy<3.5.0,>=3.4.0->en-core-web-sm==3.4.1) (1.0.9)\n",
      "Requirement already satisfied: spacy-legacy<3.1.0,>=3.0.9 in /opt/miniconda3/envs/hw6env/lib/python3.8/site-packages (from spacy<3.5.0,>=3.4.0->en-core-web-sm==3.4.1) (3.0.10)\n",
      "Requirement already satisfied: requests<3.0.0,>=2.13.0 in /opt/miniconda3/envs/hw6env/lib/python3.8/site-packages (from spacy<3.5.0,>=3.4.0->en-core-web-sm==3.4.1) (2.28.1)\n",
      "Requirement already satisfied: pydantic!=1.8,!=1.8.1,<1.10.0,>=1.7.4 in /opt/miniconda3/envs/hw6env/lib/python3.8/site-packages (from spacy<3.5.0,>=3.4.0->en-core-web-sm==3.4.1) (1.9.2)\n",
      "Requirement already satisfied: spacy-loggers<2.0.0,>=1.0.0 in /opt/miniconda3/envs/hw6env/lib/python3.8/site-packages (from spacy<3.5.0,>=3.4.0->en-core-web-sm==3.4.1) (1.0.3)\n",
      "Requirement already satisfied: jinja2 in /opt/miniconda3/envs/hw6env/lib/python3.8/site-packages (from spacy<3.5.0,>=3.4.0->en-core-web-sm==3.4.1) (3.1.2)\n",
      "Requirement already satisfied: setuptools in /opt/miniconda3/envs/hw6env/lib/python3.8/site-packages (from spacy<3.5.0,>=3.4.0->en-core-web-sm==3.4.1) (63.4.1)\n",
      "Requirement already satisfied: cymem<2.1.0,>=2.0.2 in /opt/miniconda3/envs/hw6env/lib/python3.8/site-packages (from spacy<3.5.0,>=3.4.0->en-core-web-sm==3.4.1) (2.0.7)\n",
      "Requirement already satisfied: pathy>=0.3.5 in /opt/miniconda3/envs/hw6env/lib/python3.8/site-packages (from spacy<3.5.0,>=3.4.0->en-core-web-sm==3.4.1) (0.6.2)\n",
      "Requirement already satisfied: pyparsing!=3.0.5,>=2.0.2 in /opt/miniconda3/envs/hw6env/lib/python3.8/site-packages (from packaging>=20.0->spacy<3.5.0,>=3.4.0->en-core-web-sm==3.4.1) (3.0.9)\n",
      "Requirement already satisfied: smart-open<6.0.0,>=5.2.1 in /opt/miniconda3/envs/hw6env/lib/python3.8/site-packages (from pathy>=0.3.5->spacy<3.5.0,>=3.4.0->en-core-web-sm==3.4.1) (5.2.1)\n",
      "Requirement already satisfied: typing-extensions>=3.7.4.3 in /opt/miniconda3/envs/hw6env/lib/python3.8/site-packages (from pydantic!=1.8,!=1.8.1,<1.10.0,>=1.7.4->spacy<3.5.0,>=3.4.0->en-core-web-sm==3.4.1) (4.4.0)\n"
     ]
    },
    {
     "name": "stdout",
     "output_type": "stream",
     "text": [
      "Requirement already satisfied: idna<4,>=2.5 in /opt/miniconda3/envs/hw6env/lib/python3.8/site-packages (from requests<3.0.0,>=2.13.0->spacy<3.5.0,>=3.4.0->en-core-web-sm==3.4.1) (3.4)\n",
      "Requirement already satisfied: urllib3<1.27,>=1.21.1 in /opt/miniconda3/envs/hw6env/lib/python3.8/site-packages (from requests<3.0.0,>=2.13.0->spacy<3.5.0,>=3.4.0->en-core-web-sm==3.4.1) (1.26.12)\n",
      "Requirement already satisfied: charset-normalizer<3,>=2 in /opt/miniconda3/envs/hw6env/lib/python3.8/site-packages (from requests<3.0.0,>=2.13.0->spacy<3.5.0,>=3.4.0->en-core-web-sm==3.4.1) (2.1.1)\n",
      "Requirement already satisfied: certifi>=2017.4.17 in /opt/miniconda3/envs/hw6env/lib/python3.8/site-packages (from requests<3.0.0,>=2.13.0->spacy<3.5.0,>=3.4.0->en-core-web-sm==3.4.1) (2022.9.24)\n",
      "Requirement already satisfied: blis<0.8.0,>=0.7.8 in /opt/miniconda3/envs/hw6env/lib/python3.8/site-packages (from thinc<8.2.0,>=8.1.0->spacy<3.5.0,>=3.4.0->en-core-web-sm==3.4.1) (0.7.9)\n",
      "Requirement already satisfied: confection<1.0.0,>=0.0.1 in /opt/miniconda3/envs/hw6env/lib/python3.8/site-packages (from thinc<8.2.0,>=8.1.0->spacy<3.5.0,>=3.4.0->en-core-web-sm==3.4.1) (0.0.3)\n",
      "Requirement already satisfied: click<9.0.0,>=7.1.1 in /opt/miniconda3/envs/hw6env/lib/python3.8/site-packages (from typer<0.5.0,>=0.3.0->spacy<3.5.0,>=3.4.0->en-core-web-sm==3.4.1) (8.1.3)\n",
      "Requirement already satisfied: MarkupSafe>=2.0 in /opt/miniconda3/envs/hw6env/lib/python3.8/site-packages (from jinja2->spacy<3.5.0,>=3.4.0->en-core-web-sm==3.4.1) (2.1.1)\n",
      "\u001b[38;5;2m✔ Download and installation successful\u001b[0m\n",
      "You can now load the package via spacy.load('en_core_web_sm')\n"
     ]
    }
   ],
   "source": [
    "! pip install spacy\n",
    "! python -m spacy download en_core_web_sm"
   ]
  },
  {
   "cell_type": "markdown",
   "id": "55d6736c",
   "metadata": {
    "id": "55d6736c"
   },
   "source": [
    "### Read Data"
   ]
  },
  {
   "cell_type": "code",
   "execution_count": 2,
   "id": "4d97fd4d",
   "metadata": {
    "id": "4d97fd4d",
    "outputId": "35b55654-7592-47d2-d975-31ea423e4617"
   },
   "outputs": [
    {
     "data": {
      "text/html": [
       "<div>\n",
       "<style scoped>\n",
       "    .dataframe tbody tr th:only-of-type {\n",
       "        vertical-align: middle;\n",
       "    }\n",
       "\n",
       "    .dataframe tbody tr th {\n",
       "        vertical-align: top;\n",
       "    }\n",
       "\n",
       "    .dataframe thead th {\n",
       "        text-align: right;\n",
       "    }\n",
       "</style>\n",
       "<table border=\"1\" class=\"dataframe\">\n",
       "  <thead>\n",
       "    <tr style=\"text-align: right;\">\n",
       "      <th></th>\n",
       "      <th>sentence</th>\n",
       "    </tr>\n",
       "  </thead>\n",
       "  <tbody>\n",
       "    <tr>\n",
       "      <th>0</th>\n",
       "      <td>Meanwhile, an analysis of the literature shows...</td>\n",
       "    </tr>\n",
       "    <tr>\n",
       "      <th>1</th>\n",
       "      <td>Meanwhile, this list can be supplemented with ...</td>\n",
       "    </tr>\n",
       "    <tr>\n",
       "      <th>2</th>\n",
       "      <td>At the same time, in many cases, several instr...</td>\n",
       "    </tr>\n",
       "    <tr>\n",
       "      <th>3</th>\n",
       "      <td>It is not possible to give a systematic assess...</td>\n",
       "    </tr>\n",
       "    <tr>\n",
       "      <th>4</th>\n",
       "      <td>Correlation was calculated for the years, wher...</td>\n",
       "    </tr>\n",
       "    <tr>\n",
       "      <th>5</th>\n",
       "      <td>Table 4 defines the criteria for market and in...</td>\n",
       "    </tr>\n",
       "    <tr>\n",
       "      <th>6</th>\n",
       "      <td>The development of a risk map is necessary in ...</td>\n",
       "    </tr>\n",
       "    <tr>\n",
       "      <th>7</th>\n",
       "      <td>Blowing out a bubble has little effect on the ...</td>\n",
       "    </tr>\n",
       "    <tr>\n",
       "      <th>8</th>\n",
       "      <td>In the state, the investment directions are ti...</td>\n",
       "    </tr>\n",
       "    <tr>\n",
       "      <th>9</th>\n",
       "      <td>The decrease in IFS in early 2015 is due to a ...</td>\n",
       "    </tr>\n",
       "    <tr>\n",
       "      <th>10</th>\n",
       "      <td>Figure 7 shows the dynamics of the financial s...</td>\n",
       "    </tr>\n",
       "    <tr>\n",
       "      <th>11</th>\n",
       "      <td>It ranks 6th among Russian banks in terms of a...</td>\n",
       "    </tr>\n",
       "    <tr>\n",
       "      <th>12</th>\n",
       "      <td>In times of crisis, indicators give false sign...</td>\n",
       "    </tr>\n",
       "    <tr>\n",
       "      <th>13</th>\n",
       "      <td>But it is not a problem in this case, because ...</td>\n",
       "    </tr>\n",
       "    <tr>\n",
       "      <th>14</th>\n",
       "      <td>Selection of individual banks was made in orde...</td>\n",
       "    </tr>\n",
       "    <tr>\n",
       "      <th>15</th>\n",
       "      <td>Overall, financial stability in the banking se...</td>\n",
       "    </tr>\n",
       "    <tr>\n",
       "      <th>16</th>\n",
       "      <td>That is, if within 6 months' indicators do not...</td>\n",
       "    </tr>\n",
       "    <tr>\n",
       "      <th>17</th>\n",
       "      <td>Therefore, during a crisis, IFS and PR indicat...</td>\n",
       "    </tr>\n",
       "    <tr>\n",
       "      <th>18</th>\n",
       "      <td>In the risk assessment, we proceeded from the ...</td>\n",
       "    </tr>\n",
       "    <tr>\n",
       "      <th>19</th>\n",
       "      <td>Schinasi, G. J.</td>\n",
       "    </tr>\n",
       "    <tr>\n",
       "      <th>20</th>\n",
       "      <td>Owing to the continuous increasing population ...</td>\n",
       "    </tr>\n",
       "    <tr>\n",
       "      <th>21</th>\n",
       "      <td>Section 3, involves research results and discu...</td>\n",
       "    </tr>\n",
       "    <tr>\n",
       "      <th>22</th>\n",
       "      <td>Low annual precipitation and huge evaporation ...</td>\n",
       "    </tr>\n",
       "    <tr>\n",
       "      <th>23</th>\n",
       "      <td>Data of evaluation indicators from 1997 to 201...</td>\n",
       "    </tr>\n",
       "    <tr>\n",
       "      <th>24</th>\n",
       "      <td>For the data about disaster areas of farm crop...</td>\n",
       "    </tr>\n",
       "    <tr>\n",
       "      <th>25</th>\n",
       "      <td>The agro-ecological environment sub-system inv...</td>\n",
       "    </tr>\n",
       "    <tr>\n",
       "      <th>26</th>\n",
       "      <td>The results are shown in Tables 1 and 2 , resp...</td>\n",
       "    </tr>\n",
       "    <tr>\n",
       "      <th>27</th>\n",
       "      <td>Also, natural disasters such as drought, flood...</td>\n",
       "    </tr>\n",
       "    <tr>\n",
       "      <th>28</th>\n",
       "      <td>For instance, over-cultivation destroyed surfa...</td>\n",
       "    </tr>\n",
       "    <tr>\n",
       "      <th>29</th>\n",
       "      <td>The abuse of pesticides and fertilizers led to...</td>\n",
       "    </tr>\n",
       "  </tbody>\n",
       "</table>\n",
       "</div>"
      ],
      "text/plain": [
       "                                             sentence\n",
       "0   Meanwhile, an analysis of the literature shows...\n",
       "1   Meanwhile, this list can be supplemented with ...\n",
       "2   At the same time, in many cases, several instr...\n",
       "3   It is not possible to give a systematic assess...\n",
       "4   Correlation was calculated for the years, wher...\n",
       "5   Table 4 defines the criteria for market and in...\n",
       "6   The development of a risk map is necessary in ...\n",
       "7   Blowing out a bubble has little effect on the ...\n",
       "8   In the state, the investment directions are ti...\n",
       "9   The decrease in IFS in early 2015 is due to a ...\n",
       "10  Figure 7 shows the dynamics of the financial s...\n",
       "11  It ranks 6th among Russian banks in terms of a...\n",
       "12  In times of crisis, indicators give false sign...\n",
       "13  But it is not a problem in this case, because ...\n",
       "14  Selection of individual banks was made in orde...\n",
       "15  Overall, financial stability in the banking se...\n",
       "16  That is, if within 6 months' indicators do not...\n",
       "17  Therefore, during a crisis, IFS and PR indicat...\n",
       "18  In the risk assessment, we proceeded from the ...\n",
       "19                                    Schinasi, G. J.\n",
       "20  Owing to the continuous increasing population ...\n",
       "21  Section 3, involves research results and discu...\n",
       "22  Low annual precipitation and huge evaporation ...\n",
       "23  Data of evaluation indicators from 1997 to 201...\n",
       "24  For the data about disaster areas of farm crop...\n",
       "25  The agro-ecological environment sub-system inv...\n",
       "26  The results are shown in Tables 1 and 2 , resp...\n",
       "27  Also, natural disasters such as drought, flood...\n",
       "28  For instance, over-cultivation destroyed surfa...\n",
       "29  The abuse of pesticides and fertilizers led to..."
      ]
     },
     "execution_count": 2,
     "metadata": {},
     "output_type": "execute_result"
    }
   ],
   "source": [
    "import pandas as pd\n",
    "\n",
    "def loadData(path):\n",
    "  with open(path) as f:\n",
    "    sents = []\n",
    "    for line in f.readlines():\n",
    "      line = line.strip(\"\\n\").split(\"\\t\")\n",
    "      sents.append(line[1])\n",
    "  return pd.DataFrame({\"sentence\": sents})\n",
    "\n",
    "data = loadData(\"sentences.s2orc.txt\")\n",
    "data.head(30)"
   ]
  },
  {
   "cell_type": "code",
   "execution_count": 3,
   "id": "f2c07c81",
   "metadata": {
    "id": "f2c07c81",
    "scrolled": true
   },
   "outputs": [
    {
     "data": {
      "text/plain": [
       "<function spacy.pipeline.functions.merge_entities(doc: spacy.tokens.doc.Doc)>"
      ]
     },
     "execution_count": 3,
     "metadata": {},
     "output_type": "execute_result"
    }
   ],
   "source": [
    "import spacy\n",
    "\n",
    "nlp = spacy.load('en_core_web_sm')\n",
    "nlp.add_pipe(\"merge_entities\")"
   ]
  },
  {
   "cell_type": "markdown",
   "id": "aef7d493",
   "metadata": {
    "id": "aef7d493"
   },
   "source": [
    "### Spacy example\n",
    "If you have any probelm, look up the documentation [here](https://spacy.io/usage/linguistic-features)"
   ]
  },
  {
   "cell_type": "code",
   "execution_count": 4,
   "id": "998b263c",
   "metadata": {
    "id": "998b263c"
   },
   "outputs": [
    {
     "data": {
      "text/plain": [
       "The economic situation of the country is on edge , as the stock market crashed causing loss of millions. Citizens who had their main investment in the share-market are facing a great loss. Many companies might lay off thousands of people to reduce labor cost.He began immediately to rant about the gas price ."
      ]
     },
     "execution_count": 4,
     "metadata": {},
     "output_type": "execute_result"
    }
   ],
   "source": [
    "import re\n",
    "\n",
    "example_text = \"\"\"The economic situation of the country is on edge , as the stock \n",
    "market crashed causing loss of millions. Citizens who had their main investment \n",
    "in the share-market are facing a great loss. Many companies might lay off \n",
    "thousands of people to reduce labor cost.\n",
    "He began immediately to rant about the gas price .\n",
    "\"\"\"\n",
    "\n",
    "# Remove newline character\n",
    "example_text = re.sub(\"\\n\", \"\", example_text)\n",
    "example_doc = nlp(example_text)\n",
    "example_doc"
   ]
  },
  {
   "cell_type": "markdown",
   "id": "728770d5",
   "metadata": {
    "id": "728770d5"
   },
   "source": [
    "<font color=\"red\">**[ TODO ]**</font> Please print out the 2nd sentence in the example_text"
   ]
  },
  {
   "cell_type": "code",
   "execution_count": 5,
   "id": "03a85784",
   "metadata": {
    "id": "03a85784",
    "outputId": "785657b6-5167-46e4-a9ea-2c7973b89d3e",
    "scrolled": true
   },
   "outputs": [
    {
     "data": {
      "text/plain": [
       "spacy.tokens.span.Span"
      ]
     },
     "execution_count": 5,
     "metadata": {},
     "output_type": "execute_result"
    }
   ],
   "source": [
    "sents = [sent for sent in example_doc.sents]\n",
    "type(sents[0])"
   ]
  },
  {
   "cell_type": "code",
   "execution_count": 6,
   "id": "8f0d1828",
   "metadata": {},
   "outputs": [
    {
     "data": {
      "text/plain": [
       "Citizens who had their main investment in the share-market are facing a great loss."
      ]
     },
     "execution_count": 6,
     "metadata": {},
     "output_type": "execute_result"
    }
   ],
   "source": [
    "sents[1]"
   ]
  },
  {
   "cell_type": "markdown",
   "id": "02f1e521",
   "metadata": {
    "id": "02f1e521"
   },
   "source": [
    "Let's start with some simple linguistic features we have been dealing with.\n",
    "\n",
    "<font color=\"red\">**[ TODO ]**</font> Please print out the following token features of the first sentence in example_text:  \n",
    "text,  lemma,  POS (Part of Speech)"
   ]
  },
  {
   "cell_type": "code",
   "execution_count": 7,
   "id": "e1320b34",
   "metadata": {
    "id": "e1320b34",
    "outputId": "feeeb223-9ccb-406b-8b68-807b70dd23e7"
   },
   "outputs": [
    {
     "name": "stdout",
     "output_type": "stream",
     "text": [
      "The the DET\n",
      "economic economic ADJ\n",
      "situation situation NOUN\n",
      "of of ADP\n",
      "the the DET\n",
      "country country NOUN\n",
      "is be AUX\n",
      "on on ADP\n",
      "edge edge NOUN\n",
      ", , PUNCT\n",
      "as as SCONJ\n",
      "the the DET\n",
      "stock stock NOUN\n",
      "market market NOUN\n",
      "crashed crash VERB\n",
      "causing cause VERB\n",
      "loss loss NOUN\n",
      "of of ADP\n",
      "millions million NOUN\n",
      ". . PUNCT\n"
     ]
    }
   ],
   "source": [
    "for token in sents[0]:\n",
    "  print(token.text, token.lemma_, token.pos_)"
   ]
  },
  {
   "cell_type": "markdown",
   "id": "82bba130",
   "metadata": {
    "id": "82bba130"
   },
   "source": [
    "<font color=\"red\">**[ TODO ]**</font> Data Process 1: Please run the s2orc data through spacy and store the result in data_doc"
   ]
  },
  {
   "cell_type": "code",
   "execution_count": 8,
   "id": "3d4fb283",
   "metadata": {
    "id": "3d4fb283"
   },
   "outputs": [
    {
     "data": {
      "text/plain": [
       "list"
      ]
     },
     "execution_count": 8,
     "metadata": {},
     "output_type": "execute_result"
    }
   ],
   "source": [
    "data_doc = list(nlp.pipe(data[\"sentence\"]))\n",
    "type(data_doc)"
   ]
  },
  {
   "cell_type": "code",
   "execution_count": 9,
   "id": "05334eeb",
   "metadata": {
    "id": "05334eeb",
    "outputId": "a500c2be-8c53-4885-f69b-0ef1f1550508"
   },
   "outputs": [
    {
     "data": {
      "text/plain": [
       "Meanwhile, an analysis of the literature shows that the development of indicators of financial stability has not yet been completed."
      ]
     },
     "execution_count": 9,
     "metadata": {},
     "output_type": "execute_result"
    }
   ],
   "source": [
    "data_doc[0]"
   ]
  },
  {
   "cell_type": "code",
   "execution_count": 10,
   "id": "3ee2c5c6",
   "metadata": {},
   "outputs": [
    {
     "data": {
      "text/plain": [
       "spacy.tokens.doc.Doc"
      ]
     },
     "execution_count": 10,
     "metadata": {},
     "output_type": "execute_result"
    }
   ],
   "source": [
    "type(data_doc[0])"
   ]
  },
  {
   "cell_type": "markdown",
   "id": "3aa91c05",
   "metadata": {
    "id": "3aa91c05"
   },
   "source": [
    "### Named Entity Recognition\n",
    "Named Entity: a real-world object, such as a person, location, organization, product, etc., that can be denoted with a proper name.  \n",
    "\n",
    "The following is an example of named entity recognition using spacy"
   ]
  },
  {
   "cell_type": "code",
   "execution_count": 11,
   "id": "5d901938",
   "metadata": {
    "id": "5d901938",
    "outputId": "719095a5-1df0-43ad-938e-86e167d4e3dd"
   },
   "outputs": [
    {
     "name": "stdout",
     "output_type": "stream",
     "text": [
      "Ada Lovelace PERSON\n",
      "New York GPE\n",
      "Thanksgiving DATE\n"
     ]
    }
   ],
   "source": [
    "ner_doc = nlp(\"Ada Lovelace was born in New York at Thanksgiving.\")\n",
    "\n",
    "# Document level\n",
    "for e in ner_doc.ents:\n",
    "  print(e.text, e.label_) "
   ]
  },
  {
   "cell_type": "code",
   "execution_count": 12,
   "id": "545a45fd",
   "metadata": {
    "id": "545a45fd",
    "outputId": "d36fdf2a-f88b-4abb-9625-f5bc43c2f731"
   },
   "outputs": [
    {
     "data": {
      "text/html": [
       "<span class=\"tex2jax_ignore\"><div class=\"entities\" style=\"line-height: 2.5; direction: ltr\">\n",
       "<mark class=\"entity\" style=\"background: #aa9cfc; padding: 0.45em 0.6em; margin: 0 0.25em; line-height: 1; border-radius: 0.35em;\">\n",
       "    Ada Lovelace\n",
       "    <span style=\"font-size: 0.8em; font-weight: bold; line-height: 1; border-radius: 0.35em; vertical-align: middle; margin-left: 0.5rem\">PERSON</span>\n",
       "</mark>\n",
       " was born in \n",
       "<mark class=\"entity\" style=\"background: #feca74; padding: 0.45em 0.6em; margin: 0 0.25em; line-height: 1; border-radius: 0.35em;\">\n",
       "    New York\n",
       "    <span style=\"font-size: 0.8em; font-weight: bold; line-height: 1; border-radius: 0.35em; vertical-align: middle; margin-left: 0.5rem\">GPE</span>\n",
       "</mark>\n",
       " at \n",
       "<mark class=\"entity\" style=\"background: #bfe1d9; padding: 0.45em 0.6em; margin: 0 0.25em; line-height: 1; border-radius: 0.35em;\">\n",
       "    Thanksgiving\n",
       "    <span style=\"font-size: 0.8em; font-weight: bold; line-height: 1; border-radius: 0.35em; vertical-align: middle; margin-left: 0.5rem\">DATE</span>\n",
       "</mark>\n",
       ".</div></span>"
      ],
      "text/plain": [
       "<IPython.core.display.HTML object>"
      ]
     },
     "metadata": {},
     "output_type": "display_data"
    }
   ],
   "source": [
    "from spacy import displacy\n",
    "\n",
    "displacy.render(ner_doc, style='ent', jupyter=True)"
   ]
  },
  {
   "cell_type": "markdown",
   "id": "6a00997d",
   "metadata": {
    "id": "6a00997d"
   },
   "source": [
    "<font color=\"red\">**[ TODO ]**</font> Data Process 2: Please replace all named entities in data_doc with their labels.  \n",
    "For example,  \n",
    "\"Ada Lovelace was born in New York at Thanksgiving.\" should be adjusted to  \n",
    "\"PERSON was born in GPE at DATE.\""
   ]
  },
  {
   "cell_type": "code",
   "execution_count": 13,
   "id": "9200b473",
   "metadata": {
    "id": "9200b473"
   },
   "outputs": [
    {
     "data": {
      "text/html": [
       "<span class=\"tex2jax_ignore\"><div class=\"entities\" style=\"line-height: 2.5; direction: ltr\">Table \n",
       "<mark class=\"entity\" style=\"background: #e4e7d2; padding: 0.45em 0.6em; margin: 0 0.25em; line-height: 1; border-radius: 0.35em;\">\n",
       "    4\n",
       "    <span style=\"font-size: 0.8em; font-weight: bold; line-height: 1; border-radius: 0.35em; vertical-align: middle; margin-left: 0.5rem\">CARDINAL</span>\n",
       "</mark>\n",
       " defines the criteria for market and institutional balance of financial stability, formed for the \n",
       "<mark class=\"entity\" style=\"background: #c887fb; padding: 0.45em 0.6em; margin: 0 0.25em; line-height: 1; border-radius: 0.35em;\">\n",
       "    Russian\n",
       "    <span style=\"font-size: 0.8em; font-weight: bold; line-height: 1; border-radius: 0.35em; vertical-align: middle; margin-left: 0.5rem\">NORP</span>\n",
       "</mark>\n",
       " economy.</div></span>"
      ],
      "text/plain": [
       "<IPython.core.display.HTML object>"
      ]
     },
     "metadata": {},
     "output_type": "display_data"
    },
    {
     "name": "stderr",
     "output_type": "stream",
     "text": [
      "/opt/miniconda3/envs/hw6env/lib/python3.8/site-packages/spacy/displacy/__init__.py:205: UserWarning: [W006] No entities to visualize found in Doc object. If this is surprising to you, make sure the Doc was processed using a model that supports named entity recognition, and check the `doc.ents` property manually if necessary.\n",
      "  warnings.warn(Warnings.W006)\n"
     ]
    },
    {
     "data": {
      "text/html": [
       "<span class=\"tex2jax_ignore\"><div class=\"entities\" style=\"line-height: 2.5; direction: ltr\">The development of a risk map is necessary in order to determine the objects of regulation.</div></span>"
      ],
      "text/plain": [
       "<IPython.core.display.HTML object>"
      ]
     },
     "metadata": {},
     "output_type": "display_data"
    },
    {
     "data": {
      "text/html": [
       "<span class=\"tex2jax_ignore\"><div class=\"entities\" style=\"line-height: 2.5; direction: ltr\">Blowing out a bubble has little effect on the asset itself.</div></span>"
      ],
      "text/plain": [
       "<IPython.core.display.HTML object>"
      ]
     },
     "metadata": {},
     "output_type": "display_data"
    },
    {
     "data": {
      "text/html": [
       "<span class=\"tex2jax_ignore\"><div class=\"entities\" style=\"line-height: 2.5; direction: ltr\">In the state, the investment directions are tightly controlled, in private companies, there is a danger of their involvement in various risk schemes.</div></span>"
      ],
      "text/plain": [
       "<IPython.core.display.HTML object>"
      ]
     },
     "metadata": {},
     "output_type": "display_data"
    },
    {
     "data": {
      "text/html": [
       "<span class=\"tex2jax_ignore\"><div class=\"entities\" style=\"line-height: 2.5; direction: ltr\">The decrease in \n",
       "<mark class=\"entity\" style=\"background: #7aecec; padding: 0.45em 0.6em; margin: 0 0.25em; line-height: 1; border-radius: 0.35em;\">\n",
       "    IFS\n",
       "    <span style=\"font-size: 0.8em; font-weight: bold; line-height: 1; border-radius: 0.35em; vertical-align: middle; margin-left: 0.5rem\">ORG</span>\n",
       "</mark>\n",
       " in \n",
       "<mark class=\"entity\" style=\"background: #bfe1d9; padding: 0.45em 0.6em; margin: 0 0.25em; line-height: 1; border-radius: 0.35em;\">\n",
       "    early 2015\n",
       "    <span style=\"font-size: 0.8em; font-weight: bold; line-height: 1; border-radius: 0.35em; vertical-align: middle; margin-left: 0.5rem\">DATE</span>\n",
       "</mark>\n",
       " is due to a sudden increase in inflation at \n",
       "<mark class=\"entity\" style=\"background: #bfe1d9; padding: 0.45em 0.6em; margin: 0 0.25em; line-height: 1; border-radius: 0.35em;\">\n",
       "    the end of 2014\n",
       "    <span style=\"font-size: 0.8em; font-weight: bold; line-height: 1; border-radius: 0.35em; vertical-align: middle; margin-left: 0.5rem\">DATE</span>\n",
       "</mark>\n",
       ".</div></span>"
      ],
      "text/plain": [
       "<IPython.core.display.HTML object>"
      ]
     },
     "metadata": {},
     "output_type": "display_data"
    }
   ],
   "source": [
    "for sent in data_doc[5:10]:\n",
    "  displacy.render(sent, style=\"ent\", jupyter=True)"
   ]
  },
  {
   "cell_type": "code",
   "execution_count": 14,
   "id": "42ca8835",
   "metadata": {},
   "outputs": [
    {
     "data": {
      "text/plain": [
       "[Table CARDINAL defines the criteria for market and institutional balance of financial stability , formed for the NORP economy .,\n",
       " The development of a risk map is necessary in order to determine the objects of regulation .,\n",
       " Blowing out a bubble has little effect on the asset itself .,\n",
       " In the state , the investment directions are tightly controlled , in private companies , there is a danger of their involvement in various risk schemes .,\n",
       " The decrease in ORG in DATE is due to a sudden increase in inflation at DATE .]"
      ]
     },
     "execution_count": 14,
     "metadata": {},
     "output_type": "execute_result"
    }
   ],
   "source": [
    "# nlp.add_pipe(\"merge_entities\") 上面有寫\n",
    "for idx in range(len(data_doc)):\n",
    "  data_doc[idx] = nlp(\" \".join([token.text if not token.ent_type_ else token.ent_type_ for token in data_doc[idx]]))\n",
    "data_doc[5:10]"
   ]
  },
  {
   "cell_type": "markdown",
   "id": "efa97686",
   "metadata": {
    "id": "efa97686"
   },
   "source": [
    "### Dependency Parser\n",
    "\n",
    "If you have problems concerning the dependency parser tags, look up the documentation [here](https://universaldependencies.org/en/dep/index.html). \n"
   ]
  },
  {
   "cell_type": "code",
   "execution_count": 15,
   "id": "4ca13c64",
   "metadata": {
    "id": "4ca13c64",
    "outputId": "ced50ef0-728e-41d0-bc44-53d21db06db4"
   },
   "outputs": [
    {
     "name": "stdout",
     "output_type": "stream",
     "text": [
      "Many companies might lay off thousands of people to reduce labor cost.\n",
      "Many amod\n",
      "companies nsubj\n",
      "might aux\n",
      "lay ROOT\n",
      "off prt\n",
      "thousands dobj\n",
      "of prep\n",
      "people pobj\n",
      "to aux\n",
      "reduce advcl\n",
      "labor compound\n",
      "cost dobj\n",
      ". punct\n"
     ]
    }
   ],
   "source": [
    "# Example of Dependency Parser\n",
    "print(sents[2])\n",
    "for token in sents[2]:\n",
    "  print(token.text, token.dep_)"
   ]
  },
  {
   "cell_type": "code",
   "execution_count": 16,
   "id": "cc85cf22",
   "metadata": {
    "id": "cc85cf22",
    "outputId": "1738d42a-284a-490e-ed0c-f40bdccd7af0"
   },
   "outputs": [
    {
     "data": {
      "text/html": [
       "<span class=\"tex2jax_ignore\"><svg xmlns=\"http://www.w3.org/2000/svg\" xmlns:xlink=\"http://www.w3.org/1999/xlink\" xml:lang=\"en\" id=\"093e304d6b074cdd99cebc027203ed16-0\" class=\"displacy\" width=\"2150\" height=\"399.5\" direction=\"ltr\" style=\"max-width: none; height: 399.5px; color: #000000; background: #ffffff; font-family: Arial; direction: ltr\">\n",
       "<text class=\"displacy-token\" fill=\"currentColor\" text-anchor=\"middle\" y=\"309.5\">\n",
       "    <tspan class=\"displacy-word\" fill=\"currentColor\" x=\"50\">Many</tspan>\n",
       "    <tspan class=\"displacy-tag\" dy=\"2em\" fill=\"currentColor\" x=\"50\">ADJ</tspan>\n",
       "</text>\n",
       "\n",
       "<text class=\"displacy-token\" fill=\"currentColor\" text-anchor=\"middle\" y=\"309.5\">\n",
       "    <tspan class=\"displacy-word\" fill=\"currentColor\" x=\"225\">companies</tspan>\n",
       "    <tspan class=\"displacy-tag\" dy=\"2em\" fill=\"currentColor\" x=\"225\">NOUN</tspan>\n",
       "</text>\n",
       "\n",
       "<text class=\"displacy-token\" fill=\"currentColor\" text-anchor=\"middle\" y=\"309.5\">\n",
       "    <tspan class=\"displacy-word\" fill=\"currentColor\" x=\"400\">might</tspan>\n",
       "    <tspan class=\"displacy-tag\" dy=\"2em\" fill=\"currentColor\" x=\"400\">AUX</tspan>\n",
       "</text>\n",
       "\n",
       "<text class=\"displacy-token\" fill=\"currentColor\" text-anchor=\"middle\" y=\"309.5\">\n",
       "    <tspan class=\"displacy-word\" fill=\"currentColor\" x=\"575\">lay</tspan>\n",
       "    <tspan class=\"displacy-tag\" dy=\"2em\" fill=\"currentColor\" x=\"575\">VERB</tspan>\n",
       "</text>\n",
       "\n",
       "<text class=\"displacy-token\" fill=\"currentColor\" text-anchor=\"middle\" y=\"309.5\">\n",
       "    <tspan class=\"displacy-word\" fill=\"currentColor\" x=\"750\">off</tspan>\n",
       "    <tspan class=\"displacy-tag\" dy=\"2em\" fill=\"currentColor\" x=\"750\">ADP</tspan>\n",
       "</text>\n",
       "\n",
       "<text class=\"displacy-token\" fill=\"currentColor\" text-anchor=\"middle\" y=\"309.5\">\n",
       "    <tspan class=\"displacy-word\" fill=\"currentColor\" x=\"925\">thousands</tspan>\n",
       "    <tspan class=\"displacy-tag\" dy=\"2em\" fill=\"currentColor\" x=\"925\">NOUN</tspan>\n",
       "</text>\n",
       "\n",
       "<text class=\"displacy-token\" fill=\"currentColor\" text-anchor=\"middle\" y=\"309.5\">\n",
       "    <tspan class=\"displacy-word\" fill=\"currentColor\" x=\"1100\">of</tspan>\n",
       "    <tspan class=\"displacy-tag\" dy=\"2em\" fill=\"currentColor\" x=\"1100\">ADP</tspan>\n",
       "</text>\n",
       "\n",
       "<text class=\"displacy-token\" fill=\"currentColor\" text-anchor=\"middle\" y=\"309.5\">\n",
       "    <tspan class=\"displacy-word\" fill=\"currentColor\" x=\"1275\">people</tspan>\n",
       "    <tspan class=\"displacy-tag\" dy=\"2em\" fill=\"currentColor\" x=\"1275\">NOUN</tspan>\n",
       "</text>\n",
       "\n",
       "<text class=\"displacy-token\" fill=\"currentColor\" text-anchor=\"middle\" y=\"309.5\">\n",
       "    <tspan class=\"displacy-word\" fill=\"currentColor\" x=\"1450\">to</tspan>\n",
       "    <tspan class=\"displacy-tag\" dy=\"2em\" fill=\"currentColor\" x=\"1450\">PART</tspan>\n",
       "</text>\n",
       "\n",
       "<text class=\"displacy-token\" fill=\"currentColor\" text-anchor=\"middle\" y=\"309.5\">\n",
       "    <tspan class=\"displacy-word\" fill=\"currentColor\" x=\"1625\">reduce</tspan>\n",
       "    <tspan class=\"displacy-tag\" dy=\"2em\" fill=\"currentColor\" x=\"1625\">VERB</tspan>\n",
       "</text>\n",
       "\n",
       "<text class=\"displacy-token\" fill=\"currentColor\" text-anchor=\"middle\" y=\"309.5\">\n",
       "    <tspan class=\"displacy-word\" fill=\"currentColor\" x=\"1800\">labor</tspan>\n",
       "    <tspan class=\"displacy-tag\" dy=\"2em\" fill=\"currentColor\" x=\"1800\">NOUN</tspan>\n",
       "</text>\n",
       "\n",
       "<text class=\"displacy-token\" fill=\"currentColor\" text-anchor=\"middle\" y=\"309.5\">\n",
       "    <tspan class=\"displacy-word\" fill=\"currentColor\" x=\"1975\">cost.</tspan>\n",
       "    <tspan class=\"displacy-tag\" dy=\"2em\" fill=\"currentColor\" x=\"1975\">NOUN</tspan>\n",
       "</text>\n",
       "\n",
       "<g class=\"displacy-arrow\">\n",
       "    <path class=\"displacy-arc\" id=\"arrow-093e304d6b074cdd99cebc027203ed16-0-0\" stroke-width=\"2px\" d=\"M70,264.5 C70,177.0 215.0,177.0 215.0,264.5\" fill=\"none\" stroke=\"currentColor\"/>\n",
       "    <text dy=\"1.25em\" style=\"font-size: 0.8em; letter-spacing: 1px\">\n",
       "        <textPath xlink:href=\"#arrow-093e304d6b074cdd99cebc027203ed16-0-0\" class=\"displacy-label\" startOffset=\"50%\" side=\"left\" fill=\"currentColor\" text-anchor=\"middle\">amod</textPath>\n",
       "    </text>\n",
       "    <path class=\"displacy-arrowhead\" d=\"M70,266.5 L62,254.5 78,254.5\" fill=\"currentColor\"/>\n",
       "</g>\n",
       "\n",
       "<g class=\"displacy-arrow\">\n",
       "    <path class=\"displacy-arc\" id=\"arrow-093e304d6b074cdd99cebc027203ed16-0-1\" stroke-width=\"2px\" d=\"M245,264.5 C245,89.5 570.0,89.5 570.0,264.5\" fill=\"none\" stroke=\"currentColor\"/>\n",
       "    <text dy=\"1.25em\" style=\"font-size: 0.8em; letter-spacing: 1px\">\n",
       "        <textPath xlink:href=\"#arrow-093e304d6b074cdd99cebc027203ed16-0-1\" class=\"displacy-label\" startOffset=\"50%\" side=\"left\" fill=\"currentColor\" text-anchor=\"middle\">nsubj</textPath>\n",
       "    </text>\n",
       "    <path class=\"displacy-arrowhead\" d=\"M245,266.5 L237,254.5 253,254.5\" fill=\"currentColor\"/>\n",
       "</g>\n",
       "\n",
       "<g class=\"displacy-arrow\">\n",
       "    <path class=\"displacy-arc\" id=\"arrow-093e304d6b074cdd99cebc027203ed16-0-2\" stroke-width=\"2px\" d=\"M420,264.5 C420,177.0 565.0,177.0 565.0,264.5\" fill=\"none\" stroke=\"currentColor\"/>\n",
       "    <text dy=\"1.25em\" style=\"font-size: 0.8em; letter-spacing: 1px\">\n",
       "        <textPath xlink:href=\"#arrow-093e304d6b074cdd99cebc027203ed16-0-2\" class=\"displacy-label\" startOffset=\"50%\" side=\"left\" fill=\"currentColor\" text-anchor=\"middle\">aux</textPath>\n",
       "    </text>\n",
       "    <path class=\"displacy-arrowhead\" d=\"M420,266.5 L412,254.5 428,254.5\" fill=\"currentColor\"/>\n",
       "</g>\n",
       "\n",
       "<g class=\"displacy-arrow\">\n",
       "    <path class=\"displacy-arc\" id=\"arrow-093e304d6b074cdd99cebc027203ed16-0-3\" stroke-width=\"2px\" d=\"M595,264.5 C595,177.0 740.0,177.0 740.0,264.5\" fill=\"none\" stroke=\"currentColor\"/>\n",
       "    <text dy=\"1.25em\" style=\"font-size: 0.8em; letter-spacing: 1px\">\n",
       "        <textPath xlink:href=\"#arrow-093e304d6b074cdd99cebc027203ed16-0-3\" class=\"displacy-label\" startOffset=\"50%\" side=\"left\" fill=\"currentColor\" text-anchor=\"middle\">prt</textPath>\n",
       "    </text>\n",
       "    <path class=\"displacy-arrowhead\" d=\"M740.0,266.5 L748.0,254.5 732.0,254.5\" fill=\"currentColor\"/>\n",
       "</g>\n",
       "\n",
       "<g class=\"displacy-arrow\">\n",
       "    <path class=\"displacy-arc\" id=\"arrow-093e304d6b074cdd99cebc027203ed16-0-4\" stroke-width=\"2px\" d=\"M595,264.5 C595,89.5 920.0,89.5 920.0,264.5\" fill=\"none\" stroke=\"currentColor\"/>\n",
       "    <text dy=\"1.25em\" style=\"font-size: 0.8em; letter-spacing: 1px\">\n",
       "        <textPath xlink:href=\"#arrow-093e304d6b074cdd99cebc027203ed16-0-4\" class=\"displacy-label\" startOffset=\"50%\" side=\"left\" fill=\"currentColor\" text-anchor=\"middle\">dobj</textPath>\n",
       "    </text>\n",
       "    <path class=\"displacy-arrowhead\" d=\"M920.0,266.5 L928.0,254.5 912.0,254.5\" fill=\"currentColor\"/>\n",
       "</g>\n",
       "\n",
       "<g class=\"displacy-arrow\">\n",
       "    <path class=\"displacy-arc\" id=\"arrow-093e304d6b074cdd99cebc027203ed16-0-5\" stroke-width=\"2px\" d=\"M945,264.5 C945,177.0 1090.0,177.0 1090.0,264.5\" fill=\"none\" stroke=\"currentColor\"/>\n",
       "    <text dy=\"1.25em\" style=\"font-size: 0.8em; letter-spacing: 1px\">\n",
       "        <textPath xlink:href=\"#arrow-093e304d6b074cdd99cebc027203ed16-0-5\" class=\"displacy-label\" startOffset=\"50%\" side=\"left\" fill=\"currentColor\" text-anchor=\"middle\">prep</textPath>\n",
       "    </text>\n",
       "    <path class=\"displacy-arrowhead\" d=\"M1090.0,266.5 L1098.0,254.5 1082.0,254.5\" fill=\"currentColor\"/>\n",
       "</g>\n",
       "\n",
       "<g class=\"displacy-arrow\">\n",
       "    <path class=\"displacy-arc\" id=\"arrow-093e304d6b074cdd99cebc027203ed16-0-6\" stroke-width=\"2px\" d=\"M1120,264.5 C1120,177.0 1265.0,177.0 1265.0,264.5\" fill=\"none\" stroke=\"currentColor\"/>\n",
       "    <text dy=\"1.25em\" style=\"font-size: 0.8em; letter-spacing: 1px\">\n",
       "        <textPath xlink:href=\"#arrow-093e304d6b074cdd99cebc027203ed16-0-6\" class=\"displacy-label\" startOffset=\"50%\" side=\"left\" fill=\"currentColor\" text-anchor=\"middle\">pobj</textPath>\n",
       "    </text>\n",
       "    <path class=\"displacy-arrowhead\" d=\"M1265.0,266.5 L1273.0,254.5 1257.0,254.5\" fill=\"currentColor\"/>\n",
       "</g>\n",
       "\n",
       "<g class=\"displacy-arrow\">\n",
       "    <path class=\"displacy-arc\" id=\"arrow-093e304d6b074cdd99cebc027203ed16-0-7\" stroke-width=\"2px\" d=\"M1470,264.5 C1470,177.0 1615.0,177.0 1615.0,264.5\" fill=\"none\" stroke=\"currentColor\"/>\n",
       "    <text dy=\"1.25em\" style=\"font-size: 0.8em; letter-spacing: 1px\">\n",
       "        <textPath xlink:href=\"#arrow-093e304d6b074cdd99cebc027203ed16-0-7\" class=\"displacy-label\" startOffset=\"50%\" side=\"left\" fill=\"currentColor\" text-anchor=\"middle\">aux</textPath>\n",
       "    </text>\n",
       "    <path class=\"displacy-arrowhead\" d=\"M1470,266.5 L1462,254.5 1478,254.5\" fill=\"currentColor\"/>\n",
       "</g>\n",
       "\n",
       "<g class=\"displacy-arrow\">\n",
       "    <path class=\"displacy-arc\" id=\"arrow-093e304d6b074cdd99cebc027203ed16-0-8\" stroke-width=\"2px\" d=\"M595,264.5 C595,2.0 1625.0,2.0 1625.0,264.5\" fill=\"none\" stroke=\"currentColor\"/>\n",
       "    <text dy=\"1.25em\" style=\"font-size: 0.8em; letter-spacing: 1px\">\n",
       "        <textPath xlink:href=\"#arrow-093e304d6b074cdd99cebc027203ed16-0-8\" class=\"displacy-label\" startOffset=\"50%\" side=\"left\" fill=\"currentColor\" text-anchor=\"middle\">advcl</textPath>\n",
       "    </text>\n",
       "    <path class=\"displacy-arrowhead\" d=\"M1625.0,266.5 L1633.0,254.5 1617.0,254.5\" fill=\"currentColor\"/>\n",
       "</g>\n",
       "\n",
       "<g class=\"displacy-arrow\">\n",
       "    <path class=\"displacy-arc\" id=\"arrow-093e304d6b074cdd99cebc027203ed16-0-9\" stroke-width=\"2px\" d=\"M1820,264.5 C1820,177.0 1965.0,177.0 1965.0,264.5\" fill=\"none\" stroke=\"currentColor\"/>\n",
       "    <text dy=\"1.25em\" style=\"font-size: 0.8em; letter-spacing: 1px\">\n",
       "        <textPath xlink:href=\"#arrow-093e304d6b074cdd99cebc027203ed16-0-9\" class=\"displacy-label\" startOffset=\"50%\" side=\"left\" fill=\"currentColor\" text-anchor=\"middle\">compound</textPath>\n",
       "    </text>\n",
       "    <path class=\"displacy-arrowhead\" d=\"M1820,266.5 L1812,254.5 1828,254.5\" fill=\"currentColor\"/>\n",
       "</g>\n",
       "\n",
       "<g class=\"displacy-arrow\">\n",
       "    <path class=\"displacy-arc\" id=\"arrow-093e304d6b074cdd99cebc027203ed16-0-10\" stroke-width=\"2px\" d=\"M1645,264.5 C1645,89.5 1970.0,89.5 1970.0,264.5\" fill=\"none\" stroke=\"currentColor\"/>\n",
       "    <text dy=\"1.25em\" style=\"font-size: 0.8em; letter-spacing: 1px\">\n",
       "        <textPath xlink:href=\"#arrow-093e304d6b074cdd99cebc027203ed16-0-10\" class=\"displacy-label\" startOffset=\"50%\" side=\"left\" fill=\"currentColor\" text-anchor=\"middle\">dobj</textPath>\n",
       "    </text>\n",
       "    <path class=\"displacy-arrowhead\" d=\"M1970.0,266.5 L1978.0,254.5 1962.0,254.5\" fill=\"currentColor\"/>\n",
       "</g>\n",
       "</svg></span>"
      ],
      "text/plain": [
       "<IPython.core.display.HTML object>"
      ]
     },
     "metadata": {},
     "output_type": "display_data"
    }
   ],
   "source": [
    "from spacy import displacy\n",
    "\n",
    "displacy.render(sents[2], style=\"dep\")"
   ]
  },
  {
   "cell_type": "markdown",
   "id": "cb6e1a82",
   "metadata": {
    "id": "cb6e1a82"
   },
   "source": [
    "To traverse a dependency tree, use the following properties of token object.  \n",
    "token.children, token.lefts, token.rights  \n",
    "\n",
    "If you have any problems, please check [here](https://spacy.io/api/token#children)"
   ]
  },
  {
   "cell_type": "markdown",
   "id": "75901966",
   "metadata": {
    "id": "75901966"
   },
   "source": [
    "<font color=\"red\">**[ TODO ]**</font> Please identify a VERB-PREP-NOUN grammar structure in sent[2] by traversing the dependency tree.  \n",
    "Expected output:  \n",
    "(lay, off, thousands)\n"
   ]
  },
  {
   "cell_type": "code",
   "execution_count": 17,
   "id": "9cec92b7",
   "metadata": {
    "id": "9cec92b7"
   },
   "outputs": [],
   "source": [
    "sent = nlp(\"Dog barks towards cats.\")"
   ]
  },
  {
   "cell_type": "code",
   "execution_count": 18,
   "id": "2de88fcb",
   "metadata": {},
   "outputs": [
    {
     "data": {
      "text/html": [
       "<span class=\"tex2jax_ignore\"><svg xmlns=\"http://www.w3.org/2000/svg\" xmlns:xlink=\"http://www.w3.org/1999/xlink\" xml:lang=\"en\" id=\"8e15af3c389a4cca9668a81041d2e3e2-0\" class=\"displacy\" width=\"750\" height=\"224.5\" direction=\"ltr\" style=\"max-width: none; height: 224.5px; color: #000000; background: #ffffff; font-family: Arial; direction: ltr\">\n",
       "<text class=\"displacy-token\" fill=\"currentColor\" text-anchor=\"middle\" y=\"134.5\">\n",
       "    <tspan class=\"displacy-word\" fill=\"currentColor\" x=\"50\">Dog</tspan>\n",
       "    <tspan class=\"displacy-tag\" dy=\"2em\" fill=\"currentColor\" x=\"50\">NOUN</tspan>\n",
       "</text>\n",
       "\n",
       "<text class=\"displacy-token\" fill=\"currentColor\" text-anchor=\"middle\" y=\"134.5\">\n",
       "    <tspan class=\"displacy-word\" fill=\"currentColor\" x=\"225\">barks</tspan>\n",
       "    <tspan class=\"displacy-tag\" dy=\"2em\" fill=\"currentColor\" x=\"225\">VERB</tspan>\n",
       "</text>\n",
       "\n",
       "<text class=\"displacy-token\" fill=\"currentColor\" text-anchor=\"middle\" y=\"134.5\">\n",
       "    <tspan class=\"displacy-word\" fill=\"currentColor\" x=\"400\">towards</tspan>\n",
       "    <tspan class=\"displacy-tag\" dy=\"2em\" fill=\"currentColor\" x=\"400\">ADP</tspan>\n",
       "</text>\n",
       "\n",
       "<text class=\"displacy-token\" fill=\"currentColor\" text-anchor=\"middle\" y=\"134.5\">\n",
       "    <tspan class=\"displacy-word\" fill=\"currentColor\" x=\"575\">cats.</tspan>\n",
       "    <tspan class=\"displacy-tag\" dy=\"2em\" fill=\"currentColor\" x=\"575\">NOUN</tspan>\n",
       "</text>\n",
       "\n",
       "<g class=\"displacy-arrow\">\n",
       "    <path class=\"displacy-arc\" id=\"arrow-8e15af3c389a4cca9668a81041d2e3e2-0-0\" stroke-width=\"2px\" d=\"M70,89.5 C70,2.0 225.0,2.0 225.0,89.5\" fill=\"none\" stroke=\"currentColor\"/>\n",
       "    <text dy=\"1.25em\" style=\"font-size: 0.8em; letter-spacing: 1px\">\n",
       "        <textPath xlink:href=\"#arrow-8e15af3c389a4cca9668a81041d2e3e2-0-0\" class=\"displacy-label\" startOffset=\"50%\" side=\"left\" fill=\"currentColor\" text-anchor=\"middle\">nsubj</textPath>\n",
       "    </text>\n",
       "    <path class=\"displacy-arrowhead\" d=\"M70,91.5 L62,79.5 78,79.5\" fill=\"currentColor\"/>\n",
       "</g>\n",
       "\n",
       "<g class=\"displacy-arrow\">\n",
       "    <path class=\"displacy-arc\" id=\"arrow-8e15af3c389a4cca9668a81041d2e3e2-0-1\" stroke-width=\"2px\" d=\"M245,89.5 C245,2.0 400.0,2.0 400.0,89.5\" fill=\"none\" stroke=\"currentColor\"/>\n",
       "    <text dy=\"1.25em\" style=\"font-size: 0.8em; letter-spacing: 1px\">\n",
       "        <textPath xlink:href=\"#arrow-8e15af3c389a4cca9668a81041d2e3e2-0-1\" class=\"displacy-label\" startOffset=\"50%\" side=\"left\" fill=\"currentColor\" text-anchor=\"middle\">prep</textPath>\n",
       "    </text>\n",
       "    <path class=\"displacy-arrowhead\" d=\"M400.0,91.5 L408.0,79.5 392.0,79.5\" fill=\"currentColor\"/>\n",
       "</g>\n",
       "\n",
       "<g class=\"displacy-arrow\">\n",
       "    <path class=\"displacy-arc\" id=\"arrow-8e15af3c389a4cca9668a81041d2e3e2-0-2\" stroke-width=\"2px\" d=\"M420,89.5 C420,2.0 575.0,2.0 575.0,89.5\" fill=\"none\" stroke=\"currentColor\"/>\n",
       "    <text dy=\"1.25em\" style=\"font-size: 0.8em; letter-spacing: 1px\">\n",
       "        <textPath xlink:href=\"#arrow-8e15af3c389a4cca9668a81041d2e3e2-0-2\" class=\"displacy-label\" startOffset=\"50%\" side=\"left\" fill=\"currentColor\" text-anchor=\"middle\">pobj</textPath>\n",
       "    </text>\n",
       "    <path class=\"displacy-arrowhead\" d=\"M575.0,91.5 L583.0,79.5 567.0,79.5\" fill=\"currentColor\"/>\n",
       "</g>\n",
       "</svg></span>"
      ],
      "text/plain": [
       "<IPython.core.display.HTML object>"
      ]
     },
     "metadata": {},
     "output_type": "display_data"
    }
   ],
   "source": [
    "displacy.render(sent, style=\"dep\")"
   ]
  },
  {
   "cell_type": "code",
   "execution_count": 19,
   "id": "277176dc",
   "metadata": {},
   "outputs": [
    {
     "name": "stdout",
     "output_type": "stream",
     "text": [
      "('bark', 'towards', 'cat')\n"
     ]
    }
   ],
   "source": [
    "def get_tuples(sent):\n",
    "  result = []\n",
    "  for token in sent:\n",
    "    if token.pos_ == \"VERB\":\n",
    "      for child in token.children:\n",
    "        if child.dep_ == \"prep\":\n",
    "          for grandchild in child.children:\n",
    "            if grandchild.pos_ == \"NOUN\":\n",
    "              result.append((token.lemma_, child.lemma_, grandchild.lemma_))\n",
    "  return result\n",
    "\n",
    "tuples = get_tuples(sent)\n",
    "for t in tuples:\n",
    "  print(t)"
   ]
  },
  {
   "cell_type": "markdown",
   "id": "1f4e46d2",
   "metadata": {
    "id": "1f4e46d2"
   },
   "source": [
    "<font color=\"red\">**[ TODO ]**</font>  Please identify all VERB-PREP-NOUN grammar structure in data_doc by traversing the dependency trees and save the results in a list of tuples dep_gp (dependency grammar pattern)."
   ]
  },
  {
   "cell_type": "code",
   "execution_count": 20,
   "id": "c25d7c17",
   "metadata": {
    "id": "c25d7c17"
   },
   "outputs": [
    {
     "name": "stdout",
     "output_type": "stream",
     "text": [
      "7654\n"
     ]
    }
   ],
   "source": [
    "import itertools\n",
    "\n",
    "lists = [get_tuples(sent) for sent in data_doc]\n",
    "dep_gp = list(itertools.chain.from_iterable(lists))\n",
    "print(len(dep_gp))"
   ]
  },
  {
   "cell_type": "code",
   "execution_count": 21,
   "id": "004ad683",
   "metadata": {},
   "outputs": [
    {
     "data": {
      "text/plain": [
       "[('supplement', 'with', 'instrument'),\n",
       " ('use', 'at', 'time'),\n",
       " ('use', 'in', 'case'),\n",
       " ('contribute', 'to', 'achievement'),\n",
       " ('coordinate', 'in', 'order')]"
      ]
     },
     "execution_count": 21,
     "metadata": {},
     "output_type": "execute_result"
    }
   ],
   "source": [
    "dep_gp[:5]"
   ]
  },
  {
   "cell_type": "markdown",
   "id": "3e4b5c69",
   "metadata": {
    "id": "3e4b5c69"
   },
   "source": [
    "<font color=\"red\">**[ TODO ]**</font>  Please print out all VERB-PREP-NOUN grammar patterns in dep_gp with the verb \"charge\".\n"
   ]
  },
  {
   "cell_type": "code",
   "execution_count": 22,
   "id": "48da0488",
   "metadata": {
    "id": "48da0488"
   },
   "outputs": [
    {
     "data": {
      "text/plain": [
       "[('make', 'in', 'order'),\n",
       " ('make', 'on', 'side'),\n",
       " ('make', 'for', 'purpose'),\n",
       " ('make', 'in', 'order'),\n",
       " ('make', 'between', 'quality'),\n",
       " ('make', 'unlike', 'dagongmei'),\n",
       " ('make', 'for', 'distance'),\n",
       " ('make', 'in', 'word'),\n",
       " ('make', 'in', 'transmission'),\n",
       " ('make', 'at', 'conjunction'),\n",
       " ('make', 'in', 'fashion'),\n",
       " ('make', 'give', 'synthesis'),\n",
       " ('make', 'of', 'concentration'),\n",
       " ('make', 'regard', 'outcome'),\n",
       " ('make', 'into', 'brand'),\n",
       " ('make', 'in', 'perspective'),\n",
       " ('make', 'as', 'attempt'),\n",
       " ('make', 'for', 'microphone'),\n",
       " ('make', 'with', 'librarian'),\n",
       " ('make', 'on', 'printer'),\n",
       " ('make', 'with', 'performance'),\n",
       " ('make', 'from', 'perspective'),\n",
       " ('make', 'to', 'low'),\n",
       " ('make', 'in', 'patient'),\n",
       " ('make', 'in', 'time'),\n",
       " ('make', 'among', 'measurement'),\n",
       " ('make', 'as', 'way'),\n",
       " ('make', 'onboard', 'spacecraft'),\n",
       " ('make', 'for', 'interaction'),\n",
       " ('make', 'of', 'segment'),\n",
       " ('make', 'on', 'date'),\n",
       " ('make', 'at', 'pupil'),\n",
       " ('make', 'on', 'thrust'),\n",
       " ('make', 'over', 'range'),\n",
       " ('make', 'in', 'article'),\n",
       " ('make', 'during', 'project'),\n",
       " ('make', 'in', 'term'),\n",
       " ('make', 'of', 'layer'),\n",
       " ('make', 'at', 'zonelevel'),\n",
       " ('make', 'between', 'time'),\n",
       " ('make', 'at', 'moment'),\n",
       " ('make', 'for', 'application'),\n",
       " ('make', 'due', 'utility'),\n",
       " ('make', 'for', 'improvement'),\n",
       " ('make', 'as', 'athlete'),\n",
       " ('make', 'in', 'frame'),\n",
       " ('make', 'to', 'stamp'),\n",
       " ('make', 'with', 'stage'),\n",
       " ('make', 'in', 'work'),\n",
       " ('make', 'of', 'ultrananocluster'),\n",
       " ('make', 'as', 'complement'),\n",
       " ('make', 'of', 'importance'),\n",
       " ('make', 'of', 'sample'),\n",
       " ('make', 'due', 'number'),\n",
       " ('make', 'on', 'development')]"
      ]
     },
     "execution_count": 22,
     "metadata": {},
     "output_type": "execute_result"
    }
   ],
   "source": [
    "[tpl for tpl in dep_gp if tpl[0] == \"make\"]"
   ]
  },
  {
   "cell_type": "markdown",
   "id": "5ee87eef",
   "metadata": {
    "id": "5ee87eef"
   },
   "source": [
    "### Rule Based Methods \n",
    "We can also custom build rules for spacy to match patterns.  \n",
    "[Documentation](https://spacy.io/api/matcher)"
   ]
  },
  {
   "cell_type": "code",
   "execution_count": 23,
   "id": "abc9b3d4",
   "metadata": {
    "id": "abc9b3d4"
   },
   "outputs": [],
   "source": [
    "# Example text\n",
    "text = \"\"\"I visited Manali last time . Around same budget trips ? I was visiting Ladakh this summer . I have planned visiting New York and other abroad places for next year. Have you ever visited Kodaikanal? \"\"\"\n",
    "text = re.sub('\\n', '', text)\n",
    "match_doc = nlp(text)"
   ]
  },
  {
   "cell_type": "code",
   "execution_count": 24,
   "id": "9d053b2f",
   "metadata": {
    "id": "9d053b2f",
    "outputId": "0d9e93f9-4603-43e8-fc99-645a9fe1dad5"
   },
   "outputs": [
    {
     "name": "stdout",
     "output_type": "stream",
     "text": [
      "matches found:  4\n",
      "Match found: visited Manali\n",
      "Match found: visiting Ladakh\n",
      "Match found: visiting New York\n",
      "Match found: visited Kodaikanal\n"
     ]
    }
   ],
   "source": [
    "from spacy.matcher import Matcher \n",
    "\n",
    "# Initialize the matcher\n",
    "matcher = Matcher(nlp.vocab)\n",
    "\n",
    "# Write a pattern that matches a form of \"visit\" + place\n",
    "my_pattern = [{\"LEMMA\": \"visit\"}, {\"POS\": \"PROPN\"}]\n",
    "\n",
    "# Add the pattern to the matcher and apply the matcher to the doc\n",
    "matcher.add(\"Visting_places\", [my_pattern])\n",
    "matches = matcher(match_doc)\n",
    "\n",
    "# Counting the no of matches\n",
    "print(\"matches found: \", len(matches))\n",
    "\n",
    "# Iterate over the matches and print the span text\n",
    "for match_id, start, end in matches:\n",
    "  print(\"Match found:\", match_doc[start:end].text)"
   ]
  },
  {
   "cell_type": "markdown",
   "id": "065b258c",
   "metadata": {
    "id": "065b258c"
   },
   "source": [
    "<font color=\"red\">**[ TODO ]**</font> Please identify all VERB-PREP-NOUN grammar structure in data_doc by applying a matcher rule and store the results in a list of tuples rule_gp. \n"
   ]
  },
  {
   "cell_type": "code",
   "execution_count": 25,
   "id": "7076373d",
   "metadata": {
    "id": "7076373d"
   },
   "outputs": [
    {
     "name": "stdout",
     "output_type": "stream",
     "text": [
      "matches found:  949\n"
     ]
    }
   ],
   "source": [
    "from spacy.tokens import Doc\n",
    "\n",
    "doc = Doc.from_docs(data_doc)\n",
    "matcher = Matcher(nlp.vocab)\n",
    "vpn_pattern = [{\"POS\": \"VERB\"}, {\"DEP\": \"prep\"}, {\"POS\": \"NOUN\"}]\n",
    "matcher.add(\"verb_prep_noun\", [vpn_pattern])\n",
    "matches = matcher(doc)\n",
    "rule_gp = [(doc[start].lemma_, doc[start + 1].lemma_, doc[start + 2].lemma_) for match_id, start, end in matches]\n",
    "print(\"matches found: \", len(rule_gp))"
   ]
  },
  {
   "cell_type": "code",
   "execution_count": 26,
   "id": "e1131453",
   "metadata": {},
   "outputs": [
    {
     "data": {
      "text/plain": [
       "[('supplement', 'with', 'instrument'),\n",
       " ('make', 'in', 'order'),\n",
       " ('result', 'in', 'infertility'),\n",
       " ('lead', 'to', 'damage'),\n",
       " ('take', 'into', 'account')]"
      ]
     },
     "execution_count": 26,
     "metadata": {},
     "output_type": "execute_result"
    }
   ],
   "source": [
    "rule_gp[:5]"
   ]
  },
  {
   "cell_type": "markdown",
   "id": "a4a03652",
   "metadata": {
    "id": "a4a03652"
   },
   "source": [
    "<font color=\"red\">**[ TODO ]**</font>  Please print out all VERB-PREP-NOUN grammar patterns in rule_gp with the verb \"charge\".\n"
   ]
  },
  {
   "cell_type": "code",
   "execution_count": 27,
   "id": "918eeda9",
   "metadata": {
    "id": "918eeda9"
   },
   "outputs": [
    {
     "data": {
      "text/plain": [
       "[('make', 'in', 'order'),\n",
       " ('make', 'of', 'particle'),\n",
       " ('make', 'among', 'org'),\n",
       " ('make', 'on', 'date'),\n",
       " ('make', 'as', 'athlete'),\n",
       " ('make', 'on', 'development')]"
      ]
     },
     "execution_count": 27,
     "metadata": {},
     "output_type": "execute_result"
    }
   ],
   "source": [
    "[tpl for tpl in rule_gp if tpl[0] == \"make\"]"
   ]
  },
  {
   "cell_type": "markdown",
   "id": "69efbb4d",
   "metadata": {
    "id": "69efbb4d"
   },
   "source": [
    "## TA's Notes\n",
    "\n",
    "If you complete the Assignment, please use [this link](https://docs.google.com/spreadsheets/d/1OKbXhcv6E3FEQDPnbHEHEeHvpxv01jxugMP7WwnKqKw/edit#gid=258852025) to reserve demo time.  \n",
    "The score is only given after TAs review your implementation, so <u>**make sure you make a appointment with a TA before you miss the deadline**</u> .  <br>After demo, please upload your assignment to elearn. You just need to hand in this ipynb file and rename it as XXXXXXXXX(Your student ID).ipynb.\n",
    "<br>Note that **late submission will not be allowed**."
   ]
  }
 ],
 "metadata": {
  "colab": {
   "collapsed_sections": [],
   "provenance": []
  },
  "kernelspec": {
   "display_name": "Python 3 (ipykernel)",
   "language": "python",
   "name": "python3"
  },
  "language_info": {
   "codemirror_mode": {
    "name": "ipython",
    "version": 3
   },
   "file_extension": ".py",
   "mimetype": "text/x-python",
   "name": "python",
   "nbconvert_exporter": "python",
   "pygments_lexer": "ipython3",
   "version": "3.8.13"
  }
 },
 "nbformat": 4,
 "nbformat_minor": 5
}
